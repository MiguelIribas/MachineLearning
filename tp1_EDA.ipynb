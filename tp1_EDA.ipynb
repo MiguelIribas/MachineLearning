{
 "cells": [
  {
   "cell_type": "markdown",
   "id": "6d097e1e",
   "metadata": {
    "slideshow": {
     "slide_type": "subslide"
    }
   },
   "source": [
    "# INSTAGRAM: DETECCIÓN DE USUARIOS FALSOS\n",
    "\n",
    "Instagram es una de las redes sociales mas utilizadas en el mundo. Desde su lanzamiento en 2010 ha crecido considerablemente y actualmente cuenta con mas de 100 millones de usuarios activos. \n",
    "Diariamente se crean miles de cuentas por parte de usuarios nuevos que se introducen a la aplicacion pero producto de su gran uso masivo, es cada vez mas común encontrar cuentas de usuarios falsas creadas para fines especificos como robo de identidad, viralización de sitios maliciosos, entre otros.\n",
    "\n",
    "Este trabajo tiene como objetivo, a partir de un conjunto de datos tomados de los perfiles de usuarios de Instagram, predecir cuales de ellos son **reales** y cuales son **falsos**, utilizados como Bots o Spam.\n",
    "\n",
    "Dataset elegido: https://www.kaggle.com/krpurba/fakeauthentic-user-instagram"
   ]
  },
  {
   "cell_type": "markdown",
   "id": "appropriate-transcription",
   "metadata": {
    "slideshow": {
     "slide_type": "subslide"
    }
   },
   "source": [
    "## DESCRIPCIÓN DE LAS VARIABLES\n",
    "\n",
    "<table>\n",
    "    <tr>\n",
    "        <td><strong>Variable</strong></td>\n",
    "        <td><strong>Definicion</strong></td>\n",
    "        <td><strong>Es utilizada?</strong></td>\n",
    "        <td><strong>Entrada/Salida</strong></td>        \n",
    "        <td><strong>Valor</strong></td>\n",
    "    </tr>\n",
    "    <tr>\n",
    "        <td>pos</td>\n",
    "        <td>Cantidad de publicaciones totales</td>\n",
    "        <td>Si</td>\n",
    "        <td>Entrada</td>\n",
    "        <td></td>\n",
    "    </tr>\n",
    "    <tr>\n",
    "        <td>flw</td>\n",
    "        <td>Cantidad de seguidos</td>\n",
    "        <td>Si</td>\n",
    "        <td>Entrada</td>\n",
    "        <td></td>\n",
    "    </tr>\n",
    "    <tr>\n",
    "        <td>flg</td>\n",
    "        <td>Cantidad de seguidores</td>\n",
    "        <td>Si</td>\n",
    "        <td>Entrada</td>\n",
    "        <td></td>\n",
    "    </tr>\n",
    "    <tr>\n",
    "        <td>bl</td>\n",
    "        <td>Cantidad de caracteres de la biografía</td>\n",
    "        <td>Si</td>\n",
    "        <td>Entrada</td>\n",
    "        <td></td>\n",
    "    </tr>\n",
    "    <tr>\n",
    "        <td>pic</td>\n",
    "        <td>Contiene imagen de perfil</td>\n",
    "        <td>Si</td>\n",
    "        <td>Entrada</td>\n",
    "        <td>0 = NO tiene / 1 = Tiene</td>\n",
    "    </tr>\n",
    "    <tr>\n",
    "        <td>lin</td>\n",
    "        <td>Contiene URL externa</td>\n",
    "        <td>Si</td>\n",
    "        <td>Entrada</td>\n",
    "        <td>0 = NO tiene / 1 = Tiene</td>\n",
    "    </tr>\n",
    "    <tr>\n",
    "        <td>cl</td>\n",
    "        <td>Número medio de caracteres de longitud de las publicaciones</td>\n",
    "        <td>Si</td>\n",
    "        <td>Entrada</td>\n",
    "        <td></td>\n",
    "    </tr>\n",
    "    <tr>\n",
    "        <td>cz</td>\n",
    "        <td>Porcentaje de publicaciones con cantidad de caracteres casi nula</td>\n",
    "        <td>Si</td>\n",
    "        <td>Entrada</td>\n",
    "        <td>Entre 0.0 y 1.0</td>\n",
    "    </tr>\n",
    "    <tr>\n",
    "        <td>ni</td>\n",
    "        <td>Porcentaje de publicaciones sin imagenes</td>\n",
    "        <td>Si</td>\n",
    "        <td>Entrada</td>\n",
    "        <td>Entre 0.0 y 1.0</td>\n",
    "    </tr>\n",
    "    <tr>\n",
    "        <td>erl</td>\n",
    "        <td>Tasa de participación en Likes: Cantidad likes / Cantidad publicaciones / Nro seguidores</td>\n",
    "        <td>Si</td>\n",
    "        <td>Entrada</td>\n",
    "        <td></td>\n",
    "    </tr>\n",
    "    <tr>\n",
    "        <td>erc</td>\n",
    "        <td>Tasa de participación en Comentarios: Cantidad comentarios / Cantidad publicaciones / Nro seguidores </td>\n",
    "        <td>Si</td>\n",
    "        <td>Entrada</td>\n",
    "        <td></td>\n",
    "    </tr>\n",
    "    <tr>\n",
    "        <td>lt</td>\n",
    "        <td>Porcentaje de publicaciones con ubicación</td>\n",
    "        <td>Si</td>\n",
    "        <td>Entrada</td>\n",
    "        <td>Entre 0.0 y 1.0</td>\n",
    "    </tr>\n",
    "    <tr>\n",
    "        <td>hc</td>\n",
    "        <td>Número medio de hashtags utilizados en una publicación</td>\n",
    "        <td>Si</td>\n",
    "        <td>Entrada</td>\n",
    "        <td></td>\n",
    "    </tr>\n",
    "    <tr>\n",
    "        <td>pr</td>\n",
    "        <td>Uso promedio de palabras clave promocionales en hashtags (ej: regrann, contest, repost, giveaway, mention, share, give away, quiz)</td>\n",
    "        <td>Si</td>\n",
    "        <td>Entrada</td>\n",
    "        <td></td>\n",
    "    <tr>\n",
    "        <td>fo</td>\n",
    "        <td>Uso promedio de palabras claves de interacción en hashtags (ej: follow, like, follback)</td>\n",
    "        <td>Si</td>\n",
    "        <td>Entrada</td>\n",
    "        <td></td>\n",
    "    </tr>\n",
    "    <tr>\n",
    "        <td>cs</td>\n",
    "        <td>Similitud de coseno promedio de entre todos los pares de dos publicaciones que tiene un usuario</td>\n",
    "        <td>Si</td>\n",
    "        <td>Entrada</td>\n",
    "        <td></td>\n",
    "    </tr>\n",
    "    <tr>\n",
    "        <td>pi</td>\n",
    "        <td>Intervalo medio entre publicaciones (en horas)</td>\n",
    "        <td>Si</td>\n",
    "        <td>Entrada</td>\n",
    "        <td></td>\n",
    "    </tr>\n",
    "    <tr>\n",
    "        <td>class</td>\n",
    "        <td>Clase de Usuario</td>\n",
    "        <td>Si</td>\n",
    "        <td>Salida</td>\n",
    "        <td>f = fake / r =real</td>\n",
    "    </tr>\n",
    "</table>\n",
    "\n"
   ]
  },
  {
   "cell_type": "code",
   "execution_count": 1,
   "id": "subjective-interaction",
   "metadata": {
    "slideshow": {
     "slide_type": "subslide"
    }
   },
   "outputs": [],
   "source": [
    "import pandas as pd\n",
    "import numpy as np\n",
    "%matplotlib inline\n",
    "import matplotlib.pyplot as plt\n",
    "import seaborn as sns"
   ]
  },
  {
   "cell_type": "code",
   "execution_count": 2,
   "id": "protected-friday",
   "metadata": {
    "slideshow": {
     "slide_type": "fragment"
    }
   },
   "outputs": [],
   "source": [
    "dataset_original = pd.read_csv('instagram.csv')\n",
    "\n",
    "dataset = dataset_original\n",
    "\n",
    "renamed_columns = {'pos':'post','flw':'followers','flg':'following','bl':'biography_lenght','pic':'profile_picture','lin':'external_url','cl':'post_lenght','cz':'post_lenght_null','ni':'none_image','erl':'engagement_rate_likes','erc':'engagement_rate_comments','lt':'post_location','hc':'hashtags_post','pr':'hashtags_promotional','fo':'hashtags_followers','cs':'cosine_similarity','pi':'interval_post','class':'user_class'}\n",
    "\n",
    "dataset.rename(columns = renamed_columns, inplace = True)\n"
   ]
  },
  {
   "cell_type": "markdown",
   "id": "changed-advisory",
   "metadata": {},
   "source": [
    "## DESCRIPCIÓN GENERAL DE LOS DATOS"
   ]
  },
  {
   "cell_type": "code",
   "execution_count": 3,
   "id": "corporate-savannah",
   "metadata": {},
   "outputs": [
    {
     "data": {
      "text/plain": [
       "(65326, 18)"
      ]
     },
     "execution_count": 3,
     "metadata": {},
     "output_type": "execute_result"
    }
   ],
   "source": [
    "# Dimensiones del dataset\n",
    "dataset.shape"
   ]
  },
  {
   "cell_type": "code",
   "execution_count": 4,
   "id": "isolated-alliance",
   "metadata": {
    "scrolled": true
   },
   "outputs": [
    {
     "data": {
      "text/html": [
       "<div>\n",
       "<style scoped>\n",
       "    .dataframe tbody tr th:only-of-type {\n",
       "        vertical-align: middle;\n",
       "    }\n",
       "\n",
       "    .dataframe tbody tr th {\n",
       "        vertical-align: top;\n",
       "    }\n",
       "\n",
       "    .dataframe thead th {\n",
       "        text-align: right;\n",
       "    }\n",
       "</style>\n",
       "<table border=\"1\" class=\"dataframe\">\n",
       "  <thead>\n",
       "    <tr style=\"text-align: right;\">\n",
       "      <th></th>\n",
       "      <th>post</th>\n",
       "      <th>followers</th>\n",
       "      <th>following</th>\n",
       "      <th>biography_lenght</th>\n",
       "      <th>profile_picture</th>\n",
       "      <th>external_url</th>\n",
       "      <th>post_lenght</th>\n",
       "      <th>post_lenght_null</th>\n",
       "      <th>none_image</th>\n",
       "      <th>engagement_rate_likes</th>\n",
       "      <th>engagement_rate_comments</th>\n",
       "      <th>post_location</th>\n",
       "      <th>hashtags_post</th>\n",
       "      <th>hashtags_promotional</th>\n",
       "      <th>hashtags_followers</th>\n",
       "      <th>cosine_similarity</th>\n",
       "      <th>interval_post</th>\n",
       "      <th>user_class</th>\n",
       "    </tr>\n",
       "  </thead>\n",
       "  <tbody>\n",
       "    <tr>\n",
       "      <th>47142</th>\n",
       "      <td>11</td>\n",
       "      <td>35</td>\n",
       "      <td>55</td>\n",
       "      <td>107</td>\n",
       "      <td>1</td>\n",
       "      <td>1</td>\n",
       "      <td>503</td>\n",
       "      <td>0.000000</td>\n",
       "      <td>0.545</td>\n",
       "      <td>13.250000</td>\n",
       "      <td>2.08</td>\n",
       "      <td>0.455</td>\n",
       "      <td>0.000</td>\n",
       "      <td>0.000</td>\n",
       "      <td>0.091</td>\n",
       "      <td>0.278972</td>\n",
       "      <td>202.780685</td>\n",
       "      <td>r</td>\n",
       "    </tr>\n",
       "    <tr>\n",
       "      <th>20373</th>\n",
       "      <td>142</td>\n",
       "      <td>636</td>\n",
       "      <td>953</td>\n",
       "      <td>55</td>\n",
       "      <td>1</td>\n",
       "      <td>0</td>\n",
       "      <td>336</td>\n",
       "      <td>0.111111</td>\n",
       "      <td>0.444</td>\n",
       "      <td>1.810000</td>\n",
       "      <td>0.20</td>\n",
       "      <td>0.000</td>\n",
       "      <td>0.611</td>\n",
       "      <td>0.167</td>\n",
       "      <td>0.000</td>\n",
       "      <td>0.060034</td>\n",
       "      <td>173.564484</td>\n",
       "      <td>f</td>\n",
       "    </tr>\n",
       "    <tr>\n",
       "      <th>64108</th>\n",
       "      <td>1</td>\n",
       "      <td>9</td>\n",
       "      <td>79</td>\n",
       "      <td>0</td>\n",
       "      <td>1</td>\n",
       "      <td>0</td>\n",
       "      <td>0</td>\n",
       "      <td>1.000000</td>\n",
       "      <td>0.000</td>\n",
       "      <td>244.440002</td>\n",
       "      <td>11.11</td>\n",
       "      <td>0.000</td>\n",
       "      <td>0.000</td>\n",
       "      <td>0.000</td>\n",
       "      <td>0.000</td>\n",
       "      <td>0.000000</td>\n",
       "      <td>0.000000</td>\n",
       "      <td>r</td>\n",
       "    </tr>\n",
       "    <tr>\n",
       "      <th>9362</th>\n",
       "      <td>845</td>\n",
       "      <td>540</td>\n",
       "      <td>1200</td>\n",
       "      <td>147</td>\n",
       "      <td>1</td>\n",
       "      <td>0</td>\n",
       "      <td>60</td>\n",
       "      <td>0.000000</td>\n",
       "      <td>0.278</td>\n",
       "      <td>2.370000</td>\n",
       "      <td>0.22</td>\n",
       "      <td>0.333</td>\n",
       "      <td>0.278</td>\n",
       "      <td>0.000</td>\n",
       "      <td>0.000</td>\n",
       "      <td>0.043721</td>\n",
       "      <td>127.351341</td>\n",
       "      <td>f</td>\n",
       "    </tr>\n",
       "    <tr>\n",
       "      <th>42259</th>\n",
       "      <td>8400</td>\n",
       "      <td>132900</td>\n",
       "      <td>4900</td>\n",
       "      <td>110</td>\n",
       "      <td>1</td>\n",
       "      <td>1</td>\n",
       "      <td>120</td>\n",
       "      <td>0.000000</td>\n",
       "      <td>0.500</td>\n",
       "      <td>0.180000</td>\n",
       "      <td>0.00</td>\n",
       "      <td>0.000</td>\n",
       "      <td>2.083</td>\n",
       "      <td>0.000</td>\n",
       "      <td>0.000</td>\n",
       "      <td>0.200337</td>\n",
       "      <td>6.245185</td>\n",
       "      <td>r</td>\n",
       "    </tr>\n",
       "    <tr>\n",
       "      <th>58642</th>\n",
       "      <td>43</td>\n",
       "      <td>179</td>\n",
       "      <td>821</td>\n",
       "      <td>0</td>\n",
       "      <td>1</td>\n",
       "      <td>0</td>\n",
       "      <td>85</td>\n",
       "      <td>0.055556</td>\n",
       "      <td>0.111</td>\n",
       "      <td>14.840000</td>\n",
       "      <td>0.74</td>\n",
       "      <td>0.278</td>\n",
       "      <td>0.500</td>\n",
       "      <td>0.000</td>\n",
       "      <td>0.000</td>\n",
       "      <td>0.368933</td>\n",
       "      <td>362.328766</td>\n",
       "      <td>r</td>\n",
       "    </tr>\n",
       "    <tr>\n",
       "      <th>13327</th>\n",
       "      <td>1100</td>\n",
       "      <td>570</td>\n",
       "      <td>3100</td>\n",
       "      <td>19</td>\n",
       "      <td>1</td>\n",
       "      <td>1</td>\n",
       "      <td>10</td>\n",
       "      <td>0.944444</td>\n",
       "      <td>0.000</td>\n",
       "      <td>1.390000</td>\n",
       "      <td>0.04</td>\n",
       "      <td>0.056</td>\n",
       "      <td>0.000</td>\n",
       "      <td>0.000</td>\n",
       "      <td>0.000</td>\n",
       "      <td>0.888889</td>\n",
       "      <td>36.087685</td>\n",
       "      <td>f</td>\n",
       "    </tr>\n",
       "    <tr>\n",
       "      <th>60843</th>\n",
       "      <td>56</td>\n",
       "      <td>496</td>\n",
       "      <td>2100</td>\n",
       "      <td>0</td>\n",
       "      <td>1</td>\n",
       "      <td>0</td>\n",
       "      <td>100</td>\n",
       "      <td>0.277778</td>\n",
       "      <td>0.111</td>\n",
       "      <td>11.820000</td>\n",
       "      <td>0.77</td>\n",
       "      <td>0.000</td>\n",
       "      <td>0.611</td>\n",
       "      <td>0.000</td>\n",
       "      <td>0.000</td>\n",
       "      <td>0.085970</td>\n",
       "      <td>564.645569</td>\n",
       "      <td>r</td>\n",
       "    </tr>\n",
       "    <tr>\n",
       "      <th>45899</th>\n",
       "      <td>10</td>\n",
       "      <td>132</td>\n",
       "      <td>1400</td>\n",
       "      <td>11</td>\n",
       "      <td>1</td>\n",
       "      <td>1</td>\n",
       "      <td>34</td>\n",
       "      <td>0.100000</td>\n",
       "      <td>0.000</td>\n",
       "      <td>26.889999</td>\n",
       "      <td>1.82</td>\n",
       "      <td>0.000</td>\n",
       "      <td>1.000</td>\n",
       "      <td>0.000</td>\n",
       "      <td>0.000</td>\n",
       "      <td>0.069810</td>\n",
       "      <td>336.062042</td>\n",
       "      <td>r</td>\n",
       "    </tr>\n",
       "    <tr>\n",
       "      <th>40596</th>\n",
       "      <td>170</td>\n",
       "      <td>294</td>\n",
       "      <td>34</td>\n",
       "      <td>69</td>\n",
       "      <td>1</td>\n",
       "      <td>1</td>\n",
       "      <td>171</td>\n",
       "      <td>0.000000</td>\n",
       "      <td>0.222</td>\n",
       "      <td>7.800000</td>\n",
       "      <td>0.02</td>\n",
       "      <td>0.056</td>\n",
       "      <td>0.222</td>\n",
       "      <td>0.000</td>\n",
       "      <td>0.111</td>\n",
       "      <td>0.138353</td>\n",
       "      <td>126.355713</td>\n",
       "      <td>r</td>\n",
       "    </tr>\n",
       "  </tbody>\n",
       "</table>\n",
       "</div>"
      ],
      "text/plain": [
       "       post  followers  following  biography_lenght  profile_picture  \\\n",
       "47142    11         35         55               107                1   \n",
       "20373   142        636        953                55                1   \n",
       "64108     1          9         79                 0                1   \n",
       "9362    845        540       1200               147                1   \n",
       "42259  8400     132900       4900               110                1   \n",
       "58642    43        179        821                 0                1   \n",
       "13327  1100        570       3100                19                1   \n",
       "60843    56        496       2100                 0                1   \n",
       "45899    10        132       1400                11                1   \n",
       "40596   170        294         34                69                1   \n",
       "\n",
       "       external_url  post_lenght  post_lenght_null  none_image  \\\n",
       "47142             1          503          0.000000       0.545   \n",
       "20373             0          336          0.111111       0.444   \n",
       "64108             0            0          1.000000       0.000   \n",
       "9362              0           60          0.000000       0.278   \n",
       "42259             1          120          0.000000       0.500   \n",
       "58642             0           85          0.055556       0.111   \n",
       "13327             1           10          0.944444       0.000   \n",
       "60843             0          100          0.277778       0.111   \n",
       "45899             1           34          0.100000       0.000   \n",
       "40596             1          171          0.000000       0.222   \n",
       "\n",
       "       engagement_rate_likes  engagement_rate_comments  post_location  \\\n",
       "47142              13.250000                      2.08          0.455   \n",
       "20373               1.810000                      0.20          0.000   \n",
       "64108             244.440002                     11.11          0.000   \n",
       "9362                2.370000                      0.22          0.333   \n",
       "42259               0.180000                      0.00          0.000   \n",
       "58642              14.840000                      0.74          0.278   \n",
       "13327               1.390000                      0.04          0.056   \n",
       "60843              11.820000                      0.77          0.000   \n",
       "45899              26.889999                      1.82          0.000   \n",
       "40596               7.800000                      0.02          0.056   \n",
       "\n",
       "       hashtags_post  hashtags_promotional  hashtags_followers  \\\n",
       "47142          0.000                 0.000               0.091   \n",
       "20373          0.611                 0.167               0.000   \n",
       "64108          0.000                 0.000               0.000   \n",
       "9362           0.278                 0.000               0.000   \n",
       "42259          2.083                 0.000               0.000   \n",
       "58642          0.500                 0.000               0.000   \n",
       "13327          0.000                 0.000               0.000   \n",
       "60843          0.611                 0.000               0.000   \n",
       "45899          1.000                 0.000               0.000   \n",
       "40596          0.222                 0.000               0.111   \n",
       "\n",
       "       cosine_similarity  interval_post user_class  \n",
       "47142           0.278972     202.780685          r  \n",
       "20373           0.060034     173.564484          f  \n",
       "64108           0.000000       0.000000          r  \n",
       "9362            0.043721     127.351341          f  \n",
       "42259           0.200337       6.245185          r  \n",
       "58642           0.368933     362.328766          r  \n",
       "13327           0.888889      36.087685          f  \n",
       "60843           0.085970     564.645569          r  \n",
       "45899           0.069810     336.062042          r  \n",
       "40596           0.138353     126.355713          r  "
      ]
     },
     "execution_count": 4,
     "metadata": {},
     "output_type": "execute_result"
    }
   ],
   "source": [
    "# Ejemplos del dataset\n",
    "dataset.sample(10)"
   ]
  },
  {
   "cell_type": "code",
   "execution_count": 5,
   "id": "promising-recipient",
   "metadata": {
    "scrolled": false
   },
   "outputs": [
    {
     "data": {
      "text/html": [
       "<div>\n",
       "<style scoped>\n",
       "    .dataframe tbody tr th:only-of-type {\n",
       "        vertical-align: middle;\n",
       "    }\n",
       "\n",
       "    .dataframe tbody tr th {\n",
       "        vertical-align: top;\n",
       "    }\n",
       "\n",
       "    .dataframe thead th {\n",
       "        text-align: right;\n",
       "    }\n",
       "</style>\n",
       "<table border=\"1\" class=\"dataframe\">\n",
       "  <thead>\n",
       "    <tr style=\"text-align: right;\">\n",
       "      <th></th>\n",
       "      <th>post</th>\n",
       "      <th>followers</th>\n",
       "      <th>following</th>\n",
       "      <th>biography_lenght</th>\n",
       "      <th>profile_picture</th>\n",
       "      <th>external_url</th>\n",
       "      <th>post_lenght</th>\n",
       "      <th>post_lenght_null</th>\n",
       "      <th>none_image</th>\n",
       "      <th>engagement_rate_likes</th>\n",
       "      <th>engagement_rate_comments</th>\n",
       "      <th>post_location</th>\n",
       "      <th>hashtags_post</th>\n",
       "      <th>hashtags_promotional</th>\n",
       "      <th>hashtags_followers</th>\n",
       "      <th>cosine_similarity</th>\n",
       "      <th>interval_post</th>\n",
       "    </tr>\n",
       "  </thead>\n",
       "  <tbody>\n",
       "    <tr>\n",
       "      <th>count</th>\n",
       "      <td>65326.000000</td>\n",
       "      <td>6.532600e+04</td>\n",
       "      <td>65326.000000</td>\n",
       "      <td>65326.000000</td>\n",
       "      <td>65326.000000</td>\n",
       "      <td>65326.000000</td>\n",
       "      <td>65326.000000</td>\n",
       "      <td>65326.000000</td>\n",
       "      <td>65326.000000</td>\n",
       "      <td>65326.000000</td>\n",
       "      <td>65326.000000</td>\n",
       "      <td>65326.000000</td>\n",
       "      <td>65326.000000</td>\n",
       "      <td>65326.000000</td>\n",
       "      <td>65326.000000</td>\n",
       "      <td>65326.000000</td>\n",
       "      <td>65326.000000</td>\n",
       "    </tr>\n",
       "    <tr>\n",
       "      <th>mean</th>\n",
       "      <td>176.571227</td>\n",
       "      <td>1.183077e+03</td>\n",
       "      <td>2310.519211</td>\n",
       "      <td>57.497061</td>\n",
       "      <td>0.951765</td>\n",
       "      <td>0.281925</td>\n",
       "      <td>136.520344</td>\n",
       "      <td>0.250012</td>\n",
       "      <td>0.193229</td>\n",
       "      <td>19.146641</td>\n",
       "      <td>1.139421</td>\n",
       "      <td>0.208877</td>\n",
       "      <td>0.507796</td>\n",
       "      <td>0.032745</td>\n",
       "      <td>0.052837</td>\n",
       "      <td>0.299098</td>\n",
       "      <td>496.475193</td>\n",
       "    </tr>\n",
       "    <tr>\n",
       "      <th>std</th>\n",
       "      <td>723.470655</td>\n",
       "      <td>2.170802e+04</td>\n",
       "      <td>2592.096104</td>\n",
       "      <td>64.129260</td>\n",
       "      <td>0.214264</td>\n",
       "      <td>0.449940</td>\n",
       "      <td>215.714486</td>\n",
       "      <td>0.337891</td>\n",
       "      <td>0.252939</td>\n",
       "      <td>121.047570</td>\n",
       "      <td>5.810627</td>\n",
       "      <td>0.300362</td>\n",
       "      <td>1.156921</td>\n",
       "      <td>0.220987</td>\n",
       "      <td>0.519058</td>\n",
       "      <td>0.349604</td>\n",
       "      <td>944.905389</td>\n",
       "    </tr>\n",
       "    <tr>\n",
       "      <th>min</th>\n",
       "      <td>0.000000</td>\n",
       "      <td>0.000000e+00</td>\n",
       "      <td>0.000000</td>\n",
       "      <td>0.000000</td>\n",
       "      <td>0.000000</td>\n",
       "      <td>0.000000</td>\n",
       "      <td>-1.000000</td>\n",
       "      <td>0.000000</td>\n",
       "      <td>0.000000</td>\n",
       "      <td>0.000000</td>\n",
       "      <td>0.000000</td>\n",
       "      <td>0.000000</td>\n",
       "      <td>0.000000</td>\n",
       "      <td>0.000000</td>\n",
       "      <td>0.000000</td>\n",
       "      <td>0.000000</td>\n",
       "      <td>0.000000</td>\n",
       "    </tr>\n",
       "    <tr>\n",
       "      <th>25%</th>\n",
       "      <td>6.000000</td>\n",
       "      <td>1.230000e+02</td>\n",
       "      <td>394.000000</td>\n",
       "      <td>0.000000</td>\n",
       "      <td>1.000000</td>\n",
       "      <td>0.000000</td>\n",
       "      <td>8.000000</td>\n",
       "      <td>0.000000</td>\n",
       "      <td>0.000000</td>\n",
       "      <td>2.730000</td>\n",
       "      <td>0.080000</td>\n",
       "      <td>0.000000</td>\n",
       "      <td>0.000000</td>\n",
       "      <td>0.000000</td>\n",
       "      <td>0.000000</td>\n",
       "      <td>0.033327</td>\n",
       "      <td>24.571458</td>\n",
       "    </tr>\n",
       "    <tr>\n",
       "      <th>50%</th>\n",
       "      <td>30.000000</td>\n",
       "      <td>3.380000e+02</td>\n",
       "      <td>995.000000</td>\n",
       "      <td>32.000000</td>\n",
       "      <td>1.000000</td>\n",
       "      <td>0.000000</td>\n",
       "      <td>46.000000</td>\n",
       "      <td>0.055556</td>\n",
       "      <td>0.059000</td>\n",
       "      <td>9.450000</td>\n",
       "      <td>0.440000</td>\n",
       "      <td>0.000000</td>\n",
       "      <td>0.077000</td>\n",
       "      <td>0.000000</td>\n",
       "      <td>0.000000</td>\n",
       "      <td>0.136915</td>\n",
       "      <td>183.227943</td>\n",
       "    </tr>\n",
       "    <tr>\n",
       "      <th>75%</th>\n",
       "      <td>124.000000</td>\n",
       "      <td>8.170000e+02</td>\n",
       "      <td>3600.000000</td>\n",
       "      <td>110.000000</td>\n",
       "      <td>1.000000</td>\n",
       "      <td>1.000000</td>\n",
       "      <td>170.000000</td>\n",
       "      <td>0.444444</td>\n",
       "      <td>0.333000</td>\n",
       "      <td>18.680000</td>\n",
       "      <td>1.040000</td>\n",
       "      <td>0.333000</td>\n",
       "      <td>0.611000</td>\n",
       "      <td>0.000000</td>\n",
       "      <td>0.000000</td>\n",
       "      <td>0.456342</td>\n",
       "      <td>580.771927</td>\n",
       "    </tr>\n",
       "    <tr>\n",
       "      <th>max</th>\n",
       "      <td>76200.000000</td>\n",
       "      <td>3.900000e+06</td>\n",
       "      <td>8800.000000</td>\n",
       "      <td>555.000000</td>\n",
       "      <td>1.000000</td>\n",
       "      <td>1.000000</td>\n",
       "      <td>3644.000000</td>\n",
       "      <td>1.000000</td>\n",
       "      <td>1.000000</td>\n",
       "      <td>26650.000000</td>\n",
       "      <td>1009.090027</td>\n",
       "      <td>1.000000</td>\n",
       "      <td>30.000000</td>\n",
       "      <td>20.000000</td>\n",
       "      <td>58.000000</td>\n",
       "      <td>1.000000</td>\n",
       "      <td>26786.134766</td>\n",
       "    </tr>\n",
       "  </tbody>\n",
       "</table>\n",
       "</div>"
      ],
      "text/plain": [
       "               post     followers     following  biography_lenght  \\\n",
       "count  65326.000000  6.532600e+04  65326.000000      65326.000000   \n",
       "mean     176.571227  1.183077e+03   2310.519211         57.497061   \n",
       "std      723.470655  2.170802e+04   2592.096104         64.129260   \n",
       "min        0.000000  0.000000e+00      0.000000          0.000000   \n",
       "25%        6.000000  1.230000e+02    394.000000          0.000000   \n",
       "50%       30.000000  3.380000e+02    995.000000         32.000000   \n",
       "75%      124.000000  8.170000e+02   3600.000000        110.000000   \n",
       "max    76200.000000  3.900000e+06   8800.000000        555.000000   \n",
       "\n",
       "       profile_picture  external_url   post_lenght  post_lenght_null  \\\n",
       "count     65326.000000  65326.000000  65326.000000      65326.000000   \n",
       "mean          0.951765      0.281925    136.520344          0.250012   \n",
       "std           0.214264      0.449940    215.714486          0.337891   \n",
       "min           0.000000      0.000000     -1.000000          0.000000   \n",
       "25%           1.000000      0.000000      8.000000          0.000000   \n",
       "50%           1.000000      0.000000     46.000000          0.055556   \n",
       "75%           1.000000      1.000000    170.000000          0.444444   \n",
       "max           1.000000      1.000000   3644.000000          1.000000   \n",
       "\n",
       "         none_image  engagement_rate_likes  engagement_rate_comments  \\\n",
       "count  65326.000000           65326.000000              65326.000000   \n",
       "mean       0.193229              19.146641                  1.139421   \n",
       "std        0.252939             121.047570                  5.810627   \n",
       "min        0.000000               0.000000                  0.000000   \n",
       "25%        0.000000               2.730000                  0.080000   \n",
       "50%        0.059000               9.450000                  0.440000   \n",
       "75%        0.333000              18.680000                  1.040000   \n",
       "max        1.000000           26650.000000               1009.090027   \n",
       "\n",
       "       post_location  hashtags_post  hashtags_promotional  hashtags_followers  \\\n",
       "count   65326.000000   65326.000000          65326.000000        65326.000000   \n",
       "mean        0.208877       0.507796              0.032745            0.052837   \n",
       "std         0.300362       1.156921              0.220987            0.519058   \n",
       "min         0.000000       0.000000              0.000000            0.000000   \n",
       "25%         0.000000       0.000000              0.000000            0.000000   \n",
       "50%         0.000000       0.077000              0.000000            0.000000   \n",
       "75%         0.333000       0.611000              0.000000            0.000000   \n",
       "max         1.000000      30.000000             20.000000           58.000000   \n",
       "\n",
       "       cosine_similarity  interval_post  \n",
       "count       65326.000000   65326.000000  \n",
       "mean            0.299098     496.475193  \n",
       "std             0.349604     944.905389  \n",
       "min             0.000000       0.000000  \n",
       "25%             0.033327      24.571458  \n",
       "50%             0.136915     183.227943  \n",
       "75%             0.456342     580.771927  \n",
       "max             1.000000   26786.134766  "
      ]
     },
     "execution_count": 5,
     "metadata": {},
     "output_type": "execute_result"
    }
   ],
   "source": [
    "# Datos estadisticos\n",
    "dataset.describe()"
   ]
  },
  {
   "cell_type": "code",
   "execution_count": 6,
   "id": "agricultural-falls",
   "metadata": {
    "scrolled": true
   },
   "outputs": [
    {
     "data": {
      "text/plain": [
       "post                        0\n",
       "followers                   0\n",
       "following                   0\n",
       "biography_lenght            0\n",
       "profile_picture             0\n",
       "external_url                0\n",
       "post_lenght                 0\n",
       "post_lenght_null            0\n",
       "none_image                  0\n",
       "engagement_rate_likes       0\n",
       "engagement_rate_comments    0\n",
       "post_location               0\n",
       "hashtags_post               0\n",
       "hashtags_promotional        0\n",
       "hashtags_followers          0\n",
       "cosine_similarity           0\n",
       "interval_post               0\n",
       "user_class                  0\n",
       "dtype: int64"
      ]
     },
     "execution_count": 6,
     "metadata": {},
     "output_type": "execute_result"
    }
   ],
   "source": [
    "# Datos nulos por columna\n",
    "dataset.isnull().sum()"
   ]
  },
  {
   "cell_type": "markdown",
   "id": "interested-assurance",
   "metadata": {},
   "source": [
    "# Descripcion de la variable de salida"
   ]
  },
  {
   "cell_type": "code",
   "execution_count": 7,
   "id": "close-sherman",
   "metadata": {
    "scrolled": true
   },
   "outputs": [
    {
     "data": {
      "text/plain": [
       "Text(0.5, 1.0, 'Clases de usuarios')"
      ]
     },
     "execution_count": 7,
     "metadata": {},
     "output_type": "execute_result"
    },
    {
     "data": {
      "image/png": "[encoded data removed]",
      "text/plain": [
       "<Figure size 360x360 with 1 Axes>"
      ]
     },
     "metadata": {},
     "output_type": "display_data"
    }
   ],
   "source": [
    "# Balanceo de datos\n",
    "\n",
    "dataset.user_class.value_counts().plot.pie(autopct='%1.0f%%', figsize=(5,5)).set_title('Clases de usuarios')\n"
   ]
  },
  {
   "cell_type": "markdown",
   "id": "first-constant",
   "metadata": {},
   "source": [
    "Tal como se visualiza en el gráfico anterior, los datos de la **variable de salida** se encuentran **balanceados** ya que dentro del dataset existe la misma proporción de usuarios reales y falsos. Al estar balanceados los datos no tendremos consecuencias para predecir la clasificación de nuevos usuarios. "
   ]
  },
  {
   "cell_type": "markdown",
   "id": "shared-gazette",
   "metadata": {},
   "source": [
    "# Descripción de 5 variables de entrada que afectan a la variable de salida"
   ]
  },
  {
   "cell_type": "markdown",
   "id": "b5b20270",
   "metadata": {},
   "source": [
    "### Variable: profile_picture "
   ]
  },
  {
   "cell_type": "markdown",
   "id": "03ceb7f2",
   "metadata": {},
   "source": [
    "La variable profile_picture describe la cantidad de cuentas que tienen o no foto de perfil. \n",
    "\n",
    "Los valores posibles son: 0 (si no posee foto de perfil) y 1 (si posee foto de perfil)"
   ]
  },
  {
   "cell_type": "code",
   "execution_count": 8,
   "id": "external-acceptance",
   "metadata": {
    "scrolled": true
   },
   "outputs": [
    {
     "data": {
      "text/plain": [
       "<AxesSubplot:>"
      ]
     },
     "execution_count": 8,
     "metadata": {},
     "output_type": "execute_result"
    },
    {
     "data": {
      "image/png": "[encoded data removed]",
      "text/plain": [
       "<Figure size 432x288 with 1 Axes>"
      ]
     },
     "metadata": {
      "needs_background": "light"
     },
     "output_type": "display_data"
    }
   ],
   "source": [
    "dataset.profile_picture.value_counts().sort_index().plot.bar()"
   ]
  },
  {
   "cell_type": "markdown",
   "id": "223c762d",
   "metadata": {},
   "source": [
    "Dentro del dataset observamos que la gran mayoria de cuentas poseen foto de perfil."
   ]
  },
  {
   "cell_type": "markdown",
   "id": "a0e94e09",
   "metadata": {},
   "source": [
    "#### Comportamiento con la variable de salida"
   ]
  },
  {
   "cell_type": "code",
   "execution_count": 9,
   "id": "094e7e5c",
   "metadata": {},
   "outputs": [
    {
     "data": {
      "image/png": "[encoded data removed]",
      "text/plain": [
       "<Figure size 432x288 with 1 Axes>"
      ]
     },
     "metadata": {
      "needs_background": "light"
     },
     "output_type": "display_data"
    }
   ],
   "source": [
    "labels = ['Falsos','Reales']\n",
    "con_foto = [len(dataset[(dataset.profile_picture == 1) & (dataset.user_class == 'f')]),\n",
    "          len(dataset[(dataset.profile_picture == 1) & (dataset.user_class == 'r')])]\n",
    "\n",
    "sin_foto = [len(dataset[(dataset.profile_picture == 0) & (dataset.user_class == 'f')]),\n",
    "            len(dataset[(dataset.profile_picture == 0) & (dataset.user_class == 'r')])]\n",
    "\n",
    "x = np.arange(len(labels))  \n",
    "width = 0.20  \n",
    "\n",
    "fig, ax = plt.subplots()\n",
    "rects1 = ax.bar(x - width/2, con_foto, width, label='Tiene foto')\n",
    "rects2 = ax.bar(x + width/2, sin_foto, width, label='NO tiene foto')\n",
    "\n",
    "ax.set_ylabel('Cantidad de cuentas')\n",
    "ax.set_title('Clases de usuarios con o sin foto de perfil')\n",
    "ax.set_xticks(x)\n",
    "ax.set_xticklabels(labels)\n",
    "ax.legend()\n",
    "\n",
    "ax.bar_label(rects1, padding=3)\n",
    "ax.bar_label(rects2, padding=3)\n",
    "\n",
    "fig.tight_layout()\n",
    "\n",
    "plt.show()"
   ]
  },
  {
   "cell_type": "markdown",
   "id": "b4e83b9b",
   "metadata": {},
   "source": [
    "Tanto para usuarios falsos como reales, la mayoría de cuentas poseen foto de perfil. Sin embargo se puede notar que la **cantidad de usuarios falsos sin foto de perfil** es **mayor** que la **cantidad de usuarios reales sin foto de perfil.** "
   ]
  },
  {
   "cell_type": "markdown",
   "id": "matched-helmet",
   "metadata": {},
   "source": [
    "### Variable: external_url \n"
   ]
  },
  {
   "cell_type": "markdown",
   "id": "70ea3e1c",
   "metadata": {},
   "source": [
    "La variable external_url describe la cantidad de cuentas que tienen o no URL externa.\n",
    "\n",
    "Los valores posibles son: 0 (si no posee URL externa) y 1 (si posee URL externa)\n"
   ]
  },
  {
   "cell_type": "code",
   "execution_count": 10,
   "id": "forced-wound",
   "metadata": {
    "scrolled": true
   },
   "outputs": [
    {
     "data": {
      "text/plain": [
       "<AxesSubplot:>"
      ]
     },
     "execution_count": 10,
     "metadata": {},
     "output_type": "execute_result"
    },
    {
     "data": {
      "image/png": "[encoded data removed]",
      "text/plain": [
       "<Figure size 432x288 with 1 Axes>"
      ]
     },
     "metadata": {
      "needs_background": "light"
     },
     "output_type": "display_data"
    }
   ],
   "source": [
    "dataset.external_url.value_counts().sort_index().plot.bar()"
   ]
  },
  {
   "cell_type": "markdown",
   "id": "7ff542bb",
   "metadata": {},
   "source": [
    "Dentro del dataset observamos que la gran mayoria de cuentas no tienen URL externa."
   ]
  },
  {
   "cell_type": "markdown",
   "id": "461440e8",
   "metadata": {},
   "source": [
    "#### Comportamiento con la variable de salida"
   ]
  },
  {
   "cell_type": "code",
   "execution_count": 11,
   "id": "78a04c7e",
   "metadata": {
    "scrolled": true
   },
   "outputs": [
    {
     "data": {
      "image/png": "[encoded data removed]",
      "text/plain": [
       "<Figure size 432x288 with 1 Axes>"
      ]
     },
     "metadata": {
      "needs_background": "light"
     },
     "output_type": "display_data"
    }
   ],
   "source": [
    "labels = ['Falsos','Reales']\n",
    "con_foto = [len(dataset[(dataset.external_url == 1) & (dataset.user_class == 'f')]),\n",
    "          len(dataset[(dataset.external_url == 1) & (dataset.user_class == 'r')])]\n",
    "\n",
    "sin_foto = [len(dataset[(dataset.external_url == 0) & (dataset.user_class == 'f')]),\n",
    "            len(dataset[(dataset.external_url == 0) & (dataset.user_class == 'r')])]\n",
    "\n",
    "x = np.arange(len(labels))  \n",
    "width = 0.20  \n",
    "\n",
    "fig, ax = plt.subplots()\n",
    "rects1 = ax.bar(x - width/2, con_foto, width, label='Tiene URL externa')\n",
    "rects2 = ax.bar(x + width/2, sin_foto, width, label='NO tiene URL externa')\n",
    "\n",
    "ax.set_ylabel('Cantidad de cuentas')\n",
    "ax.set_title('Clases de usuarios con o sin URL externa')\n",
    "ax.set_xticks(x)\n",
    "ax.set_xticklabels(labels)\n",
    "ax.legend()\n",
    "\n",
    "ax.bar_label(rects1, padding=3)\n",
    "ax.bar_label(rects2, padding=3)\n",
    "\n",
    "fig.tight_layout()\n",
    "\n",
    "plt.show()"
   ]
  },
  {
   "cell_type": "markdown",
   "id": "93912fb6",
   "metadata": {},
   "source": [
    "Tanto para usuarios falsos como reales, la mayoría de cuentas no poseen URL externa. Sin embargo se puede notar que la cantidad de usuarios falsos sin URL externa es mayor que la cantidad de usuarios reales sin URL externa o bien la cantidad de usuarios reales poseen mas URLs externas que los falsos."
   ]
  },
  {
   "cell_type": "code",
   "execution_count": null,
   "id": "rising-letters",
   "metadata": {},
   "outputs": [],
   "source": [
    "# FALTARIA:\n",
    "# Con o sin ubicacion\n",
    "# Con o sin hastags promocionales\n",
    "# Intervalo de horas\n",
    "# Correlaciones entre variables"
   ]
  }
 ],
 "metadata": {
  "celltoolbar": "Slideshow",
  "kernelspec": {
   "display_name": "Python 3",
   "language": "python",
   "name": "python3"
  },
  "language_info": {
   "codemirror_mode": {
    "name": "ipython",
    "version": 3
   },
   "file_extension": ".py",
   "mimetype": "text/x-python",
   "name": "python",
   "nbconvert_exporter": "python",
   "pygments_lexer": "ipython3",
   "version": "3.8.6"
  }
 },
 "nbformat": 4,
 "nbformat_minor": 5
}
