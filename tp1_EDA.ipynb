{
 "cells": [
  {
   "cell_type": "markdown",
   "id": "certified-range",
   "metadata": {
    "slideshow": {
     "slide_type": "subslide"
    }
   },
   "source": [
    "**INSTAGRAM: DETECCIÓN DE USUARIOS FALSOS**\n",
    "\n",
    "Instagram es una de las redes sociales mas utilizadas en el mundo. Diariamente se crean miles de cuentas por parte de usuarios nuevos, pero también entre ellos personas que quieren suplantar la identidad de otra.\n",
    "Al tener un uso tan masivo, es cada vez mas comùn encontrar estafas o actividades maliciosas por parte de ciertos usuarios que no muestran su verdadera identidad, y que se suman a la red social con el único objetivo de realizar ilícitos.\n",
    "\n",
    "dirigiendo a otros sitios cuentas falsas,\n",
    "\n",
    "A partir de un conjunto de datos tomados de los perfiles de usuarios de Instagram se intentará predecir cuales de ellos son **reales** y cuales son **falsos**, utilizados como Bots o Spam.\n",
    "\n",
    "https://www.kaggle.com/krpurba/fakeauthentic-user-instagram"
   ]
  },
  {
   "cell_type": "markdown",
   "id": "sealed-leone",
   "metadata": {
    "slideshow": {
     "slide_type": "fragment"
    }
   },
   "source": [
    "imagen"
   ]
  },
  {
   "cell_type": "markdown",
   "id": "appropriate-transcription",
   "metadata": {
    "slideshow": {
     "slide_type": "subslide"
    }
   },
   "source": [
    "## DESCRIPCIÓN DE LAS VARIABLES\n",
    "\n",
    "<table>\n",
    "    <tr>\n",
    "        <td><strong>Variable</strong></td>\n",
    "        <td><strong>Definicion</strong></td>\n",
    "        <td><strong>Es utilizada?</strong></td>\n",
    "        <td><strong>Entrada/Salida</strong></td>        \n",
    "        <td><strong>Valor</strong></td>\n",
    "    </tr>\n",
    "    <tr>\n",
    "        <td>pos</td>\n",
    "        <td>Cantidad de publicaciones totales</td>\n",
    "        <td>Si</td>\n",
    "        <td>Entrada</td>\n",
    "        <td></td>\n",
    "    </tr>\n",
    "    <tr>\n",
    "        <td>flw</td>\n",
    "        <td>Cantidad de seguidos.</td>\n",
    "        <td>Si</td>\n",
    "        <td>Entrada</td>\n",
    "        <td></td>\n",
    "    </tr>\n",
    "    <tr>\n",
    "        <td>flg</td>\n",
    "        <td>Cantidad de seguidores</td>\n",
    "        <td>Si</td>\n",
    "        <td>Entrada</td>\n",
    "        <td></td>\n",
    "    </tr>\n",
    "    <tr>\n",
    "        <td>bl</td>\n",
    "        <td>Cantidad de caracteres de la biografía</td>\n",
    "        <td>Si</td>\n",
    "        <td>Entrada</td>\n",
    "        <td></td>\n",
    "    </tr>\n",
    "    <tr>\n",
    "        <td>pic</td>\n",
    "        <td>Contiene imagen de perfil.</td>\n",
    "        <td>Si</td>\n",
    "        <td>Entrada</td>\n",
    "        <td>0 = NO tiene / 1 = Tiene</td>\n",
    "    </tr>\n",
    "    <tr>\n",
    "        <td>lin</td>\n",
    "        <td>Contiene URL externa</td>\n",
    "        <td>Si</td>\n",
    "        <td>Entrada</td>\n",
    "        <td>0 = NO tiene / 1 = Tiene</td>\n",
    "    </tr>\n",
    "    <tr>\n",
    "        <td>cl</td>\n",
    "        <td>Número medio de caracteres de longitud de las publicaciones</td>\n",
    "        <td>Si</td>\n",
    "        <td>Entrada</td>\n",
    "        <td></td>\n",
    "    </tr>\n",
    "    <tr>\n",
    "        <td>cz</td>\n",
    "        <td>Porcentaje de publicaciones con cantidad de caracteres casi nula</td>\n",
    "        <td>Si</td>\n",
    "        <td>Entrada</td>\n",
    "        <td></td>\n",
    "    </tr>\n",
    "    <tr>\n",
    "        <td>ni</td>\n",
    "        <td>Porcentaje de publicaciones sin imagenes.</td>\n",
    "        <td>Si</td>\n",
    "        <td>Entrada</td>\n",
    "        <td></td>\n",
    "    </tr>\n",
    "    <tr>\n",
    "        <td>erl</td>\n",
    "        <td>Tasa de participación (Me Gusta). Cantidad MG / Cantidad publicaciones / Nro seguidores</td>\n",
    "        <td>No</td>\n",
    "        <td>-</td>\n",
    "        <td></td>\n",
    "    </tr>\n",
    "    <tr>\n",
    "        <td>erc</td>\n",
    "        <td>Tasa de participación (Comentarios). Cantidad Comentarios / Cantidad publicaciones / Nro seguidores </td>\n",
    "        <td>No</td>\n",
    "        <td>-</td>\n",
    "        <td></td>\n",
    "    </tr>\n",
    "    <tr>\n",
    "        <td>lt</td>\n",
    "        <td>Porcentaje de publicaciones con ubicación</td>\n",
    "        <td>Si</td>\n",
    "        <td>Entrada</td>\n",
    "        <td></td>\n",
    "    </tr>\n",
    "    <tr>\n",
    "        <td>hc</td>\n",
    "        <td>Número medio de hashtags utilizados en una publicación</td>\n",
    "        <td>Si</td>\n",
    "        <td>Entrada</td>\n",
    "        <td></td>\n",
    "    </tr>\n",
    "    <tr>\n",
    "        <td>pr</td>\n",
    "        <td>Uso promedio de palabras clave promocionales en hashtags (ej: regrann, contest, repost, giveaway, mention, share, give away, quiz)</td>\n",
    "        <td>Si</td>\n",
    "        <td>Entrada</td>\n",
    "    <tr>\n",
    "        <td>fo</td>\n",
    "        <td>Uso promedio de palabras claves de interacción en hashtags (ej: follow, like, follback)</td>\n",
    "        <td>Si</td>\n",
    "        <td>Entrada</td>\n",
    "        <td></td>\n",
    "    </tr>\n",
    "    <tr>\n",
    "        <td>cs</td>\n",
    "        <td>Similitud de coseno promedio de entre todos los pares de dos publicaciones que tiene un usuario</td>\n",
    "        <td>No</td>\n",
    "        <td>-</td>\n",
    "        <td></td>\n",
    "    </tr>\n",
    "    <tr>\n",
    "        <td>pi</td>\n",
    "        <td>Intervalo medio entre publicaciones (en horas)</td>\n",
    "        <td>Si</td>\n",
    "        <td>Entrada</td>\n",
    "        <td></td>\n",
    "    </tr>\n",
    "    <tr>\n",
    "        <td>class</td>\n",
    "        <td>Clase de Usuario</td>\n",
    "        <td>Si</td>\n",
    "        <td>Salida</td>\n",
    "        <td>f = fake / r =real</td>\n",
    "    </tr>\n",
    "</table>\n",
    "\n",
    "Las columnas **erl, erc** y **cs** no serán utilizadas ya que corresponden a cálculos realizados por el dueño del dataset y que al no tener los datos de las variables de la ecuacion no tenemos forma de corroborar que los calculos sean correctos.\n",
    "Ej: erl --> Tasa de participación (Me Gusta). Cantidad MG / Cantidad publicaciones / Nro seguidores\n",
    "\n",
    "No tenemos la cantidad de MG para corroborar que el cálculo sea veridico."
   ]
  },
  {
   "cell_type": "code",
   "execution_count": 2,
   "id": "subjective-interaction",
   "metadata": {
    "slideshow": {
     "slide_type": "subslide"
    }
   },
   "outputs": [],
   "source": [
    "import pandas as pd\n",
    "import numpy as np\n",
    "%matplotlib inline\n",
    "import matplotlib.pyplot as plt\n",
    "import seaborn as sns"
   ]
  },
  {
   "cell_type": "code",
   "execution_count": 29,
   "id": "protected-friday",
   "metadata": {
    "slideshow": {
     "slide_type": "fragment"
    }
   },
   "outputs": [],
   "source": [
    "dataset_original = pd.read_csv('instagram.csv')\n",
    "\n",
    "renamed_columns = {'pos':'post','flw':'followers','flg':'following','bl':'biography_lenght','pic':'profile_picture','lin':'external_url','cl':'post_lenght','cz':'post_lenght_null','ni':'none_image','erl':'erl','erc':'erc','lt':'post_location','hc':'hashtags_post','pr':'hashtags_promotional','fo':'hashtags_followers','cs':'cs','pi':'interval_post','class':'clase'}\n",
    "\n",
    "dataset_original.rename(columns = renamed_columns, inplace = True)\n",
    "\n",
    "dataset = dataset_original\n",
    "\n",
    "# Eliminar las columnas que no usamos\n",
    "del dataset['erl']\n",
    "del dataset['erc']\n",
    "del dataset['cs']\n",
    "\n"
   ]
  },
  {
   "cell_type": "markdown",
   "id": "changed-advisory",
   "metadata": {},
   "source": [
    "## DESCRIPCIÓN GENERAL DE LOS DATOS"
   ]
  },
  {
   "cell_type": "code",
   "execution_count": 8,
   "id": "corporate-savannah",
   "metadata": {},
   "outputs": [
    {
     "data": {
      "text/plain": [
       "(65326, 15)"
      ]
     },
     "execution_count": 8,
     "metadata": {},
     "output_type": "execute_result"
    }
   ],
   "source": [
    "# Dimensiones del dataset\n",
    "dataset.shape"
   ]
  },
  {
   "cell_type": "code",
   "execution_count": 22,
   "id": "isolated-alliance",
   "metadata": {
    "scrolled": true
   },
   "outputs": [
    {
     "data": {
      "text/html": [
       "<div>\n",
       "<style scoped>\n",
       "    .dataframe tbody tr th:only-of-type {\n",
       "        vertical-align: middle;\n",
       "    }\n",
       "\n",
       "    .dataframe tbody tr th {\n",
       "        vertical-align: top;\n",
       "    }\n",
       "\n",
       "    .dataframe thead th {\n",
       "        text-align: right;\n",
       "    }\n",
       "</style>\n",
       "<table border=\"1\" class=\"dataframe\">\n",
       "  <thead>\n",
       "    <tr style=\"text-align: right;\">\n",
       "      <th></th>\n",
       "      <th>post</th>\n",
       "      <th>followers</th>\n",
       "      <th>following</th>\n",
       "      <th>biography_lenght</th>\n",
       "      <th>profile_picture</th>\n",
       "      <th>external_url</th>\n",
       "      <th>post_lenght</th>\n",
       "      <th>post_lenght_null</th>\n",
       "      <th>none_image</th>\n",
       "      <th>post_location</th>\n",
       "      <th>hashtags_post</th>\n",
       "      <th>hashtags_promotional</th>\n",
       "      <th>hashtags_followers</th>\n",
       "      <th>interval_post</th>\n",
       "      <th>class</th>\n",
       "    </tr>\n",
       "  </thead>\n",
       "  <tbody>\n",
       "    <tr>\n",
       "      <th>62754</th>\n",
       "      <td>162</td>\n",
       "      <td>599</td>\n",
       "      <td>700</td>\n",
       "      <td>21</td>\n",
       "      <td>1</td>\n",
       "      <td>0</td>\n",
       "      <td>555</td>\n",
       "      <td>0.000000</td>\n",
       "      <td>0.889</td>\n",
       "      <td>0.000</td>\n",
       "      <td>0.000</td>\n",
       "      <td>0.0</td>\n",
       "      <td>0.0</td>\n",
       "      <td>447.553619</td>\n",
       "      <td>r</td>\n",
       "    </tr>\n",
       "    <tr>\n",
       "      <th>9632</th>\n",
       "      <td>243</td>\n",
       "      <td>1100</td>\n",
       "      <td>7100</td>\n",
       "      <td>141</td>\n",
       "      <td>1</td>\n",
       "      <td>0</td>\n",
       "      <td>0</td>\n",
       "      <td>1.000000</td>\n",
       "      <td>0.222</td>\n",
       "      <td>0.000</td>\n",
       "      <td>0.000</td>\n",
       "      <td>0.0</td>\n",
       "      <td>0.0</td>\n",
       "      <td>19.170000</td>\n",
       "      <td>f</td>\n",
       "    </tr>\n",
       "    <tr>\n",
       "      <th>48709</th>\n",
       "      <td>1</td>\n",
       "      <td>170</td>\n",
       "      <td>307</td>\n",
       "      <td>32</td>\n",
       "      <td>1</td>\n",
       "      <td>0</td>\n",
       "      <td>11</td>\n",
       "      <td>0.000000</td>\n",
       "      <td>0.000</td>\n",
       "      <td>0.000</td>\n",
       "      <td>0.000</td>\n",
       "      <td>0.0</td>\n",
       "      <td>0.0</td>\n",
       "      <td>0.000000</td>\n",
       "      <td>r</td>\n",
       "    </tr>\n",
       "    <tr>\n",
       "      <th>48282</th>\n",
       "      <td>165</td>\n",
       "      <td>480</td>\n",
       "      <td>646</td>\n",
       "      <td>150</td>\n",
       "      <td>1</td>\n",
       "      <td>0</td>\n",
       "      <td>131</td>\n",
       "      <td>0.000000</td>\n",
       "      <td>0.000</td>\n",
       "      <td>0.056</td>\n",
       "      <td>0.278</td>\n",
       "      <td>0.0</td>\n",
       "      <td>0.0</td>\n",
       "      <td>1013.794250</td>\n",
       "      <td>r</td>\n",
       "    </tr>\n",
       "    <tr>\n",
       "      <th>13142</th>\n",
       "      <td>9</td>\n",
       "      <td>57</td>\n",
       "      <td>533</td>\n",
       "      <td>0</td>\n",
       "      <td>1</td>\n",
       "      <td>0</td>\n",
       "      <td>0</td>\n",
       "      <td>1.000000</td>\n",
       "      <td>0.000</td>\n",
       "      <td>0.000</td>\n",
       "      <td>0.000</td>\n",
       "      <td>0.0</td>\n",
       "      <td>0.0</td>\n",
       "      <td>0.005926</td>\n",
       "      <td>f</td>\n",
       "    </tr>\n",
       "    <tr>\n",
       "      <th>5009</th>\n",
       "      <td>138</td>\n",
       "      <td>611</td>\n",
       "      <td>4600</td>\n",
       "      <td>104</td>\n",
       "      <td>1</td>\n",
       "      <td>1</td>\n",
       "      <td>132</td>\n",
       "      <td>0.111111</td>\n",
       "      <td>0.556</td>\n",
       "      <td>0.389</td>\n",
       "      <td>0.667</td>\n",
       "      <td>0.0</td>\n",
       "      <td>0.0</td>\n",
       "      <td>710.064087</td>\n",
       "      <td>f</td>\n",
       "    </tr>\n",
       "    <tr>\n",
       "      <th>31376</th>\n",
       "      <td>87</td>\n",
       "      <td>1300</td>\n",
       "      <td>7100</td>\n",
       "      <td>0</td>\n",
       "      <td>1</td>\n",
       "      <td>0</td>\n",
       "      <td>213</td>\n",
       "      <td>0.000000</td>\n",
       "      <td>0.000</td>\n",
       "      <td>0.167</td>\n",
       "      <td>3.667</td>\n",
       "      <td>0.0</td>\n",
       "      <td>0.0</td>\n",
       "      <td>253.885666</td>\n",
       "      <td>f</td>\n",
       "    </tr>\n",
       "    <tr>\n",
       "      <th>34289</th>\n",
       "      <td>206</td>\n",
       "      <td>400</td>\n",
       "      <td>536</td>\n",
       "      <td>172</td>\n",
       "      <td>1</td>\n",
       "      <td>1</td>\n",
       "      <td>229</td>\n",
       "      <td>0.000000</td>\n",
       "      <td>0.333</td>\n",
       "      <td>0.778</td>\n",
       "      <td>1.389</td>\n",
       "      <td>0.0</td>\n",
       "      <td>0.0</td>\n",
       "      <td>534.073791</td>\n",
       "      <td>r</td>\n",
       "    </tr>\n",
       "    <tr>\n",
       "      <th>23761</th>\n",
       "      <td>1</td>\n",
       "      <td>104</td>\n",
       "      <td>7400</td>\n",
       "      <td>126</td>\n",
       "      <td>1</td>\n",
       "      <td>0</td>\n",
       "      <td>0</td>\n",
       "      <td>1.000000</td>\n",
       "      <td>0.000</td>\n",
       "      <td>0.000</td>\n",
       "      <td>0.000</td>\n",
       "      <td>0.0</td>\n",
       "      <td>0.0</td>\n",
       "      <td>0.000000</td>\n",
       "      <td>f</td>\n",
       "    </tr>\n",
       "    <tr>\n",
       "      <th>11795</th>\n",
       "      <td>14</td>\n",
       "      <td>373</td>\n",
       "      <td>2200</td>\n",
       "      <td>0</td>\n",
       "      <td>1</td>\n",
       "      <td>0</td>\n",
       "      <td>28</td>\n",
       "      <td>0.142857</td>\n",
       "      <td>0.357</td>\n",
       "      <td>0.071</td>\n",
       "      <td>0.000</td>\n",
       "      <td>0.0</td>\n",
       "      <td>0.0</td>\n",
       "      <td>449.718842</td>\n",
       "      <td>f</td>\n",
       "    </tr>\n",
       "  </tbody>\n",
       "</table>\n",
       "</div>"
      ],
      "text/plain": [
       "       post  followers  following  biography_lenght  profile_picture  \\\n",
       "62754   162        599        700                21                1   \n",
       "9632    243       1100       7100               141                1   \n",
       "48709     1        170        307                32                1   \n",
       "48282   165        480        646               150                1   \n",
       "13142     9         57        533                 0                1   \n",
       "5009    138        611       4600               104                1   \n",
       "31376    87       1300       7100                 0                1   \n",
       "34289   206        400        536               172                1   \n",
       "23761     1        104       7400               126                1   \n",
       "11795    14        373       2200                 0                1   \n",
       "\n",
       "       external_url  post_lenght  post_lenght_null  none_image  post_location  \\\n",
       "62754             0          555          0.000000       0.889          0.000   \n",
       "9632              0            0          1.000000       0.222          0.000   \n",
       "48709             0           11          0.000000       0.000          0.000   \n",
       "48282             0          131          0.000000       0.000          0.056   \n",
       "13142             0            0          1.000000       0.000          0.000   \n",
       "5009              1          132          0.111111       0.556          0.389   \n",
       "31376             0          213          0.000000       0.000          0.167   \n",
       "34289             1          229          0.000000       0.333          0.778   \n",
       "23761             0            0          1.000000       0.000          0.000   \n",
       "11795             0           28          0.142857       0.357          0.071   \n",
       "\n",
       "       hashtags_post  hashtags_promotional  hashtags_followers  interval_post  \\\n",
       "62754          0.000                   0.0                 0.0     447.553619   \n",
       "9632           0.000                   0.0                 0.0      19.170000   \n",
       "48709          0.000                   0.0                 0.0       0.000000   \n",
       "48282          0.278                   0.0                 0.0    1013.794250   \n",
       "13142          0.000                   0.0                 0.0       0.005926   \n",
       "5009           0.667                   0.0                 0.0     710.064087   \n",
       "31376          3.667                   0.0                 0.0     253.885666   \n",
       "34289          1.389                   0.0                 0.0     534.073791   \n",
       "23761          0.000                   0.0                 0.0       0.000000   \n",
       "11795          0.000                   0.0                 0.0     449.718842   \n",
       "\n",
       "      class  \n",
       "62754     r  \n",
       "9632      f  \n",
       "48709     r  \n",
       "48282     r  \n",
       "13142     f  \n",
       "5009      f  \n",
       "31376     f  \n",
       "34289     r  \n",
       "23761     f  \n",
       "11795     f  "
      ]
     },
     "execution_count": 22,
     "metadata": {},
     "output_type": "execute_result"
    }
   ],
   "source": [
    "# Ejemplos del dataset\n",
    "dataset.sample(10)"
   ]
  },
  {
   "cell_type": "code",
   "execution_count": 23,
   "id": "promising-recipient",
   "metadata": {
    "scrolled": true
   },
   "outputs": [
    {
     "data": {
      "text/html": [
       "<div>\n",
       "<style scoped>\n",
       "    .dataframe tbody tr th:only-of-type {\n",
       "        vertical-align: middle;\n",
       "    }\n",
       "\n",
       "    .dataframe tbody tr th {\n",
       "        vertical-align: top;\n",
       "    }\n",
       "\n",
       "    .dataframe thead th {\n",
       "        text-align: right;\n",
       "    }\n",
       "</style>\n",
       "<table border=\"1\" class=\"dataframe\">\n",
       "  <thead>\n",
       "    <tr style=\"text-align: right;\">\n",
       "      <th></th>\n",
       "      <th>post</th>\n",
       "      <th>followers</th>\n",
       "      <th>following</th>\n",
       "      <th>biography_lenght</th>\n",
       "      <th>profile_picture</th>\n",
       "      <th>external_url</th>\n",
       "      <th>post_lenght</th>\n",
       "      <th>post_lenght_null</th>\n",
       "      <th>none_image</th>\n",
       "      <th>post_location</th>\n",
       "      <th>hashtags_post</th>\n",
       "      <th>hashtags_promotional</th>\n",
       "      <th>hashtags_followers</th>\n",
       "      <th>interval_post</th>\n",
       "    </tr>\n",
       "  </thead>\n",
       "  <tbody>\n",
       "    <tr>\n",
       "      <th>count</th>\n",
       "      <td>65326.000000</td>\n",
       "      <td>6.532600e+04</td>\n",
       "      <td>65326.000000</td>\n",
       "      <td>65326.000000</td>\n",
       "      <td>65326.000000</td>\n",
       "      <td>65326.000000</td>\n",
       "      <td>65326.000000</td>\n",
       "      <td>65326.000000</td>\n",
       "      <td>65326.000000</td>\n",
       "      <td>65326.000000</td>\n",
       "      <td>65326.000000</td>\n",
       "      <td>65326.000000</td>\n",
       "      <td>65326.000000</td>\n",
       "      <td>65326.000000</td>\n",
       "    </tr>\n",
       "    <tr>\n",
       "      <th>mean</th>\n",
       "      <td>176.571227</td>\n",
       "      <td>1.183077e+03</td>\n",
       "      <td>2310.519211</td>\n",
       "      <td>57.497061</td>\n",
       "      <td>0.951765</td>\n",
       "      <td>0.281925</td>\n",
       "      <td>136.520344</td>\n",
       "      <td>0.250012</td>\n",
       "      <td>0.193229</td>\n",
       "      <td>0.208877</td>\n",
       "      <td>0.507796</td>\n",
       "      <td>0.032745</td>\n",
       "      <td>0.052837</td>\n",
       "      <td>496.475193</td>\n",
       "    </tr>\n",
       "    <tr>\n",
       "      <th>std</th>\n",
       "      <td>723.470655</td>\n",
       "      <td>2.170802e+04</td>\n",
       "      <td>2592.096104</td>\n",
       "      <td>64.129260</td>\n",
       "      <td>0.214264</td>\n",
       "      <td>0.449940</td>\n",
       "      <td>215.714486</td>\n",
       "      <td>0.337891</td>\n",
       "      <td>0.252939</td>\n",
       "      <td>0.300362</td>\n",
       "      <td>1.156921</td>\n",
       "      <td>0.220987</td>\n",
       "      <td>0.519058</td>\n",
       "      <td>944.905389</td>\n",
       "    </tr>\n",
       "    <tr>\n",
       "      <th>min</th>\n",
       "      <td>0.000000</td>\n",
       "      <td>0.000000e+00</td>\n",
       "      <td>0.000000</td>\n",
       "      <td>0.000000</td>\n",
       "      <td>0.000000</td>\n",
       "      <td>0.000000</td>\n",
       "      <td>-1.000000</td>\n",
       "      <td>0.000000</td>\n",
       "      <td>0.000000</td>\n",
       "      <td>0.000000</td>\n",
       "      <td>0.000000</td>\n",
       "      <td>0.000000</td>\n",
       "      <td>0.000000</td>\n",
       "      <td>0.000000</td>\n",
       "    </tr>\n",
       "    <tr>\n",
       "      <th>25%</th>\n",
       "      <td>6.000000</td>\n",
       "      <td>1.230000e+02</td>\n",
       "      <td>394.000000</td>\n",
       "      <td>0.000000</td>\n",
       "      <td>1.000000</td>\n",
       "      <td>0.000000</td>\n",
       "      <td>8.000000</td>\n",
       "      <td>0.000000</td>\n",
       "      <td>0.000000</td>\n",
       "      <td>0.000000</td>\n",
       "      <td>0.000000</td>\n",
       "      <td>0.000000</td>\n",
       "      <td>0.000000</td>\n",
       "      <td>24.571458</td>\n",
       "    </tr>\n",
       "    <tr>\n",
       "      <th>50%</th>\n",
       "      <td>30.000000</td>\n",
       "      <td>3.380000e+02</td>\n",
       "      <td>995.000000</td>\n",
       "      <td>32.000000</td>\n",
       "      <td>1.000000</td>\n",
       "      <td>0.000000</td>\n",
       "      <td>46.000000</td>\n",
       "      <td>0.055556</td>\n",
       "      <td>0.059000</td>\n",
       "      <td>0.000000</td>\n",
       "      <td>0.077000</td>\n",
       "      <td>0.000000</td>\n",
       "      <td>0.000000</td>\n",
       "      <td>183.227943</td>\n",
       "    </tr>\n",
       "    <tr>\n",
       "      <th>75%</th>\n",
       "      <td>124.000000</td>\n",
       "      <td>8.170000e+02</td>\n",
       "      <td>3600.000000</td>\n",
       "      <td>110.000000</td>\n",
       "      <td>1.000000</td>\n",
       "      <td>1.000000</td>\n",
       "      <td>170.000000</td>\n",
       "      <td>0.444444</td>\n",
       "      <td>0.333000</td>\n",
       "      <td>0.333000</td>\n",
       "      <td>0.611000</td>\n",
       "      <td>0.000000</td>\n",
       "      <td>0.000000</td>\n",
       "      <td>580.771927</td>\n",
       "    </tr>\n",
       "    <tr>\n",
       "      <th>max</th>\n",
       "      <td>76200.000000</td>\n",
       "      <td>3.900000e+06</td>\n",
       "      <td>8800.000000</td>\n",
       "      <td>555.000000</td>\n",
       "      <td>1.000000</td>\n",
       "      <td>1.000000</td>\n",
       "      <td>3644.000000</td>\n",
       "      <td>1.000000</td>\n",
       "      <td>1.000000</td>\n",
       "      <td>1.000000</td>\n",
       "      <td>30.000000</td>\n",
       "      <td>20.000000</td>\n",
       "      <td>58.000000</td>\n",
       "      <td>26786.134766</td>\n",
       "    </tr>\n",
       "  </tbody>\n",
       "</table>\n",
       "</div>"
      ],
      "text/plain": [
       "               post     followers     following  biography_lenght  \\\n",
       "count  65326.000000  6.532600e+04  65326.000000      65326.000000   \n",
       "mean     176.571227  1.183077e+03   2310.519211         57.497061   \n",
       "std      723.470655  2.170802e+04   2592.096104         64.129260   \n",
       "min        0.000000  0.000000e+00      0.000000          0.000000   \n",
       "25%        6.000000  1.230000e+02    394.000000          0.000000   \n",
       "50%       30.000000  3.380000e+02    995.000000         32.000000   \n",
       "75%      124.000000  8.170000e+02   3600.000000        110.000000   \n",
       "max    76200.000000  3.900000e+06   8800.000000        555.000000   \n",
       "\n",
       "       profile_picture  external_url   post_lenght  post_lenght_null  \\\n",
       "count     65326.000000  65326.000000  65326.000000      65326.000000   \n",
       "mean          0.951765      0.281925    136.520344          0.250012   \n",
       "std           0.214264      0.449940    215.714486          0.337891   \n",
       "min           0.000000      0.000000     -1.000000          0.000000   \n",
       "25%           1.000000      0.000000      8.000000          0.000000   \n",
       "50%           1.000000      0.000000     46.000000          0.055556   \n",
       "75%           1.000000      1.000000    170.000000          0.444444   \n",
       "max           1.000000      1.000000   3644.000000          1.000000   \n",
       "\n",
       "         none_image  post_location  hashtags_post  hashtags_promotional  \\\n",
       "count  65326.000000   65326.000000   65326.000000          65326.000000   \n",
       "mean       0.193229       0.208877       0.507796              0.032745   \n",
       "std        0.252939       0.300362       1.156921              0.220987   \n",
       "min        0.000000       0.000000       0.000000              0.000000   \n",
       "25%        0.000000       0.000000       0.000000              0.000000   \n",
       "50%        0.059000       0.000000       0.077000              0.000000   \n",
       "75%        0.333000       0.333000       0.611000              0.000000   \n",
       "max        1.000000       1.000000      30.000000             20.000000   \n",
       "\n",
       "       hashtags_followers  interval_post  \n",
       "count        65326.000000   65326.000000  \n",
       "mean             0.052837     496.475193  \n",
       "std              0.519058     944.905389  \n",
       "min              0.000000       0.000000  \n",
       "25%              0.000000      24.571458  \n",
       "50%              0.000000     183.227943  \n",
       "75%              0.000000     580.771927  \n",
       "max             58.000000   26786.134766  "
      ]
     },
     "execution_count": 23,
     "metadata": {},
     "output_type": "execute_result"
    }
   ],
   "source": [
    "# Datos estadisticos\n",
    "dataset.describe()"
   ]
  },
  {
   "cell_type": "code",
   "execution_count": 24,
   "id": "agricultural-falls",
   "metadata": {
    "scrolled": false
   },
   "outputs": [
    {
     "data": {
      "text/plain": [
       "post                    0\n",
       "followers               0\n",
       "following               0\n",
       "biography_lenght        0\n",
       "profile_picture         0\n",
       "external_url            0\n",
       "post_lenght             0\n",
       "post_lenght_null        0\n",
       "none_image              0\n",
       "post_location           0\n",
       "hashtags_post           0\n",
       "hashtags_promotional    0\n",
       "hashtags_followers      0\n",
       "interval_post           0\n",
       "class                   0\n",
       "dtype: int64"
      ]
     },
     "execution_count": 24,
     "metadata": {},
     "output_type": "execute_result"
    }
   ],
   "source": [
    "# Datos nulos por columna\n",
    "dataset.isnull().sum()"
   ]
  },
  {
   "cell_type": "markdown",
   "id": "interested-assurance",
   "metadata": {},
   "source": [
    "# Descripcion de la variable de salida"
   ]
  },
  {
   "cell_type": "code",
   "execution_count": 31,
   "id": "close-sherman",
   "metadata": {},
   "outputs": [
    {
     "data": {
      "text/plain": [
       "<AxesSubplot:ylabel='clase'>"
      ]
     },
     "execution_count": 31,
     "metadata": {},
     "output_type": "execute_result"
    },
    {
     "data": {
      "image/png": "[encoded data removed]",
      "text/plain": [
       "<Figure size 432x288 with 1 Axes>"
      ]
     },
     "metadata": {},
     "output_type": "display_data"
    }
   ],
   "source": [
    "# Datos balanceados\n",
    "\n",
    "dataset.clase.value_counts().sort_index().plot.pie()\n"
   ]
  },
  {
   "cell_type": "markdown",
   "id": "first-constant",
   "metadata": {},
   "source": [
    "Tal como describe el gráfico anterior, los datos se encuentran balanceados ya que dentro del dataset existe la misma cantidad de usuarios reales y falsos. Al estar balanceados los datos no tendremos consecuencias a la hora de entrenar los modelos."
   ]
  },
  {
   "cell_type": "markdown",
   "id": "shared-gazette",
   "metadata": {},
   "source": [
    "# Descripcion de 5 variables de entrada que afectan a la variable de salida"
   ]
  },
  {
   "cell_type": "code",
   "execution_count": 34,
   "id": "external-acceptance",
   "metadata": {
    "scrolled": true
   },
   "outputs": [
    {
     "data": {
      "text/plain": [
       "<AxesSubplot:>"
      ]
     },
     "execution_count": 34,
     "metadata": {},
     "output_type": "execute_result"
    },
    {
     "data": {
      "image/png": "[encoded data removed]",
      "text/plain": [
       "<Figure size 432x288 with 1 Axes>"
      ]
     },
     "metadata": {
      "needs_background": "light"
     },
     "output_type": "display_data"
    }
   ],
   "source": [
    "# Cantidad de cuentas que tienen o no foto de perfil\n",
    "dataset.profile_picture.value_counts().sort_index().plot.bar()"
   ]
  },
  {
   "cell_type": "markdown",
   "id": "matched-helmet",
   "metadata": {},
   "source": [
    "agrupar por clase,\n",
    "falsos que tienen foto\n",
    "falsos que no tienen foto\n",
    "reales que tienen foto\n",
    "reales que no tienen foto"
   ]
  },
  {
   "cell_type": "code",
   "execution_count": 35,
   "id": "forced-wound",
   "metadata": {},
   "outputs": [
    {
     "data": {
      "text/plain": [
       "<AxesSubplot:>"
      ]
     },
     "execution_count": 35,
     "metadata": {},
     "output_type": "execute_result"
    },
    {
     "data": {
      "image/png": "[encoded data removed]",
      "text/plain": [
       "<Figure size 432x288 with 1 Axes>"
      ]
     },
     "metadata": {
      "needs_background": "light"
     },
     "output_type": "display_data"
    }
   ],
   "source": [
    "# Cantidad de cuentas que tienen o no URL externa\n",
    "dataset.external_url.value_counts().sort_index().plot.bar()"
   ]
  },
  {
   "cell_type": "markdown",
   "id": "utility-token",
   "metadata": {},
   "source": [
    "agrupar por clase,\n",
    "falsos que tienen url\n",
    "falsos que no tienen url\n",
    "reales que tienen url\n",
    "reales que no tienen url"
   ]
  },
  {
   "cell_type": "code",
   "execution_count": null,
   "id": "progressive-stack",
   "metadata": {},
   "outputs": [],
   "source": [
    "# Cantidad de publicaciones con ubicacion"
   ]
  },
  {
   "cell_type": "code",
   "execution_count": null,
   "id": "elementary-coalition",
   "metadata": {},
   "outputs": [],
   "source": []
  },
  {
   "cell_type": "code",
   "execution_count": null,
   "id": "square-integrity",
   "metadata": {},
   "outputs": [],
   "source": [
    "agrupar por clase,\n",
    "falsos que tienen ubicacion\n",
    "falsos que no tienen ubicacion\n",
    "reales que tienen ubicacion\n",
    "reales que no tienen ubicacion"
   ]
  },
  {
   "cell_type": "code",
   "execution_count": null,
   "id": "delayed-flour",
   "metadata": {},
   "outputs": [],
   "source": [
    "# Cantidad de publicaciones con hashtag promocionales"
   ]
  },
  {
   "cell_type": "code",
   "execution_count": null,
   "id": "artistic-fleece",
   "metadata": {},
   "outputs": [],
   "source": []
  },
  {
   "cell_type": "code",
   "execution_count": null,
   "id": "looking-highland",
   "metadata": {},
   "outputs": [],
   "source": [
    "agrupar por clase,\n",
    "falsos que tienen hashtag\n",
    "falsos que no tienen hashtag\n",
    "reales que tienen hashtag\n",
    "reales que no tienen hashtag"
   ]
  },
  {
   "cell_type": "code",
   "execution_count": null,
   "id": "american-reducing",
   "metadata": {},
   "outputs": [],
   "source": [
    "# Cantidad de publicaciones en horas"
   ]
  },
  {
   "cell_type": "code",
   "execution_count": null,
   "id": "thousand-building",
   "metadata": {},
   "outputs": [],
   "source": []
  },
  {
   "cell_type": "code",
   "execution_count": null,
   "id": "cubic-laundry",
   "metadata": {},
   "outputs": [],
   "source": [
    "agrupar por clase,\n",
    "falsos que tienen horas\n",
    "falsos que no tienen horas\n",
    "reales que tienen horas\n",
    "reales que no tienen horas"
   ]
  },
  {
   "cell_type": "markdown",
   "id": "stylish-methodology",
   "metadata": {},
   "source": [
    "## Correlaciones entre variables"
   ]
  },
  {
   "cell_type": "code",
   "execution_count": null,
   "id": "rising-letters",
   "metadata": {},
   "outputs": [],
   "source": []
  }
 ],
 "metadata": {
  "celltoolbar": "Slideshow",
  "kernelspec": {
   "display_name": "Python 3",
   "language": "python",
   "name": "python3"
  },
  "language_info": {
   "codemirror_mode": {
    "name": "ipython",
    "version": 3
   },
   "file_extension": ".py",
   "mimetype": "text/x-python",
   "name": "python",
   "nbconvert_exporter": "python",
   "pygments_lexer": "ipython3",
   "version": "3.8.6"
  }
 },
 "nbformat": 4,
 "nbformat_minor": 5
}
