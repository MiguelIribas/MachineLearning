{
 "cells": [
  {
   "cell_type": "markdown",
   "id": "3b049a20",
   "metadata": {},
   "source": [
    "# INSTAGRAM: DETECCIÓN DE USUARIOS FALSOS\n",
    "\n",
    "## **Entrenamiento y evaluación de modelos**"
   ]
  },
  {
   "cell_type": "markdown",
   "id": "d567bd96",
   "metadata": {},
   "source": [
    "<img src=\"https://miracomohacerlo.com/wp-content/uploads/2019/02/como-ver-a-que-fotos-le-da-like-en-instagram-una-persona-2.jpg\" />"
   ]
  },
  {
   "cell_type": "code",
   "execution_count": 13,
   "id": "dbbe6720",
   "metadata": {},
   "outputs": [],
   "source": [
    "%matplotlib inline"
   ]
  },
  {
   "cell_type": "code",
   "execution_count": 14,
   "id": "6df224bc",
   "metadata": {},
   "outputs": [],
   "source": [
    "import numpy as np\n",
    "import pandas as pd\n",
    "from collections import defaultdict\n",
    "from matplotlib import pyplot as plt\n",
    "import seaborn as sns\n",
    "\n",
    "from IPython.display import HTML, display\n",
    "from sklearn.metrics import accuracy_score, precision_score, recall_score, confusion_matrix\n",
    "from sklearn.model_selection import train_test_split\n",
    "\n",
    "from sklearn_pandas import DataFrameMapper"
   ]
  },
  {
   "cell_type": "markdown",
   "id": "954352c6",
   "metadata": {},
   "source": [
    "## **DATASET**"
   ]
  },
  {
   "cell_type": "code",
   "execution_count": 15,
   "id": "dd8153ce",
   "metadata": {},
   "outputs": [],
   "source": [
    "dataset_original = pd.read_csv('instagram.csv')\n",
    "dataset = dataset_original\n",
    "\n",
    "renamed_columns = {'pos':'post','flw':'followers','flg':'following','bl':'biography_lenght','pic':'profile_picture','lin':'external_url','cl':'post_lenght','cz':'post_lenght_null','ni':'none_image','erl':'engagement_rate_likes','erc':'engagement_rate_comments','lt':'post_location','hc':'hashtags_post','pr':'hashtags_promotional','fo':'hashtags_followers','cs':'cosine_similarity','pi':'interval_post','class':'user_class'}\n",
    "dataset.rename(columns = renamed_columns, inplace = True)\n",
    "\n",
    "dataset[\"user_class\"] = dataset.user_class.replace(['f','r'], [1, 0])"
   ]
  },
  {
   "cell_type": "markdown",
   "id": "f1adaa73",
   "metadata": {},
   "source": [
    "### **Train, Validation, Test**"
   ]
  },
  {
   "cell_type": "code",
   "execution_count": 16,
   "id": "0b801a93",
   "metadata": {},
   "outputs": [],
   "source": [
    "# 60% train, 20% test, 20% validation\n",
    "train, not_train = train_test_split(dataset, test_size=0.4)\n",
    "validation, test = train_test_split(not_train, test_size=0.5)"
   ]
  },
  {
   "cell_type": "markdown",
   "id": "91c3f254",
   "metadata": {},
   "source": [
    "## **MÉTRICAS**"
   ]
  },
  {
   "cell_type": "markdown",
   "id": "4a044c10",
   "metadata": {},
   "source": [
    "Al inicio elegimos la métrica **Precision** ya que al momento de predecir queríamos estar seguros de que una cuenta falsa realmente lo era. Sin embargo, precision no nos da la información completa, por lo que también teniamos que tener en cuenta **Recall** que nos permite saber del total de cuentas falsas cuantas encontró.\n",
    "Por lo tanto, la métrica elegida es **F1-Score** que combina **Precision** y **Recall** y nos permite saber la información completa ya que si una de las dos métrica empeora, la otra mejora."
   ]
  },
  {
   "cell_type": "markdown",
   "id": "230ce7b3",
   "metadata": {},
   "source": [
    "## FEATURE ENGINEERING"
   ]
  },
  {
   "cell_type": "markdown",
   "id": "20536723",
   "metadata": {},
   "source": [
    "No nos pareció útil usar técnicas de Feature Engineering ya que los datos eran representativos. Por ejemplo, no tenemos información escondida en columnas, la mayoría de los valores son binarias, representan porcentajes o cantidades. Tampoco tenemos que redondear valores o convertirlos a rangos fijos ya que nuestras variables numéricas son porcentajes o enteros.\n",
    "Sin embargo, si utilizamos técnicas de **pre-procesamiento** como por ejemplo estandarización."
   ]
  },
  {
   "cell_type": "markdown",
   "id": "e4baf70d",
   "metadata": {},
   "source": [
    "### **MAPPER**"
   ]
  },
  {
   "cell_type": "code",
   "execution_count": 17,
   "id": "33447143",
   "metadata": {},
   "outputs": [],
   "source": [
    "from sklearn_pandas import DataFrameMapper\n",
    "from sklearn.preprocessing import StandardScaler, OneHotEncoder"
   ]
  },
  {
   "cell_type": "code",
   "execution_count": 18,
   "id": "6ef86a26",
   "metadata": {},
   "outputs": [
    {
     "data": {
      "text/plain": [
       "array([[-0.21210962,  0.10204398, -0.55635834, ..., -0.09576444,\n",
       "         0.199697  ,  1.20202857],\n",
       "       [ 1.62952357, -0.01657636,  0.64975109, ..., -0.09576444,\n",
       "         0.36353901, -0.51571389],\n",
       "       [ 0.04868542, -0.01341731, -0.68557057, ..., -0.09576444,\n",
       "         0.019077  , -0.21574997],\n",
       "       ...,\n",
       "       [-0.20222166, -0.04144837,  0.95831762, ..., -0.09576444,\n",
       "         0.204803  , -0.45033775],\n",
       "       [-0.20592964, -0.05145947, -0.84718229, ..., -0.09576444,\n",
       "         0.22060999, -0.47027995],\n",
       "       [ 0.46768787,  0.23552525,  1.45973824, ..., -0.09576444,\n",
       "         0.17518701, -0.3990643 ]])"
      ]
     },
     "execution_count": 18,
     "metadata": {},
     "output_type": "execute_result"
    }
   ],
   "source": [
    "mapper = DataFrameMapper([\n",
    "    (['post'], [StandardScaler()]),\n",
    "    (['followers'], [StandardScaler()]),\n",
    "    (['following'], [StandardScaler()]),\n",
    "    (['biography_lenght'], [StandardScaler()]),\n",
    "    (['profile_picture'], None),\n",
    "    (['external_url'], None),\n",
    "    (['post_lenght'], [StandardScaler()]),\n",
    "    (['post_lenght_null'], None),\n",
    "    (['none_image'], None),\n",
    "    (['engagement_rate_likes'], [StandardScaler()]),\n",
    "    (['engagement_rate_comments'], [StandardScaler()]),\n",
    "    (['post_location'], None),\n",
    "    (['hashtags_post'], [StandardScaler()]),\n",
    "    (['hashtags_promotional'], [StandardScaler()]),\n",
    "    (['hashtags_followers'], [StandardScaler()]),\n",
    "    (['cosine_similarity'], None),\n",
    "    (['interval_post'], [StandardScaler()])\n",
    "])\n",
    "\n",
    "mapper.fit(train)\n",
    "mapper.transform(train)"
   ]
  },
  {
   "cell_type": "code",
   "execution_count": 19,
   "id": "d32e18aa",
   "metadata": {},
   "outputs": [
    {
     "data": {
      "text/plain": [
       "['post',\n",
       " 'followers',\n",
       " 'following',\n",
       " 'biography_lenght',\n",
       " 'profile_picture',\n",
       " 'external_url',\n",
       " 'post_lenght',\n",
       " 'post_lenght_null',\n",
       " 'none_image',\n",
       " 'engagement_rate_likes',\n",
       " 'engagement_rate_comments',\n",
       " 'post_location',\n",
       " 'hashtags_post',\n",
       " 'hashtags_promotional',\n",
       " 'hashtags_followers',\n",
       " 'cosine_similarity',\n",
       " 'interval_post']"
      ]
     },
     "execution_count": 19,
     "metadata": {},
     "output_type": "execute_result"
    }
   ],
   "source": [
    "mapper.transformed_names_"
   ]
  },
  {
   "cell_type": "markdown",
   "id": "6ca8440c",
   "metadata": {},
   "source": [
    "## **MODELOS**"
   ]
  },
  {
   "cell_type": "markdown",
   "id": "bde05125",
   "metadata": {},
   "source": [
    "### **Función para evaluar modelos**"
   ]
  },
  {
   "cell_type": "code",
   "execution_count": 20,
   "id": "fcd8c1ae",
   "metadata": {},
   "outputs": [],
   "source": [
    "from sklearn import metrics\n",
    "\n",
    "from sklearn.experimental import enable_iterative_imputer\n",
    "from sklearn.impute import SimpleImputer, IterativeImputer\n",
    "\n",
    "from sklearn.pipeline import Pipeline"
   ]
  },
  {
   "cell_type": "code",
   "execution_count": 21,
   "id": "9df21ca2",
   "metadata": {},
   "outputs": [],
   "source": [
    "def evaluate_model(model, set_names=('train', 'validation'), title='', show_cm=True):\n",
    "    if title:\n",
    "        display(title)\n",
    "        \n",
    "    final_metrics = defaultdict(list)\n",
    "    \n",
    "    if show_cm:\n",
    "        fig, axis = plt.subplots(1, len(set_names), sharey=True, figsize=(15, 3))\n",
    "    \n",
    "    for i, set_name in enumerate(set_names):\n",
    "        assert set_name in ['train', 'validation', 'test']\n",
    "        set_data = globals()[set_name]  # <- hack feo...\n",
    "\n",
    "        y = set_data.user_class\n",
    "        y_pred = model.predict(set_data)\n",
    "        final_metrics['Accuracy'].append(metrics.accuracy_score(y, y_pred))\n",
    "        final_metrics['Precision'].append(metrics.precision_score(y, y_pred))\n",
    "        final_metrics['Recall'].append(metrics.recall_score(y, y_pred))\n",
    "        final_metrics['F1'].append(metrics.f1_score(y, y_pred))\n",
    "        \n",
    "        if show_cm:\n",
    "            ax = axis[i]\n",
    "            sns.heatmap(metrics.confusion_matrix(y, y_pred), ax=ax, cmap='Blues', annot=True, fmt='.0f', cbar=False)\n",
    "\n",
    "            ax.set_title(set_name)\n",
    "            ax.xaxis.set_ticklabels(['real', 'fake'])\n",
    "            ax.yaxis.set_ticklabels(['real', 'fake'])\n",
    "            ax.set_xlabel('Predicted class')\n",
    "            ax.set_ylabel('True class')\n",
    "        \n",
    "    display(pd.DataFrame(final_metrics, index=set_names))\n",
    "    if show_cm:\n",
    "        plt.tight_layout()\n",
    "        plt.show()"
   ]
  },
  {
   "cell_type": "markdown",
   "id": "e80cbac0",
   "metadata": {},
   "source": [
    "### **REGRESIÓN LOGÍSTICA**"
   ]
  },
  {
   "cell_type": "code",
   "execution_count": 22,
   "id": "f6f44e91",
   "metadata": {},
   "outputs": [],
   "source": [
    "from sklearn.linear_model import LogisticRegression"
   ]
  },
  {
   "cell_type": "code",
   "execution_count": 23,
   "id": "fb0c4e91",
   "metadata": {
    "scrolled": false
   },
   "outputs": [
    {
     "data": {
      "text/html": [
       "<div>\n",
       "<style scoped>\n",
       "    .dataframe tbody tr th:only-of-type {\n",
       "        vertical-align: middle;\n",
       "    }\n",
       "\n",
       "    .dataframe tbody tr th {\n",
       "        vertical-align: top;\n",
       "    }\n",
       "\n",
       "    .dataframe thead th {\n",
       "        text-align: right;\n",
       "    }\n",
       "</style>\n",
       "<table border=\"1\" class=\"dataframe\">\n",
       "  <thead>\n",
       "    <tr style=\"text-align: right;\">\n",
       "      <th></th>\n",
       "      <th>Accuracy</th>\n",
       "      <th>Precision</th>\n",
       "      <th>Recall</th>\n",
       "      <th>F1</th>\n",
       "    </tr>\n",
       "  </thead>\n",
       "  <tbody>\n",
       "    <tr>\n",
       "      <th>train</th>\n",
       "      <td>0.810690</td>\n",
       "      <td>0.822007</td>\n",
       "      <td>0.796606</td>\n",
       "      <td>0.809107</td>\n",
       "    </tr>\n",
       "    <tr>\n",
       "      <th>validation</th>\n",
       "      <td>0.809721</td>\n",
       "      <td>0.821922</td>\n",
       "      <td>0.794716</td>\n",
       "      <td>0.808090</td>\n",
       "    </tr>\n",
       "  </tbody>\n",
       "</table>\n",
       "</div>"
      ],
      "text/plain": [
       "            Accuracy  Precision    Recall        F1\n",
       "train       0.810690   0.822007  0.796606  0.809107\n",
       "validation  0.809721   0.821922  0.794716  0.808090"
      ]
     },
     "metadata": {},
     "output_type": "display_data"
    },
    {
     "data": {
      "image/png": "[encoded data removed]",
      "text/plain": [
       "<Figure size 1080x216 with 2 Axes>"
      ]
     },
     "metadata": {
      "needs_background": "light"
     },
     "output_type": "display_data"
    }
   ],
   "source": [
    "model_lr = Pipeline([\n",
    "    ('mapper', mapper),\n",
    "    ('imputer', IterativeImputer(random_state=42)),\n",
    "    ('classifier', LogisticRegression(random_state=42)),\n",
    "])\n",
    "\n",
    "model_lr.fit(train, train.user_class)\n",
    "\n",
    "evaluate_model(model_lr)"
   ]
  },
  {
   "cell_type": "markdown",
   "id": "853a0040",
   "metadata": {},
   "source": [
    "#### Importancias de variables"
   ]
  },
  {
   "cell_type": "code",
   "execution_count": 24,
   "id": "f4971614",
   "metadata": {},
   "outputs": [
    {
     "data": {
      "text/plain": [
       "<AxesSubplot:xlabel='coeficiente', ylabel='feature'>"
      ]
     },
     "execution_count": 24,
     "metadata": {},
     "output_type": "execute_result"
    },
    {
     "data": {
      "image/png": "[encoded data removed]",
      "text/plain": [
       "<Figure size 432x288 with 1 Axes>"
      ]
     },
     "metadata": {
      "needs_background": "light"
     },
     "output_type": "display_data"
    }
   ],
   "source": [
    "clf = model_lr.named_steps['classifier']\n",
    "clf.coef_  # los pesos que aprendió la regresión logística!\n",
    "\n",
    "df_importance = pd.DataFrame({\n",
    "    'feature': mapper.transformed_names_, \n",
    "    'coeficiente': clf.coef_[0],\n",
    "}).sort_values(by='coeficiente')\n",
    "\n",
    "sns.barplot(data=df_importance, x='coeficiente', y='feature')"
   ]
  },
  {
   "cell_type": "markdown",
   "id": "462c4a26",
   "metadata": {},
   "source": [
    "**Conclusiones:**\n",
    "- Cuanto mas cantidad de following tenga un cuenta, mas probabilidades tiene de ser falsa. \n",
    "- Cuanto mas cantidad de uso de hashtags promocionales tenga una cuenta, mas probabilidades tiene de ser falsa. \n",
    "- Cuanto mas porcentaje de publicaciones con ubicación tenga una cuenta, mas probabilidades tiene de ser real. \n",
    "- Si la variable external_URL es 0, mas probabilidades hay de que la cuenta sea falsa. En cambio si es 1 de que sea real.\n"
   ]
  },
  {
   "cell_type": "markdown",
   "id": "5a4aff6a",
   "metadata": {},
   "source": [
    "### **K NEAREST NEIGHBORS**"
   ]
  },
  {
   "cell_type": "code",
   "execution_count": 25,
   "id": "f9943f8b",
   "metadata": {},
   "outputs": [],
   "source": [
    "from sklearn.neighbors import KNeighborsClassifier"
   ]
  },
  {
   "cell_type": "code",
   "execution_count": 26,
   "id": "f9416f4b",
   "metadata": {
    "scrolled": true
   },
   "outputs": [
    {
     "data": {
      "text/plain": [
       "'Knn'"
      ]
     },
     "metadata": {},
     "output_type": "display_data"
    },
    {
     "data": {
      "text/html": [
       "<div>\n",
       "<style scoped>\n",
       "    .dataframe tbody tr th:only-of-type {\n",
       "        vertical-align: middle;\n",
       "    }\n",
       "\n",
       "    .dataframe tbody tr th {\n",
       "        vertical-align: top;\n",
       "    }\n",
       "\n",
       "    .dataframe thead th {\n",
       "        text-align: right;\n",
       "    }\n",
       "</style>\n",
       "<table border=\"1\" class=\"dataframe\">\n",
       "  <thead>\n",
       "    <tr style=\"text-align: right;\">\n",
       "      <th></th>\n",
       "      <th>Accuracy</th>\n",
       "      <th>Precision</th>\n",
       "      <th>Recall</th>\n",
       "      <th>F1</th>\n",
       "    </tr>\n",
       "  </thead>\n",
       "  <tbody>\n",
       "    <tr>\n",
       "      <th>train</th>\n",
       "      <td>0.853782</td>\n",
       "      <td>0.909548</td>\n",
       "      <td>0.788045</td>\n",
       "      <td>0.844448</td>\n",
       "    </tr>\n",
       "    <tr>\n",
       "      <th>validation</th>\n",
       "      <td>0.830922</td>\n",
       "      <td>0.888376</td>\n",
       "      <td>0.760097</td>\n",
       "      <td>0.819246</td>\n",
       "    </tr>\n",
       "  </tbody>\n",
       "</table>\n",
       "</div>"
      ],
      "text/plain": [
       "            Accuracy  Precision    Recall        F1\n",
       "train       0.853782   0.909548  0.788045  0.844448\n",
       "validation  0.830922   0.888376  0.760097  0.819246"
      ]
     },
     "metadata": {},
     "output_type": "display_data"
    },
    {
     "data": {
      "image/png": "[encoded data removed]",
      "text/plain": [
       "<Figure size 1080x216 with 2 Axes>"
      ]
     },
     "metadata": {
      "needs_background": "light"
     },
     "output_type": "display_data"
    }
   ],
   "source": [
    "K = 10\n",
    "\n",
    "model_knn = Pipeline([\n",
    "    ('mapper', mapper),\n",
    "    ('imputer', IterativeImputer(random_state=42)),\n",
    "    ('classifier', KNeighborsClassifier(n_neighbors=K)),\n",
    "])\n",
    "\n",
    "model_knn.fit(train, train.user_class)\n",
    "\n",
    "evaluate_model(model_knn, title='Knn')"
   ]
  },
  {
   "cell_type": "markdown",
   "id": "5cd05985",
   "metadata": {},
   "source": [
    "### **ÁRBOLES DE DECISIÓN**"
   ]
  },
  {
   "cell_type": "code",
   "execution_count": 27,
   "id": "f076c604",
   "metadata": {},
   "outputs": [],
   "source": [
    "from sklearn.tree import DecisionTreeClassifier\n",
    "from sklearn.preprocessing import LabelBinarizer"
   ]
  },
  {
   "cell_type": "code",
   "execution_count": 28,
   "id": "45a2e8d2",
   "metadata": {
    "scrolled": true
   },
   "outputs": [
    {
     "data": {
      "text/plain": [
       "'Decision Tree'"
      ]
     },
     "metadata": {},
     "output_type": "display_data"
    },
    {
     "data": {
      "text/html": [
       "<div>\n",
       "<style scoped>\n",
       "    .dataframe tbody tr th:only-of-type {\n",
       "        vertical-align: middle;\n",
       "    }\n",
       "\n",
       "    .dataframe tbody tr th {\n",
       "        vertical-align: top;\n",
       "    }\n",
       "\n",
       "    .dataframe thead th {\n",
       "        text-align: right;\n",
       "    }\n",
       "</style>\n",
       "<table border=\"1\" class=\"dataframe\">\n",
       "  <thead>\n",
       "    <tr style=\"text-align: right;\">\n",
       "      <th></th>\n",
       "      <th>Accuracy</th>\n",
       "      <th>Precision</th>\n",
       "      <th>Recall</th>\n",
       "      <th>F1</th>\n",
       "    </tr>\n",
       "  </thead>\n",
       "  <tbody>\n",
       "    <tr>\n",
       "      <th>train</th>\n",
       "      <td>1.000000</td>\n",
       "      <td>1.00000</td>\n",
       "      <td>1.000000</td>\n",
       "      <td>1.000000</td>\n",
       "    </tr>\n",
       "    <tr>\n",
       "      <th>validation</th>\n",
       "      <td>0.853502</td>\n",
       "      <td>0.84991</td>\n",
       "      <td>0.861524</td>\n",
       "      <td>0.855678</td>\n",
       "    </tr>\n",
       "  </tbody>\n",
       "</table>\n",
       "</div>"
      ],
      "text/plain": [
       "            Accuracy  Precision    Recall        F1\n",
       "train       1.000000    1.00000  1.000000  1.000000\n",
       "validation  0.853502    0.84991  0.861524  0.855678"
      ]
     },
     "metadata": {},
     "output_type": "display_data"
    },
    {
     "data": {
      "image/png": "[encoded data removed]",
      "text/plain": [
       "<Figure size 1080x216 with 2 Axes>"
      ]
     },
     "metadata": {
      "needs_background": "light"
     },
     "output_type": "display_data"
    }
   ],
   "source": [
    "model_tree = Pipeline([\n",
    "    ('mapper', mapper),\n",
    "    ('imputer', IterativeImputer(random_state=42)),\n",
    "    ('classifier', DecisionTreeClassifier(random_state=42)),\n",
    "])\n",
    "\n",
    "model_tree.fit(train, train.user_class)\n",
    "\n",
    "evaluate_model(model_tree, title='Decision Tree')"
   ]
  },
  {
   "cell_type": "markdown",
   "id": "8bd0a4d8",
   "metadata": {},
   "source": [
    "Tal como observamos en la matriz de confusión **en train el algoritmo acertó todos los casos**, es decir, no tuvo fallas (la cantidad de casos que dijo que eran falsos y en realidad eran verdaderos es 0). Sin embargo en validation observamos que si tuvo fallas a la hora de predecir por lo que entendemos que en train está haciendo **overfiting.** \n",
    "\n",
    "Por lo cual agregamos un valor de máxima profundidad: "
   ]
  },
  {
   "cell_type": "code",
   "execution_count": 29,
   "id": "a1035639",
   "metadata": {
    "scrolled": true
   },
   "outputs": [
    {
     "data": {
      "text/plain": [
       "'Decision Tree'"
      ]
     },
     "metadata": {},
     "output_type": "display_data"
    },
    {
     "data": {
      "text/html": [
       "<div>\n",
       "<style scoped>\n",
       "    .dataframe tbody tr th:only-of-type {\n",
       "        vertical-align: middle;\n",
       "    }\n",
       "\n",
       "    .dataframe tbody tr th {\n",
       "        vertical-align: top;\n",
       "    }\n",
       "\n",
       "    .dataframe thead th {\n",
       "        text-align: right;\n",
       "    }\n",
       "</style>\n",
       "<table border=\"1\" class=\"dataframe\">\n",
       "  <thead>\n",
       "    <tr style=\"text-align: right;\">\n",
       "      <th></th>\n",
       "      <th>Accuracy</th>\n",
       "      <th>Precision</th>\n",
       "      <th>Recall</th>\n",
       "      <th>F1</th>\n",
       "    </tr>\n",
       "  </thead>\n",
       "  <tbody>\n",
       "    <tr>\n",
       "      <th>train</th>\n",
       "      <td>0.905345</td>\n",
       "      <td>0.962867</td>\n",
       "      <td>0.844630</td>\n",
       "      <td>0.899881</td>\n",
       "    </tr>\n",
       "    <tr>\n",
       "      <th>validation</th>\n",
       "      <td>0.886720</td>\n",
       "      <td>0.942614</td>\n",
       "      <td>0.825539</td>\n",
       "      <td>0.880201</td>\n",
       "    </tr>\n",
       "  </tbody>\n",
       "</table>\n",
       "</div>"
      ],
      "text/plain": [
       "            Accuracy  Precision    Recall        F1\n",
       "train       0.905345   0.962867  0.844630  0.899881\n",
       "validation  0.886720   0.942614  0.825539  0.880201"
      ]
     },
     "metadata": {},
     "output_type": "display_data"
    },
    {
     "data": {
      "image/png": "[encoded data removed]",
      "text/plain": [
       "<Figure size 1080x216 with 2 Axes>"
      ]
     },
     "metadata": {
      "needs_background": "light"
     },
     "output_type": "display_data"
    }
   ],
   "source": [
    "model_tree_maxdepth = Pipeline([\n",
    "    ('mapper', mapper),\n",
    "    ('imputer', IterativeImputer(random_state=42)),\n",
    "    ('classifier', DecisionTreeClassifier(max_depth = 10, random_state=42)),\n",
    "])\n",
    "\n",
    "model_tree_maxdepth.fit(train, train.user_class)\n",
    "\n",
    "evaluate_model(model_tree_maxdepth, title='Decision Tree')"
   ]
  },
  {
   "cell_type": "markdown",
   "id": "0a4c04fb",
   "metadata": {},
   "source": [
    "### **RANDOM FOREST**"
   ]
  },
  {
   "cell_type": "code",
   "execution_count": 30,
   "id": "6dcccc66",
   "metadata": {},
   "outputs": [],
   "source": [
    "from sklearn.ensemble import RandomForestClassifier"
   ]
  },
  {
   "cell_type": "code",
   "execution_count": 31,
   "id": "4001da7f",
   "metadata": {
    "scrolled": false
   },
   "outputs": [
    {
     "data": {
      "text/plain": [
       "'Random Forest'"
      ]
     },
     "metadata": {},
     "output_type": "display_data"
    },
    {
     "data": {
      "text/html": [
       "<div>\n",
       "<style scoped>\n",
       "    .dataframe tbody tr th:only-of-type {\n",
       "        vertical-align: middle;\n",
       "    }\n",
       "\n",
       "    .dataframe tbody tr th {\n",
       "        vertical-align: top;\n",
       "    }\n",
       "\n",
       "    .dataframe thead th {\n",
       "        text-align: right;\n",
       "    }\n",
       "</style>\n",
       "<table border=\"1\" class=\"dataframe\">\n",
       "  <thead>\n",
       "    <tr style=\"text-align: right;\">\n",
       "      <th></th>\n",
       "      <th>Accuracy</th>\n",
       "      <th>Precision</th>\n",
       "      <th>Recall</th>\n",
       "      <th>F1</th>\n",
       "    </tr>\n",
       "  </thead>\n",
       "  <tbody>\n",
       "    <tr>\n",
       "      <th>train</th>\n",
       "      <td>1.000000</td>\n",
       "      <td>1.000000</td>\n",
       "      <td>1.000000</td>\n",
       "      <td>1.000000</td>\n",
       "    </tr>\n",
       "    <tr>\n",
       "      <th>validation</th>\n",
       "      <td>0.900957</td>\n",
       "      <td>0.955108</td>\n",
       "      <td>0.843152</td>\n",
       "      <td>0.895645</td>\n",
       "    </tr>\n",
       "  </tbody>\n",
       "</table>\n",
       "</div>"
      ],
      "text/plain": [
       "            Accuracy  Precision    Recall        F1\n",
       "train       1.000000   1.000000  1.000000  1.000000\n",
       "validation  0.900957   0.955108  0.843152  0.895645"
      ]
     },
     "metadata": {},
     "output_type": "display_data"
    },
    {
     "data": {
      "image/png": "[encoded data removed]",
      "text/plain": [
       "<Figure size 1080x216 with 2 Axes>"
      ]
     },
     "metadata": {
      "needs_background": "light"
     },
     "output_type": "display_data"
    }
   ],
   "source": [
    "forest_model = RandomForestClassifier(random_state=42)\n",
    "\n",
    "model_rf = Pipeline([\n",
    "    ('mapper', mapper),\n",
    "    ('imputer', IterativeImputer(random_state=42)),\n",
    "    ('classifier', forest_model),\n",
    "])\n",
    "\n",
    "model_rf.fit(train, train.user_class)\n",
    "\n",
    "evaluate_model(model_rf, title='Random Forest')"
   ]
  },
  {
   "cell_type": "markdown",
   "id": "802ef1f1",
   "metadata": {},
   "source": [
    "Observamos que al no indicar un límite de profundidad y cantidad de estimadores obtenemos una precisión de 1, por lo que entendemos que el algorítmo **está sobreentrenando.** \n",
    "A su vez observamos en la matriz de confusión que en train la cantidad de predicciones falsas que en realidad eran reales es 0 y en validation la cantidad de predicciones falsas que en realidad eran reales es 1049."
   ]
  },
  {
   "cell_type": "code",
   "execution_count": 32,
   "id": "2436b310",
   "metadata": {
    "scrolled": true
   },
   "outputs": [
    {
     "data": {
      "text/plain": [
       "'Random Forest'"
      ]
     },
     "metadata": {},
     "output_type": "display_data"
    },
    {
     "data": {
      "text/html": [
       "<div>\n",
       "<style scoped>\n",
       "    .dataframe tbody tr th:only-of-type {\n",
       "        vertical-align: middle;\n",
       "    }\n",
       "\n",
       "    .dataframe tbody tr th {\n",
       "        vertical-align: top;\n",
       "    }\n",
       "\n",
       "    .dataframe thead th {\n",
       "        text-align: right;\n",
       "    }\n",
       "</style>\n",
       "<table border=\"1\" class=\"dataframe\">\n",
       "  <thead>\n",
       "    <tr style=\"text-align: right;\">\n",
       "      <th></th>\n",
       "      <th>Accuracy</th>\n",
       "      <th>Precision</th>\n",
       "      <th>Recall</th>\n",
       "      <th>F1</th>\n",
       "    </tr>\n",
       "  </thead>\n",
       "  <tbody>\n",
       "    <tr>\n",
       "      <th>train</th>\n",
       "      <td>0.910193</td>\n",
       "      <td>0.989321</td>\n",
       "      <td>0.830648</td>\n",
       "      <td>0.903068</td>\n",
       "    </tr>\n",
       "    <tr>\n",
       "      <th>validation</th>\n",
       "      <td>0.895905</td>\n",
       "      <td>0.974746</td>\n",
       "      <td>0.814607</td>\n",
       "      <td>0.887510</td>\n",
       "    </tr>\n",
       "  </tbody>\n",
       "</table>\n",
       "</div>"
      ],
      "text/plain": [
       "            Accuracy  Precision    Recall        F1\n",
       "train       0.910193   0.989321  0.830648  0.903068\n",
       "validation  0.895905   0.974746  0.814607  0.887510"
      ]
     },
     "metadata": {},
     "output_type": "display_data"
    },
    {
     "data": {
      "image/png": "[encoded data removed]",
      "text/plain": [
       "<Figure size 1080x216 with 2 Axes>"
      ]
     },
     "metadata": {
      "needs_background": "light"
     },
     "output_type": "display_data"
    }
   ],
   "source": [
    "forest_model_maxdepth = RandomForestClassifier(n_estimators=100, max_depth=10, max_features=5, random_state=42)\n",
    "\n",
    "model_rf_maxdepth = Pipeline([\n",
    "    ('mapper', mapper),\n",
    "    ('imputer', IterativeImputer(random_state=42)),\n",
    "    ('classifier', forest_model_maxdepth),\n",
    "])\n",
    "\n",
    "model_rf_maxdepth.fit(train, train.user_class)\n",
    "\n",
    "evaluate_model(model_rf_maxdepth, title='Random Forest')\n"
   ]
  },
  {
   "cell_type": "markdown",
   "id": "1bce40fc",
   "metadata": {},
   "source": [
    "### **GRADIENT BOOSTED TREES**"
   ]
  },
  {
   "cell_type": "code",
   "execution_count": 33,
   "id": "01df033d",
   "metadata": {},
   "outputs": [],
   "source": [
    "from sklearn.ensemble import GradientBoostingClassifier"
   ]
  },
  {
   "cell_type": "code",
   "execution_count": 34,
   "id": "4080df87",
   "metadata": {},
   "outputs": [
    {
     "data": {
      "text/plain": [
       "'Gradient Boosting'"
      ]
     },
     "metadata": {},
     "output_type": "display_data"
    },
    {
     "data": {
      "text/html": [
       "<div>\n",
       "<style scoped>\n",
       "    .dataframe tbody tr th:only-of-type {\n",
       "        vertical-align: middle;\n",
       "    }\n",
       "\n",
       "    .dataframe tbody tr th {\n",
       "        vertical-align: top;\n",
       "    }\n",
       "\n",
       "    .dataframe thead th {\n",
       "        text-align: right;\n",
       "    }\n",
       "</style>\n",
       "<table border=\"1\" class=\"dataframe\">\n",
       "  <thead>\n",
       "    <tr style=\"text-align: right;\">\n",
       "      <th></th>\n",
       "      <th>Accuracy</th>\n",
       "      <th>Precision</th>\n",
       "      <th>Recall</th>\n",
       "      <th>F1</th>\n",
       "    </tr>\n",
       "  </thead>\n",
       "  <tbody>\n",
       "    <tr>\n",
       "      <th>train</th>\n",
       "      <td>0.900421</td>\n",
       "      <td>0.956635</td>\n",
       "      <td>0.840375</td>\n",
       "      <td>0.894744</td>\n",
       "    </tr>\n",
       "    <tr>\n",
       "      <th>validation</th>\n",
       "      <td>0.899732</td>\n",
       "      <td>0.955771</td>\n",
       "      <td>0.839964</td>\n",
       "      <td>0.894133</td>\n",
       "    </tr>\n",
       "  </tbody>\n",
       "</table>\n",
       "</div>"
      ],
      "text/plain": [
       "            Accuracy  Precision    Recall        F1\n",
       "train       0.900421   0.956635  0.840375  0.894744\n",
       "validation  0.899732   0.955771  0.839964  0.894133"
      ]
     },
     "metadata": {},
     "output_type": "display_data"
    },
    {
     "data": {
      "image/png": "[encoded data removed]",
      "text/plain": [
       "<Figure size 1080x216 with 2 Axes>"
      ]
     },
     "metadata": {
      "needs_background": "light"
     },
     "output_type": "display_data"
    }
   ],
   "source": [
    "boost_model = GradientBoostingClassifier(random_state=42)\n",
    "\n",
    "model_gradient_boosted = Pipeline([\n",
    "    ('mapper', mapper),\n",
    "    ('imputer', IterativeImputer(random_state=42)),\n",
    "    ('classifier', boost_model),\n",
    "])\n",
    "\n",
    "model_gradient_boosted.fit(train, train.user_class)\n",
    "\n",
    "evaluate_model(model_gradient_boosted, title='Gradient Boosting')"
   ]
  },
  {
   "cell_type": "markdown",
   "id": "b9b4d25b",
   "metadata": {},
   "source": [
    "### EVITANDO OVERFITING"
   ]
  },
  {
   "cell_type": "markdown",
   "id": "c85ec3d0",
   "metadata": {},
   "source": [
    "En primer lugar, dividimos el dataset en **Train, Validation y Test** y para identificar si un algoritmo estaba sobreentrenando con la ayuda de la **matriz de confusión** observabamos los valores resultantes e identificabamos las diferencias entre Train y Validation como por ejemplo en árboles de decisión sin profundidad, donde en los casos de Train los valores de fallas eran 0 y eso nos indicaban que existía overfitting. Al mismo tiempo, en la evaluación de estos algoritmos obteniamos una precisión del 100% en todas las métricas, lo que también nos indicaba que los algortimos estaban sobreentrenando.\n",
    "\n",
    "Para evitar el overfitting en estos casos indicamos: \n",
    "- Cantidad de vecinos en KNN\n",
    "- Límite de profundidad en Arboles de Decision \n",
    "- Límite de profundidad en Random Forest\n",
    "\n",
    "Ahora bien para saber cuál debería ser la cantidad de vecinos o máxima profundidad mas apropiada para indicarle a los modelos, graficamos las **curvas de aprendizaje** y a partir de ello seleccionamos el valor mas eficiente.\n"
   ]
  },
  {
   "cell_type": "markdown",
   "id": "28ae8a35",
   "metadata": {},
   "source": [
    "#### Curva para KNN"
   ]
  },
  {
   "cell_type": "code",
   "execution_count": 24,
   "id": "96494dfe",
   "metadata": {},
   "outputs": [
    {
     "data": {
      "image/png": "[encoded data removed]",
      "text/plain": [
       "<Figure size 432x288 with 1 Axes>"
      ]
     },
     "metadata": {
      "needs_background": "light"
     },
     "output_type": "display_data"
    }
   ],
   "source": [
    "train_prec =  []\n",
    "eval_prec = []\n",
    "max_k = list(range(1, 21))\n",
    "\n",
    "for k in max_k:\n",
    "    \n",
    "    model_knn_curva = Pipeline([\n",
    "    ('mapper', mapper),\n",
    "    ('imputer', IterativeImputer(random_state=42)),\n",
    "    ('classifier', KNeighborsClassifier(n_neighbors=k)),\n",
    "    ])\n",
    "    \n",
    "    knn=model_knn_curva    \n",
    "    knn=knn.fit(train, train.user_class)    \n",
    "    train_prec.append(knn.score(train, train.user_class))\n",
    "    # print(knn.score(train, train.user_class))\n",
    "    eval_prec.append(knn.score(validation, validation.user_class))\n",
    "\n",
    "# graficar los resultados.\n",
    "plt.plot(max_k, train_prec, color='r', label='Train')\n",
    "plt.plot(max_k, eval_prec, color='b', label='Validation')\n",
    "plt.title('Grafico KNN')\n",
    "plt.legend()\n",
    "plt.ylabel('precision')\n",
    "plt.xlabel('cantidad de vecinos')\n",
    "plt.show()"
   ]
  },
  {
   "cell_type": "markdown",
   "id": "662a7829",
   "metadata": {},
   "source": [
    "El valor de k mas eficiente se debe encontrar entre 5 y 10. A partir de 10 la curva de aprendizaje se estanca y el algoritmo deja de aprender."
   ]
  },
  {
   "cell_type": "markdown",
   "id": "9c65dcae",
   "metadata": {},
   "source": [
    "#### Curva para Arboles de decisión "
   ]
  },
  {
   "cell_type": "code",
   "execution_count": 26,
   "id": "eb1a5600",
   "metadata": {
    "scrolled": true
   },
   "outputs": [
    {
     "data": {
      "image/png": "[encoded data removed]",
      "text/plain": [
       "<Figure size 432x288 with 1 Axes>"
      ]
     },
     "metadata": {
      "needs_background": "light"
     },
     "output_type": "display_data"
    }
   ],
   "source": [
    "train_prec =  []\n",
    "eval_prec = []\n",
    "max_deep_list = list(range(1, 21))\n",
    "\n",
    "for deep in max_deep_list:\n",
    "    \n",
    "    model_tree_maxdepth_curva = Pipeline([\n",
    "    ('mapper', mapper),\n",
    "    ('imputer', IterativeImputer(random_state=42)),\n",
    "    ('classifier', DecisionTreeClassifier(max_depth = deep, random_state=42)),\n",
    "    ])\n",
    "     \n",
    "    arbol_tree=model_tree_maxdepth_curva    \n",
    "    arbol_tree=arbol_tree.fit(train, train.user_class)    \n",
    "    train_prec.append(arbol_tree.score(train, train.user_class))\n",
    "    #print(arbol_tree.score(train, train.user_class))\n",
    "    eval_prec.append(arbol_tree.score(validation, validation.user_class))\n",
    "\n",
    "# graficar los resultados.\n",
    "plt.plot(max_deep_list, train_prec, color='r', label='Train')\n",
    "plt.plot(max_deep_list, eval_prec, color='b', label='Validation')\n",
    "plt.title('Grafico arbol de decision')\n",
    "plt.legend()\n",
    "plt.ylabel('precision')\n",
    "plt.xlabel('nivel de profundidad')\n",
    "plt.show()"
   ]
  },
  {
   "cell_type": "markdown",
   "id": "1f43440e",
   "metadata": {},
   "source": [
    "En el gráfico observamos que entre los valores 5 y 7,5 las curvas se van separando, y a su vez a partir de 10 la curva de validation comienza a caer por lo que a partir de ese momento podemos inferir que el modelo esta sobreentrenando, ya que en los casos nuevos no está acertado las predicciones. Lo que ocurre es que mientras en train va acertando cada vez mas la predicciones en validation va errando."
   ]
  },
  {
   "cell_type": "markdown",
   "id": "2333bf89",
   "metadata": {},
   "source": [
    "#### Curva para Random forest"
   ]
  },
  {
   "cell_type": "code",
   "execution_count": 27,
   "id": "3eabb127",
   "metadata": {
    "scrolled": true
   },
   "outputs": [
    {
     "data": {
      "image/png": "[encoded data removed]",
      "text/plain": [
       "<Figure size 432x288 with 1 Axes>"
      ]
     },
     "metadata": {
      "needs_background": "light"
     },
     "output_type": "display_data"
    }
   ],
   "source": [
    "train_prec =  []\n",
    "eval_prec = []\n",
    "max_deep_list = list(range(1, 21))\n",
    "\n",
    "for deep in max_deep_list:\n",
    "    \n",
    "    forest_model_maxdepth_curva = RandomForestClassifier(n_estimators=100, max_depth=deep, max_features=5, random_state=42)\n",
    "\n",
    "    model_rf_maxdepth_curva = Pipeline([\n",
    "    ('mapper', mapper),\n",
    "    ('imputer', IterativeImputer(random_state=42)),\n",
    "    ('classifier', forest_model_maxdepth_curva),\n",
    "    ])\n",
    "    \n",
    "    arbol_rf=model_rf_maxdepth_curva    \n",
    "    arbol_rf=arbol_rf.fit(train, train.user_class)    \n",
    "    train_prec.append(arbol_rf.score(train, train.user_class))\n",
    "    #print(arbol_rf.score(train, train.user_class))\n",
    "    eval_prec.append(arbol_rf.score(validation, validation.user_class))\n",
    "\n",
    "# graficar los resultados.\n",
    "plt.plot(max_deep_list, train_prec, color='r', label='Train')\n",
    "plt.plot(max_deep_list, eval_prec, color='b', label='Validation')\n",
    "plt.title('Grafico Random Forest')\n",
    "plt.legend()\n",
    "plt.ylabel('precision')\n",
    "plt.xlabel('nivel de profundidad')\n",
    "plt.show()"
   ]
  },
  {
   "cell_type": "markdown",
   "id": "98a305ed",
   "metadata": {},
   "source": [
    "A medida que avanzan las iteraciones, observamos que la métrica en validation no mejora. A partir del valor 10 aproximadamente la curva se estanca."
   ]
  },
  {
   "cell_type": "markdown",
   "id": "3118f460",
   "metadata": {},
   "source": [
    "### EVALUACIÓN FINAL DE MODELOS - VALOR FINAL DE LA MÉTRICA"
   ]
  },
  {
   "cell_type": "code",
   "execution_count": 35,
   "id": "0a233e13",
   "metadata": {
    "scrolled": false
   },
   "outputs": [
    {
     "data": {
      "text/plain": [
       "'Regresión Logística'"
      ]
     },
     "metadata": {},
     "output_type": "display_data"
    },
    {
     "data": {
      "text/html": [
       "<div>\n",
       "<style scoped>\n",
       "    .dataframe tbody tr th:only-of-type {\n",
       "        vertical-align: middle;\n",
       "    }\n",
       "\n",
       "    .dataframe tbody tr th {\n",
       "        vertical-align: top;\n",
       "    }\n",
       "\n",
       "    .dataframe thead th {\n",
       "        text-align: right;\n",
       "    }\n",
       "</style>\n",
       "<table border=\"1\" class=\"dataframe\">\n",
       "  <thead>\n",
       "    <tr style=\"text-align: right;\">\n",
       "      <th></th>\n",
       "      <th>Accuracy</th>\n",
       "      <th>Precision</th>\n",
       "      <th>Recall</th>\n",
       "      <th>F1</th>\n",
       "    </tr>\n",
       "  </thead>\n",
       "  <tbody>\n",
       "    <tr>\n",
       "      <th>train</th>\n",
       "      <td>0.810690</td>\n",
       "      <td>0.822007</td>\n",
       "      <td>0.796606</td>\n",
       "      <td>0.809107</td>\n",
       "    </tr>\n",
       "    <tr>\n",
       "      <th>validation</th>\n",
       "      <td>0.809721</td>\n",
       "      <td>0.821922</td>\n",
       "      <td>0.794716</td>\n",
       "      <td>0.808090</td>\n",
       "    </tr>\n",
       "    <tr>\n",
       "      <th>test</th>\n",
       "      <td>0.812261</td>\n",
       "      <td>0.823083</td>\n",
       "      <td>0.796024</td>\n",
       "      <td>0.809328</td>\n",
       "    </tr>\n",
       "  </tbody>\n",
       "</table>\n",
       "</div>"
      ],
      "text/plain": [
       "            Accuracy  Precision    Recall        F1\n",
       "train       0.810690   0.822007  0.796606  0.809107\n",
       "validation  0.809721   0.821922  0.794716  0.808090\n",
       "test        0.812261   0.823083  0.796024  0.809328"
      ]
     },
     "metadata": {},
     "output_type": "display_data"
    },
    {
     "data": {
      "text/plain": [
       "'KNN'"
      ]
     },
     "metadata": {},
     "output_type": "display_data"
    },
    {
     "data": {
      "text/html": [
       "<div>\n",
       "<style scoped>\n",
       "    .dataframe tbody tr th:only-of-type {\n",
       "        vertical-align: middle;\n",
       "    }\n",
       "\n",
       "    .dataframe tbody tr th {\n",
       "        vertical-align: top;\n",
       "    }\n",
       "\n",
       "    .dataframe thead th {\n",
       "        text-align: right;\n",
       "    }\n",
       "</style>\n",
       "<table border=\"1\" class=\"dataframe\">\n",
       "  <thead>\n",
       "    <tr style=\"text-align: right;\">\n",
       "      <th></th>\n",
       "      <th>Accuracy</th>\n",
       "      <th>Precision</th>\n",
       "      <th>Recall</th>\n",
       "      <th>F1</th>\n",
       "    </tr>\n",
       "  </thead>\n",
       "  <tbody>\n",
       "    <tr>\n",
       "      <th>train</th>\n",
       "      <td>0.853782</td>\n",
       "      <td>0.909548</td>\n",
       "      <td>0.788045</td>\n",
       "      <td>0.844448</td>\n",
       "    </tr>\n",
       "    <tr>\n",
       "      <th>validation</th>\n",
       "      <td>0.830922</td>\n",
       "      <td>0.888376</td>\n",
       "      <td>0.760097</td>\n",
       "      <td>0.819246</td>\n",
       "    </tr>\n",
       "    <tr>\n",
       "      <th>test</th>\n",
       "      <td>0.837747</td>\n",
       "      <td>0.893238</td>\n",
       "      <td>0.767584</td>\n",
       "      <td>0.825658</td>\n",
       "    </tr>\n",
       "  </tbody>\n",
       "</table>\n",
       "</div>"
      ],
      "text/plain": [
       "            Accuracy  Precision    Recall        F1\n",
       "train       0.853782   0.909548  0.788045  0.844448\n",
       "validation  0.830922   0.888376  0.760097  0.819246\n",
       "test        0.837747   0.893238  0.767584  0.825658"
      ]
     },
     "metadata": {},
     "output_type": "display_data"
    },
    {
     "data": {
      "text/plain": [
       "'Arbol de decisión'"
      ]
     },
     "metadata": {},
     "output_type": "display_data"
    },
    {
     "data": {
      "text/html": [
       "<div>\n",
       "<style scoped>\n",
       "    .dataframe tbody tr th:only-of-type {\n",
       "        vertical-align: middle;\n",
       "    }\n",
       "\n",
       "    .dataframe tbody tr th {\n",
       "        vertical-align: top;\n",
       "    }\n",
       "\n",
       "    .dataframe thead th {\n",
       "        text-align: right;\n",
       "    }\n",
       "</style>\n",
       "<table border=\"1\" class=\"dataframe\">\n",
       "  <thead>\n",
       "    <tr style=\"text-align: right;\">\n",
       "      <th></th>\n",
       "      <th>Accuracy</th>\n",
       "      <th>Precision</th>\n",
       "      <th>Recall</th>\n",
       "      <th>F1</th>\n",
       "    </tr>\n",
       "  </thead>\n",
       "  <tbody>\n",
       "    <tr>\n",
       "      <th>train</th>\n",
       "      <td>0.905345</td>\n",
       "      <td>0.962867</td>\n",
       "      <td>0.844630</td>\n",
       "      <td>0.899881</td>\n",
       "    </tr>\n",
       "    <tr>\n",
       "      <th>validation</th>\n",
       "      <td>0.886720</td>\n",
       "      <td>0.942614</td>\n",
       "      <td>0.825539</td>\n",
       "      <td>0.880201</td>\n",
       "    </tr>\n",
       "    <tr>\n",
       "      <th>test</th>\n",
       "      <td>0.886040</td>\n",
       "      <td>0.938227</td>\n",
       "      <td>0.826758</td>\n",
       "      <td>0.878973</td>\n",
       "    </tr>\n",
       "  </tbody>\n",
       "</table>\n",
       "</div>"
      ],
      "text/plain": [
       "            Accuracy  Precision    Recall        F1\n",
       "train       0.905345   0.962867  0.844630  0.899881\n",
       "validation  0.886720   0.942614  0.825539  0.880201\n",
       "test        0.886040   0.938227  0.826758  0.878973"
      ]
     },
     "metadata": {},
     "output_type": "display_data"
    },
    {
     "data": {
      "text/plain": [
       "'Random Forest'"
      ]
     },
     "metadata": {},
     "output_type": "display_data"
    },
    {
     "data": {
      "text/html": [
       "<div>\n",
       "<style scoped>\n",
       "    .dataframe tbody tr th:only-of-type {\n",
       "        vertical-align: middle;\n",
       "    }\n",
       "\n",
       "    .dataframe tbody tr th {\n",
       "        vertical-align: top;\n",
       "    }\n",
       "\n",
       "    .dataframe thead th {\n",
       "        text-align: right;\n",
       "    }\n",
       "</style>\n",
       "<table border=\"1\" class=\"dataframe\">\n",
       "  <thead>\n",
       "    <tr style=\"text-align: right;\">\n",
       "      <th></th>\n",
       "      <th>Accuracy</th>\n",
       "      <th>Precision</th>\n",
       "      <th>Recall</th>\n",
       "      <th>F1</th>\n",
       "    </tr>\n",
       "  </thead>\n",
       "  <tbody>\n",
       "    <tr>\n",
       "      <th>train</th>\n",
       "      <td>0.910193</td>\n",
       "      <td>0.989321</td>\n",
       "      <td>0.830648</td>\n",
       "      <td>0.903068</td>\n",
       "    </tr>\n",
       "    <tr>\n",
       "      <th>validation</th>\n",
       "      <td>0.895905</td>\n",
       "      <td>0.974746</td>\n",
       "      <td>0.814607</td>\n",
       "      <td>0.887510</td>\n",
       "    </tr>\n",
       "    <tr>\n",
       "      <th>test</th>\n",
       "      <td>0.897291</td>\n",
       "      <td>0.973579</td>\n",
       "      <td>0.816972</td>\n",
       "      <td>0.888427</td>\n",
       "    </tr>\n",
       "  </tbody>\n",
       "</table>\n",
       "</div>"
      ],
      "text/plain": [
       "            Accuracy  Precision    Recall        F1\n",
       "train       0.910193   0.989321  0.830648  0.903068\n",
       "validation  0.895905   0.974746  0.814607  0.887510\n",
       "test        0.897291   0.973579  0.816972  0.888427"
      ]
     },
     "metadata": {},
     "output_type": "display_data"
    },
    {
     "data": {
      "text/plain": [
       "'Gradient Boosting'"
      ]
     },
     "metadata": {},
     "output_type": "display_data"
    },
    {
     "data": {
      "text/html": [
       "<div>\n",
       "<style scoped>\n",
       "    .dataframe tbody tr th:only-of-type {\n",
       "        vertical-align: middle;\n",
       "    }\n",
       "\n",
       "    .dataframe tbody tr th {\n",
       "        vertical-align: top;\n",
       "    }\n",
       "\n",
       "    .dataframe thead th {\n",
       "        text-align: right;\n",
       "    }\n",
       "</style>\n",
       "<table border=\"1\" class=\"dataframe\">\n",
       "  <thead>\n",
       "    <tr style=\"text-align: right;\">\n",
       "      <th></th>\n",
       "      <th>Accuracy</th>\n",
       "      <th>Precision</th>\n",
       "      <th>Recall</th>\n",
       "      <th>F1</th>\n",
       "    </tr>\n",
       "  </thead>\n",
       "  <tbody>\n",
       "    <tr>\n",
       "      <th>train</th>\n",
       "      <td>0.900421</td>\n",
       "      <td>0.956635</td>\n",
       "      <td>0.840375</td>\n",
       "      <td>0.894744</td>\n",
       "    </tr>\n",
       "    <tr>\n",
       "      <th>validation</th>\n",
       "      <td>0.899732</td>\n",
       "      <td>0.955771</td>\n",
       "      <td>0.839964</td>\n",
       "      <td>0.894133</td>\n",
       "    </tr>\n",
       "    <tr>\n",
       "      <th>test</th>\n",
       "      <td>0.896908</td>\n",
       "      <td>0.951330</td>\n",
       "      <td>0.836850</td>\n",
       "      <td>0.890425</td>\n",
       "    </tr>\n",
       "  </tbody>\n",
       "</table>\n",
       "</div>"
      ],
      "text/plain": [
       "            Accuracy  Precision    Recall        F1\n",
       "train       0.900421   0.956635  0.840375  0.894744\n",
       "validation  0.899732   0.955771  0.839964  0.894133\n",
       "test        0.896908   0.951330  0.836850  0.890425"
      ]
     },
     "metadata": {},
     "output_type": "display_data"
    }
   ],
   "source": [
    "evaluate_model(model_lr, title='Regresión Logística', set_names=('train', 'validation','test'), show_cm=False)\n",
    "evaluate_model(model_knn, title='KNN', set_names=('train', 'validation','test'), show_cm=False)\n",
    "evaluate_model(model_tree_maxdepth, title='Arbol de decisión', set_names=('train', 'validation','test'), show_cm=False)\n",
    "evaluate_model(model_rf_maxdepth, title='Random Forest', set_names=('train', 'validation','test'), show_cm=False)\n",
    "evaluate_model(model_gradient_boosted, title='Gradient Boosting', set_names=('train', 'validation','test'), show_cm=False)"
   ]
  },
  {
   "cell_type": "markdown",
   "id": "8a9d6398",
   "metadata": {},
   "source": [
    "**Modelo elegido: Gradient Boosting**\n",
    "\n",
    "**Precision de F1: 89%**"
   ]
  },
  {
   "cell_type": "markdown",
   "id": "f41e9b96",
   "metadata": {},
   "source": [
    "### Conclusión final"
   ]
  },
  {
   "cell_type": "markdown",
   "id": "16422177",
   "metadata": {},
   "source": [
    "Comparando los resultados de todos los modelos, concluimos que **Arboles de decision, Random Forest y Gradient Boosting poseen resultados muy parecidos**, el mejor valor de la métrica F1 es el que devuelve **Gradient Boosting con 89%** por lo que es el modelo elegido.\n",
    "\n",
    "La métrica a informar al cliente es 89 %, por lo que el modelo va a acertar un 89 % de las veces cuando prediga que una cuenta es falsa."
   ]
  }
 ],
 "metadata": {
  "kernelspec": {
   "display_name": "Python 3",
   "language": "python",
   "name": "python3"
  },
  "language_info": {
   "codemirror_mode": {
    "name": "ipython",
    "version": 3
   },
   "file_extension": ".py",
   "mimetype": "text/x-python",
   "name": "python",
   "nbconvert_exporter": "python",
   "pygments_lexer": "ipython3",
   "version": "3.8.6"
  }
 },
 "nbformat": 4,
 "nbformat_minor": 5
}
