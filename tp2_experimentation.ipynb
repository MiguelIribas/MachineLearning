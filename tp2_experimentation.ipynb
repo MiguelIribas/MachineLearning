{
 "cells": [
  {
   "cell_type": "markdown",
   "id": "3b049a20",
   "metadata": {},
   "source": [
    "# INSTAGRAM: DETECCIÓN DE USUARIOS FALSOS\n",
    "\n",
    "## **Entrenamiento y evaluación de modelos**"
   ]
  },
  {
   "cell_type": "markdown",
   "id": "d567bd96",
   "metadata": {},
   "source": [
    "<img src=\"https://miracomohacerlo.com/wp-content/uploads/2019/02/como-ver-a-que-fotos-le-da-like-en-instagram-una-persona-2.jpg\" />"
   ]
  },
  {
   "cell_type": "code",
   "execution_count": 1,
   "id": "dbbe6720",
   "metadata": {},
   "outputs": [],
   "source": [
    "%matplotlib inline"
   ]
  },
  {
   "cell_type": "code",
   "execution_count": 2,
   "id": "6df224bc",
   "metadata": {},
   "outputs": [],
   "source": [
    "import numpy as np\n",
    "import pandas as pd\n",
    "from collections import defaultdict\n",
    "from matplotlib import pyplot as plt\n",
    "import seaborn as sns\n",
    "\n",
    "from IPython.display import HTML, display\n",
    "from sklearn.metrics import accuracy_score, precision_score, recall_score, confusion_matrix\n",
    "from sklearn.model_selection import train_test_split\n",
    "\n",
    "from sklearn_pandas import DataFrameMapper"
   ]
  },
  {
   "cell_type": "markdown",
   "id": "954352c6",
   "metadata": {},
   "source": [
    "## **DATASET**"
   ]
  },
  {
   "cell_type": "code",
   "execution_count": 3,
   "id": "dd8153ce",
   "metadata": {},
   "outputs": [],
   "source": [
    "dataset_original = pd.read_csv('instagram.csv')\n",
    "dataset = dataset_original\n",
    "\n",
    "renamed_columns = {'pos':'post','flw':'followers','flg':'following','bl':'biography_lenght','pic':'profile_picture','lin':'external_url','cl':'post_lenght','cz':'post_lenght_null','ni':'none_image','erl':'engagement_rate_likes','erc':'engagement_rate_comments','lt':'post_location','hc':'hashtags_post','pr':'hashtags_promotional','fo':'hashtags_followers','cs':'cosine_similarity','pi':'interval_post','class':'user_class'}\n",
    "dataset.rename(columns = renamed_columns, inplace = True)\n",
    "\n",
    "dataset[\"user_class\"] = dataset.user_class.replace(['f','r'], [0, 1])"
   ]
  },
  {
   "cell_type": "markdown",
   "id": "f1adaa73",
   "metadata": {},
   "source": [
    "### **Train, Validation, Test**"
   ]
  },
  {
   "cell_type": "code",
   "execution_count": 4,
   "id": "0b801a93",
   "metadata": {},
   "outputs": [],
   "source": [
    "# 60% train, 20% test, 20% validation\n",
    "train, not_train = train_test_split(dataset, test_size=0.4)\n",
    "validation, test = train_test_split(not_train, test_size=0.5)"
   ]
  },
  {
   "cell_type": "markdown",
   "id": "91c3f254",
   "metadata": {},
   "source": [
    "## **MÉTRICAS**"
   ]
  },
  {
   "cell_type": "markdown",
   "id": "4a044c10",
   "metadata": {},
   "source": [
    "1) Se debe elegir y definir una **métrica de performance** a utilizar para **evaluar los modelos**. Fundamentar la elección de la métrica.\n",
    "\n",
    "\n",
    "Elegimos la métrica **Precision** ya que al momento de predecir queremos estar seguros de que una cuenta falsa realmente lo sea. No nos daría lo mismo que el modelo prediga que una cuenta es falsa si no lo es a que prediga que es verdadera cuando en realidad es falsa. Nos interesa saber del total de cuentas falsas predichas cuales realmente lo fueron. \n",
    "Bajo este sustento no podríamos utilizar **Acurracy** porque tiene diferente impacto errar en la predicción de una clase u otra. A su vez creemos que tampoco nos parece adecuado utilizar **Recall** porque se le estaría dando un tratamiento inapropiado a cuentas que se clasificaron como falsas pero que en realidad eran verdaderas. \n",
    "\n",
    "Si bien a continuación vamos a evaluar los modelos con todas las métricas, le vamos a dar mas importancia a Precision. \n"
   ]
  },
  {
   "cell_type": "markdown",
   "id": "82064b7e",
   "metadata": {},
   "source": [
    "2) Se debe aplicar alguna **técnica de feature engineering** para mejorar la data de entrada a los modelos, y mostrar la comparativa de los resultados obtenidos en cada caso. Si no es posible o útil, fundamentar el motivo por el cual no se realizará."
   ]
  },
  {
   "cell_type": "markdown",
   "id": "230ce7b3",
   "metadata": {},
   "source": [
    "## FEATURE ENGINEERING"
   ]
  },
  {
   "cell_type": "markdown",
   "id": "da6ceb3c",
   "metadata": {},
   "source": [
    "### Binning: \n",
    "Utilizamos la técnica de redondeo para las siguientes variables:\n",
    "- post\n",
    "- followers\n",
    "- followings\n",
    "- biography_lenght\n",
    "- post_lenght\n",
    "- engagement_rate_likes\n",
    "- engagement_rate_comments\n",
    "- hashtags_post\n",
    "- hashtags_promotional\n",
    "- hashtags_followers\n",
    "- interval_post\n",
    "\n",
    "### One-hotEnconder:\n",
    "Generamos nuevas columnas a partir de las siguientes variables:\n",
    "- Profile_picture\n",
    "- External_URL"
   ]
  },
  {
   "cell_type": "markdown",
   "id": "50d392ca",
   "metadata": {},
   "source": [
    "Consideramos que las siguientes variables no necesitan una transformación ya que contienen valores que corresponden a porcentajes entre 0 y 1:\n",
    "- post_lenght_null\n",
    "- none_image\n",
    "- post_location\n",
    "- cosine_similarity"
   ]
  },
  {
   "cell_type": "markdown",
   "id": "e4baf70d",
   "metadata": {},
   "source": [
    "### **MAPPER**"
   ]
  },
  {
   "cell_type": "code",
   "execution_count": 5,
   "id": "33447143",
   "metadata": {},
   "outputs": [],
   "source": [
    "from sklearn_pandas import DataFrameMapper\n",
    "from sklearn.preprocessing import StandardScaler, OneHotEncoder"
   ]
  },
  {
   "cell_type": "code",
   "execution_count": 6,
   "id": "6ef86a26",
   "metadata": {},
   "outputs": [
    {
     "data": {
      "text/plain": [
       "array([[-0.24135603,  0.01445213,  0.22917829, ..., -0.11913474,\n",
       "         0.25045601, -0.13909214],\n",
       "       [-0.19789972,  0.71921644, -0.66507231, ...,  0.01257652,\n",
       "         0.264788  ,  0.06098194],\n",
       "       [-0.26710793, -0.01969895, -0.70403664, ..., -0.11913474,\n",
       "         0.033352  , -0.18214522],\n",
       "       ...,\n",
       "       [ 1.3359474 , -0.00811533, -0.19518567, ..., -0.11913474,\n",
       "         0.080069  , -0.30955051],\n",
       "       [-0.2735459 , -0.04552781, -0.88959943, ..., -0.11913474,\n",
       "         1.        , -0.5223442 ],\n",
       "       [-0.24779401, -0.02835856, -0.07945004, ..., -0.11913474,\n",
       "         0.15286601, -0.24447756]])"
      ]
     },
     "execution_count": 6,
     "metadata": {},
     "output_type": "execute_result"
    }
   ],
   "source": [
    "mapper = DataFrameMapper([\n",
    "    (['post'], [StandardScaler()]),\n",
    "    (['followers'], [StandardScaler()]),\n",
    "    (['following'], [StandardScaler()]),\n",
    "    (['biography_lenght'], [StandardScaler()]),\n",
    "    (['profile_picture'], [OneHotEncoder()]),\n",
    "    (['external_url'], [OneHotEncoder()]),\n",
    "    (['post_lenght'], [StandardScaler()]),\n",
    "    (['post_lenght_null'], None),\n",
    "    (['none_image'], None),\n",
    "    (['engagement_rate_likes'], [StandardScaler()]),\n",
    "    (['engagement_rate_comments'], [StandardScaler()]),\n",
    "    (['post_location'], None),\n",
    "    (['hashtags_post'], [StandardScaler()]),\n",
    "    (['hashtags_promotional'], [StandardScaler()]),\n",
    "    (['hashtags_followers'], [StandardScaler()]),\n",
    "    (['cosine_similarity'], None),\n",
    "    (['interval_post'], [StandardScaler()])\n",
    "])\n",
    "\n",
    "mapper.fit(train)\n",
    "mapper.transform(train)"
   ]
  },
  {
   "cell_type": "code",
   "execution_count": 7,
   "id": "d32e18aa",
   "metadata": {},
   "outputs": [
    {
     "data": {
      "text/plain": [
       "['post',\n",
       " 'followers',\n",
       " 'following',\n",
       " 'biography_lenght',\n",
       " 'profile_picture_x0_0',\n",
       " 'profile_picture_x0_1',\n",
       " 'external_url_x0_0',\n",
       " 'external_url_x0_1',\n",
       " 'post_lenght',\n",
       " 'post_lenght_null',\n",
       " 'none_image',\n",
       " 'engagement_rate_likes',\n",
       " 'engagement_rate_comments',\n",
       " 'post_location',\n",
       " 'hashtags_post',\n",
       " 'hashtags_promotional',\n",
       " 'hashtags_followers',\n",
       " 'cosine_similarity',\n",
       " 'interval_post']"
      ]
     },
     "execution_count": 7,
     "metadata": {},
     "output_type": "execute_result"
    }
   ],
   "source": [
    "mapper.transformed_names_"
   ]
  },
  {
   "cell_type": "markdown",
   "id": "66243063",
   "metadata": {},
   "source": [
    "3) Por cada modelo, se debe **entrenarlo y evaluar** su comportamiento con la **métrica** elegida. Sacar conclusiones respecto a los motivos por los cuales el modelo funciona bien o mal."
   ]
  },
  {
   "cell_type": "markdown",
   "id": "6ca8440c",
   "metadata": {},
   "source": [
    "## **MODELOS**"
   ]
  },
  {
   "cell_type": "markdown",
   "id": "bde05125",
   "metadata": {},
   "source": [
    "### **Función para evaluar modelos**"
   ]
  },
  {
   "cell_type": "code",
   "execution_count": 8,
   "id": "fcd8c1ae",
   "metadata": {},
   "outputs": [],
   "source": [
    "from sklearn import metrics\n",
    "\n",
    "from sklearn.experimental import enable_iterative_imputer\n",
    "from sklearn.impute import SimpleImputer, IterativeImputer\n",
    "\n",
    "from sklearn.pipeline import Pipeline"
   ]
  },
  {
   "cell_type": "code",
   "execution_count": 9,
   "id": "9df21ca2",
   "metadata": {},
   "outputs": [],
   "source": [
    "def evaluate_model(model, set_names=('train', 'validation'), title='', show_cm=True):\n",
    "    if title:\n",
    "        display(title)\n",
    "        \n",
    "    final_metrics = defaultdict(list)\n",
    "    \n",
    "    if show_cm:\n",
    "        fig, axis = plt.subplots(1, len(set_names), sharey=True, figsize=(15, 3))\n",
    "    \n",
    "    for i, set_name in enumerate(set_names):\n",
    "        assert set_name in ['train', 'validation', 'test']\n",
    "        set_data = globals()[set_name]  # <- hack feo...\n",
    "\n",
    "        y = set_data.user_class\n",
    "        y_pred = model.predict(set_data)\n",
    "        final_metrics['Accuracy'].append(metrics.accuracy_score(y, y_pred))\n",
    "        final_metrics['Precision'].append(metrics.precision_score(y, y_pred))\n",
    "        final_metrics['Recall'].append(metrics.recall_score(y, y_pred))\n",
    "        final_metrics['F1'].append(metrics.f1_score(y, y_pred))\n",
    "        \n",
    "        if show_cm:\n",
    "            ax = axis[i]\n",
    "            sns.heatmap(metrics.confusion_matrix(y, y_pred), ax=ax, cmap='Blues', annot=True, fmt='.0f', cbar=False)\n",
    "\n",
    "            ax.set_title(set_name)\n",
    "            ax.xaxis.set_ticklabels(['real', 'fake'])\n",
    "            ax.yaxis.set_ticklabels(['real', 'fake'])\n",
    "            ax.set_xlabel('Predicted class')\n",
    "            ax.set_ylabel('True class')\n",
    "\n",
    "        \n",
    "    display(pd.DataFrame(final_metrics, index=set_names))\n",
    "    if show_cm:\n",
    "        plt.tight_layout()\n",
    "        plt.show()"
   ]
  },
  {
   "cell_type": "markdown",
   "id": "e80cbac0",
   "metadata": {},
   "source": [
    "### **REGRESIÓN LOGÍSTICA**"
   ]
  },
  {
   "cell_type": "code",
   "execution_count": 106,
   "id": "f6f44e91",
   "metadata": {},
   "outputs": [],
   "source": [
    "from sklearn.linear_model import LogisticRegression"
   ]
  },
  {
   "cell_type": "code",
   "execution_count": 107,
   "id": "fb0c4e91",
   "metadata": {
    "scrolled": false
   },
   "outputs": [
    {
     "data": {
      "text/html": [
       "<div>\n",
       "<style scoped>\n",
       "    .dataframe tbody tr th:only-of-type {\n",
       "        vertical-align: middle;\n",
       "    }\n",
       "\n",
       "    .dataframe tbody tr th {\n",
       "        vertical-align: top;\n",
       "    }\n",
       "\n",
       "    .dataframe thead th {\n",
       "        text-align: right;\n",
       "    }\n",
       "</style>\n",
       "<table border=\"1\" class=\"dataframe\">\n",
       "  <thead>\n",
       "    <tr style=\"text-align: right;\">\n",
       "      <th></th>\n",
       "      <th>Accuracy</th>\n",
       "      <th>Precision</th>\n",
       "      <th>Recall</th>\n",
       "      <th>F1</th>\n",
       "    </tr>\n",
       "  </thead>\n",
       "  <tbody>\n",
       "    <tr>\n",
       "      <th>train</th>\n",
       "      <td>0.811149</td>\n",
       "      <td>0.800218</td>\n",
       "      <td>0.827512</td>\n",
       "      <td>0.813636</td>\n",
       "    </tr>\n",
       "    <tr>\n",
       "      <th>validation</th>\n",
       "      <td>0.808726</td>\n",
       "      <td>0.791716</td>\n",
       "      <td>0.828371</td>\n",
       "      <td>0.809629</td>\n",
       "    </tr>\n",
       "  </tbody>\n",
       "</table>\n",
       "</div>"
      ],
      "text/plain": [
       "            Accuracy  Precision    Recall        F1\n",
       "train       0.811149   0.800218  0.827512  0.813636\n",
       "validation  0.808726   0.791716  0.828371  0.809629"
      ]
     },
     "metadata": {},
     "output_type": "display_data"
    },
    {
     "data": {
      "image/png": "[encoded data removed]",
      "text/plain": [
       "<Figure size 1080x216 with 2 Axes>"
      ]
     },
     "metadata": {
      "needs_background": "light"
     },
     "output_type": "display_data"
    }
   ],
   "source": [
    "model_lr = Pipeline([\n",
    "    ('mapper', mapper),\n",
    "    ('imputer', IterativeImputer(random_state=42)),\n",
    "    ('classifier', LogisticRegression(random_state=42)),\n",
    "])\n",
    "\n",
    "model_lr.fit(train, train.user_class)\n",
    "\n",
    "evaluate_model(model_lr)"
   ]
  },
  {
   "cell_type": "markdown",
   "id": "3204e323",
   "metadata": {},
   "source": [
    "Podemos observar que **en validation obtivimos un 80% de acierto con la métrica precision al clasificar cuentas falsas.** A su vez observamos que si bien es muy poca la diferencia de los casos reales que erró con los casos falsos que erró, esta última resulta mayor. "
   ]
  },
  {
   "cell_type": "markdown",
   "id": "853a0040",
   "metadata": {},
   "source": [
    "#### Importancias de variables"
   ]
  },
  {
   "cell_type": "code",
   "execution_count": 12,
   "id": "f4971614",
   "metadata": {},
   "outputs": [
    {
     "data": {
      "text/plain": [
       "<AxesSubplot:xlabel='coeficiente', ylabel='feature'>"
      ]
     },
     "execution_count": 12,
     "metadata": {},
     "output_type": "execute_result"
    },
    {
     "data": {
      "image/png": "[encoded data removed]",
      "text/plain": [
       "<Figure size 432x288 with 1 Axes>"
      ]
     },
     "metadata": {
      "needs_background": "light"
     },
     "output_type": "display_data"
    }
   ],
   "source": [
    "clf = model_lr.named_steps['classifier']\n",
    "clf.coef_  # los pesos que aprendió la regresión logística!\n",
    "\n",
    "df_importance = pd.DataFrame({\n",
    "    'feature': mapper.transformed_names_, \n",
    "    'coeficiente': clf.coef_[0],\n",
    "}).sort_values(by='coeficiente')\n",
    "\n",
    "sns.barplot(data=df_importance, x='coeficiente', y='feature')"
   ]
  },
  {
   "cell_type": "markdown",
   "id": "462c4a26",
   "metadata": {},
   "source": [
    "**Conclusiones:**\n",
    "- Cuanto mas cantidad de following tenga un cuenta, mas probabilidades tiene de ser falsa. \n",
    "- Cuanto mas cantidad de uso de hashtags promocionales tenga una cuenta, mas probabilidades tiene de ser falsa. \n",
    "- Cuanto mas porcentaje de publicaciones con ubicación tenga una cuenta, mas probabilidades tiene de ser real. \n",
    "- Si la variable external_URL es 0, mas probabilidades hay de que la cuenta sea falsa. En cambio si es 1 de que sea real.\n"
   ]
  },
  {
   "cell_type": "markdown",
   "id": "5a4aff6a",
   "metadata": {},
   "source": [
    "### **K NEAREST NEIGHBORS**"
   ]
  },
  {
   "cell_type": "code",
   "execution_count": 108,
   "id": "f9943f8b",
   "metadata": {},
   "outputs": [],
   "source": [
    "from sklearn.neighbors import KNeighborsClassifier"
   ]
  },
  {
   "cell_type": "code",
   "execution_count": 109,
   "id": "f9416f4b",
   "metadata": {
    "scrolled": true
   },
   "outputs": [
    {
     "data": {
      "text/plain": [
       "'Knn'"
      ]
     },
     "metadata": {},
     "output_type": "display_data"
    },
    {
     "data": {
      "text/html": [
       "<div>\n",
       "<style scoped>\n",
       "    .dataframe tbody tr th:only-of-type {\n",
       "        vertical-align: middle;\n",
       "    }\n",
       "\n",
       "    .dataframe tbody tr th {\n",
       "        vertical-align: top;\n",
       "    }\n",
       "\n",
       "    .dataframe thead th {\n",
       "        text-align: right;\n",
       "    }\n",
       "</style>\n",
       "<table border=\"1\" class=\"dataframe\">\n",
       "  <thead>\n",
       "    <tr style=\"text-align: right;\">\n",
       "      <th></th>\n",
       "      <th>Accuracy</th>\n",
       "      <th>Precision</th>\n",
       "      <th>Recall</th>\n",
       "      <th>F1</th>\n",
       "    </tr>\n",
       "  </thead>\n",
       "  <tbody>\n",
       "    <tr>\n",
       "      <th>train</th>\n",
       "      <td>0.852226</td>\n",
       "      <td>0.839883</td>\n",
       "      <td>0.869046</td>\n",
       "      <td>0.854216</td>\n",
       "    </tr>\n",
       "    <tr>\n",
       "      <th>validation</th>\n",
       "      <td>0.826636</td>\n",
       "      <td>0.808413</td>\n",
       "      <td>0.847857</td>\n",
       "      <td>0.827665</td>\n",
       "    </tr>\n",
       "  </tbody>\n",
       "</table>\n",
       "</div>"
      ],
      "text/plain": [
       "            Accuracy  Precision    Recall        F1\n",
       "train       0.852226   0.839883  0.869046  0.854216\n",
       "validation  0.826636   0.808413  0.847857  0.827665"
      ]
     },
     "metadata": {},
     "output_type": "display_data"
    },
    {
     "data": {
      "image/png": "[encoded data removed]",
      "text/plain": [
       "<Figure size 1080x216 with 2 Axes>"
      ]
     },
     "metadata": {
      "needs_background": "light"
     },
     "output_type": "display_data"
    }
   ],
   "source": [
    "K = 10\n",
    "\n",
    "model_knn = Pipeline([\n",
    "    ('mapper', mapper),\n",
    "    ('imputer', IterativeImputer(random_state=42)),\n",
    "    ('classifier', KNeighborsClassifier(n_neighbors=K)),\n",
    "])\n",
    "\n",
    "model_knn.fit(train, train.user_class)\n",
    "\n",
    "evaluate_model(model_knn, title='Knn')"
   ]
  },
  {
   "cell_type": "markdown",
   "id": "1ee83c7f",
   "metadata": {},
   "source": [
    "Observamos que en validation obtivimos un **84% de acierto** en Train y en Validation **81%**"
   ]
  },
  {
   "cell_type": "markdown",
   "id": "5cd05985",
   "metadata": {},
   "source": [
    "### **ÁRBOLES DE DECISIÓN**"
   ]
  },
  {
   "cell_type": "code",
   "execution_count": 110,
   "id": "f076c604",
   "metadata": {},
   "outputs": [],
   "source": [
    "from sklearn.tree import DecisionTreeClassifier\n",
    "from sklearn.preprocessing import LabelBinarizer"
   ]
  },
  {
   "cell_type": "code",
   "execution_count": 111,
   "id": "45a2e8d2",
   "metadata": {
    "scrolled": true
   },
   "outputs": [
    {
     "data": {
      "text/plain": [
       "'Decision Tree'"
      ]
     },
     "metadata": {},
     "output_type": "display_data"
    },
    {
     "data": {
      "text/html": [
       "<div>\n",
       "<style scoped>\n",
       "    .dataframe tbody tr th:only-of-type {\n",
       "        vertical-align: middle;\n",
       "    }\n",
       "\n",
       "    .dataframe tbody tr th {\n",
       "        vertical-align: top;\n",
       "    }\n",
       "\n",
       "    .dataframe thead th {\n",
       "        text-align: right;\n",
       "    }\n",
       "</style>\n",
       "<table border=\"1\" class=\"dataframe\">\n",
       "  <thead>\n",
       "    <tr style=\"text-align: right;\">\n",
       "      <th></th>\n",
       "      <th>Accuracy</th>\n",
       "      <th>Precision</th>\n",
       "      <th>Recall</th>\n",
       "      <th>F1</th>\n",
       "    </tr>\n",
       "  </thead>\n",
       "  <tbody>\n",
       "    <tr>\n",
       "      <th>train</th>\n",
       "      <td>1.000000</td>\n",
       "      <td>1.000000</td>\n",
       "      <td>1.000000</td>\n",
       "      <td>1.000000</td>\n",
       "    </tr>\n",
       "    <tr>\n",
       "      <th>validation</th>\n",
       "      <td>0.853655</td>\n",
       "      <td>0.852072</td>\n",
       "      <td>0.849415</td>\n",
       "      <td>0.850742</td>\n",
       "    </tr>\n",
       "  </tbody>\n",
       "</table>\n",
       "</div>"
      ],
      "text/plain": [
       "            Accuracy  Precision    Recall        F1\n",
       "train       1.000000   1.000000  1.000000  1.000000\n",
       "validation  0.853655   0.852072  0.849415  0.850742"
      ]
     },
     "metadata": {},
     "output_type": "display_data"
    },
    {
     "data": {
      "image/png": "[encoded data removed]",
      "text/plain": [
       "<Figure size 1080x216 with 2 Axes>"
      ]
     },
     "metadata": {
      "needs_background": "light"
     },
     "output_type": "display_data"
    }
   ],
   "source": [
    "model_tree = Pipeline([\n",
    "    ('mapper', mapper),\n",
    "    ('imputer', IterativeImputer(random_state=42)),\n",
    "    ('classifier', DecisionTreeClassifier(random_state=42)),\n",
    "])\n",
    "\n",
    "model_tree.fit(train, train.user_class)\n",
    "\n",
    "evaluate_model(model_tree, title='Decision Tree')"
   ]
  },
  {
   "cell_type": "markdown",
   "id": "8bd0a4d8",
   "metadata": {},
   "source": [
    "Podemos observar que **en train el algorítmo aciertó casi todos los casos**. Sin embargo en validation observamos que si tuvo fallas a la hora de predecir por lo que entendemos que en train está haciendo **overfiting.** \n",
    "\n",
    "Por lo cual agregamos un valor de máxima profundidad: "
   ]
  },
  {
   "cell_type": "code",
   "execution_count": 112,
   "id": "a1035639",
   "metadata": {
    "scrolled": true
   },
   "outputs": [
    {
     "data": {
      "text/plain": [
       "'Decision Tree'"
      ]
     },
     "metadata": {},
     "output_type": "display_data"
    },
    {
     "data": {
      "text/html": [
       "<div>\n",
       "<style scoped>\n",
       "    .dataframe tbody tr th:only-of-type {\n",
       "        vertical-align: middle;\n",
       "    }\n",
       "\n",
       "    .dataframe tbody tr th {\n",
       "        vertical-align: top;\n",
       "    }\n",
       "\n",
       "    .dataframe thead th {\n",
       "        text-align: right;\n",
       "    }\n",
       "</style>\n",
       "<table border=\"1\" class=\"dataframe\">\n",
       "  <thead>\n",
       "    <tr style=\"text-align: right;\">\n",
       "      <th></th>\n",
       "      <th>Accuracy</th>\n",
       "      <th>Precision</th>\n",
       "      <th>Recall</th>\n",
       "      <th>F1</th>\n",
       "    </tr>\n",
       "  </thead>\n",
       "  <tbody>\n",
       "    <tr>\n",
       "      <th>train</th>\n",
       "      <td>0.906544</td>\n",
       "      <td>0.863947</td>\n",
       "      <td>0.964253</td>\n",
       "      <td>0.911348</td>\n",
       "    </tr>\n",
       "    <tr>\n",
       "      <th>validation</th>\n",
       "      <td>0.885036</td>\n",
       "      <td>0.841133</td>\n",
       "      <td>0.944193</td>\n",
       "      <td>0.889689</td>\n",
       "    </tr>\n",
       "  </tbody>\n",
       "</table>\n",
       "</div>"
      ],
      "text/plain": [
       "            Accuracy  Precision    Recall        F1\n",
       "train       0.906544   0.863947  0.964253  0.911348\n",
       "validation  0.885036   0.841133  0.944193  0.889689"
      ]
     },
     "metadata": {},
     "output_type": "display_data"
    },
    {
     "data": {
      "image/png": "[encoded data removed]",
      "text/plain": [
       "<Figure size 1080x216 with 2 Axes>"
      ]
     },
     "metadata": {
      "needs_background": "light"
     },
     "output_type": "display_data"
    }
   ],
   "source": [
    "model_tree_maxdepth = Pipeline([\n",
    "    ('mapper', mapper),\n",
    "    ('imputer', IterativeImputer(random_state=42)),\n",
    "    ('classifier', DecisionTreeClassifier(max_depth = 10, random_state=42)),\n",
    "])\n",
    "\n",
    "model_tree_maxdepth.fit(train, train.user_class)\n",
    "\n",
    "evaluate_model(model_tree_maxdepth, title='Decision Tree')"
   ]
  },
  {
   "cell_type": "markdown",
   "id": "9b5285b2",
   "metadata": {},
   "source": [
    "Agregando un límite de profundidad obtuvimos mejores resultados con **84% de precision** en train"
   ]
  },
  {
   "cell_type": "markdown",
   "id": "0a4c04fb",
   "metadata": {},
   "source": [
    "### **RANDOM FOREST**"
   ]
  },
  {
   "cell_type": "code",
   "execution_count": 113,
   "id": "6dcccc66",
   "metadata": {},
   "outputs": [],
   "source": [
    "from sklearn.ensemble import RandomForestClassifier"
   ]
  },
  {
   "cell_type": "code",
   "execution_count": 114,
   "id": "4001da7f",
   "metadata": {
    "scrolled": false
   },
   "outputs": [
    {
     "data": {
      "text/plain": [
       "'Random Forest'"
      ]
     },
     "metadata": {},
     "output_type": "display_data"
    },
    {
     "data": {
      "text/html": [
       "<div>\n",
       "<style scoped>\n",
       "    .dataframe tbody tr th:only-of-type {\n",
       "        vertical-align: middle;\n",
       "    }\n",
       "\n",
       "    .dataframe tbody tr th {\n",
       "        vertical-align: top;\n",
       "    }\n",
       "\n",
       "    .dataframe thead th {\n",
       "        text-align: right;\n",
       "    }\n",
       "</style>\n",
       "<table border=\"1\" class=\"dataframe\">\n",
       "  <thead>\n",
       "    <tr style=\"text-align: right;\">\n",
       "      <th></th>\n",
       "      <th>Accuracy</th>\n",
       "      <th>Precision</th>\n",
       "      <th>Recall</th>\n",
       "      <th>F1</th>\n",
       "    </tr>\n",
       "  </thead>\n",
       "  <tbody>\n",
       "    <tr>\n",
       "      <th>train</th>\n",
       "      <td>1.000000</td>\n",
       "      <td>1.000000</td>\n",
       "      <td>1.000000</td>\n",
       "      <td>1.000000</td>\n",
       "    </tr>\n",
       "    <tr>\n",
       "      <th>validation</th>\n",
       "      <td>0.897053</td>\n",
       "      <td>0.854744</td>\n",
       "      <td>0.952143</td>\n",
       "      <td>0.900819</td>\n",
       "    </tr>\n",
       "  </tbody>\n",
       "</table>\n",
       "</div>"
      ],
      "text/plain": [
       "            Accuracy  Precision    Recall        F1\n",
       "train       1.000000   1.000000  1.000000  1.000000\n",
       "validation  0.897053   0.854744  0.952143  0.900819"
      ]
     },
     "metadata": {},
     "output_type": "display_data"
    },
    {
     "data": {
      "image/png": "[encoded data removed]",
      "text/plain": [
       "<Figure size 1080x216 with 2 Axes>"
      ]
     },
     "metadata": {
      "needs_background": "light"
     },
     "output_type": "display_data"
    }
   ],
   "source": [
    "forest_model = RandomForestClassifier(random_state=42)\n",
    "\n",
    "model_rf = Pipeline([\n",
    "    ('mapper', mapper),\n",
    "    ('imputer', IterativeImputer(random_state=42)),\n",
    "    ('classifier', forest_model),\n",
    "])\n",
    "\n",
    "model_rf.fit(train, train.user_class)\n",
    "\n",
    "evaluate_model(model_rf, title='Random Forest')"
   ]
  },
  {
   "cell_type": "markdown",
   "id": "802ef1f1",
   "metadata": {},
   "source": [
    "Observamos que al no indicar un límite de profundidad y cantidad de estimadores obtenemos una precisión de 1, por lo que entendemos que el algorítmo **está sobreentrenando.** "
   ]
  },
  {
   "cell_type": "code",
   "execution_count": 115,
   "id": "2436b310",
   "metadata": {
    "scrolled": true
   },
   "outputs": [
    {
     "data": {
      "text/plain": [
       "'Random Forest'"
      ]
     },
     "metadata": {},
     "output_type": "display_data"
    },
    {
     "data": {
      "text/html": [
       "<div>\n",
       "<style scoped>\n",
       "    .dataframe tbody tr th:only-of-type {\n",
       "        vertical-align: middle;\n",
       "    }\n",
       "\n",
       "    .dataframe tbody tr th {\n",
       "        vertical-align: top;\n",
       "    }\n",
       "\n",
       "    .dataframe thead th {\n",
       "        text-align: right;\n",
       "    }\n",
       "</style>\n",
       "<table border=\"1\" class=\"dataframe\">\n",
       "  <thead>\n",
       "    <tr style=\"text-align: right;\">\n",
       "      <th></th>\n",
       "      <th>Accuracy</th>\n",
       "      <th>Precision</th>\n",
       "      <th>Recall</th>\n",
       "      <th>F1</th>\n",
       "    </tr>\n",
       "  </thead>\n",
       "  <tbody>\n",
       "    <tr>\n",
       "      <th>train</th>\n",
       "      <td>0.910856</td>\n",
       "      <td>0.853377</td>\n",
       "      <td>0.991396</td>\n",
       "      <td>0.917223</td>\n",
       "    </tr>\n",
       "    <tr>\n",
       "      <th>validation</th>\n",
       "      <td>0.892767</td>\n",
       "      <td>0.834534</td>\n",
       "      <td>0.974903</td>\n",
       "      <td>0.899274</td>\n",
       "    </tr>\n",
       "  </tbody>\n",
       "</table>\n",
       "</div>"
      ],
      "text/plain": [
       "            Accuracy  Precision    Recall        F1\n",
       "train       0.910856   0.853377  0.991396  0.917223\n",
       "validation  0.892767   0.834534  0.974903  0.899274"
      ]
     },
     "metadata": {},
     "output_type": "display_data"
    },
    {
     "data": {
      "image/png": "[encoded data removed]",
      "text/plain": [
       "<Figure size 1080x216 with 2 Axes>"
      ]
     },
     "metadata": {
      "needs_background": "light"
     },
     "output_type": "display_data"
    }
   ],
   "source": [
    "forest_model_maxdepth = RandomForestClassifier(n_estimators=100, max_depth=10, max_features=5, random_state=42)\n",
    "\n",
    "model_rf_maxdepth = Pipeline([\n",
    "    ('mapper', mapper),\n",
    "    ('imputer', IterativeImputer(random_state=42)),\n",
    "    ('classifier', forest_model_maxdepth),\n",
    "])\n",
    "\n",
    "model_rf_maxdepth.fit(train, train.user_class)\n",
    "\n",
    "evaluate_model(model_rf_maxdepth, title='Random Forest')\n"
   ]
  },
  {
   "cell_type": "markdown",
   "id": "e3d99d09",
   "metadata": {},
   "source": [
    "Observamos que, para un valor de **100 arboles** y un **limite de profudidad de 10,** obtenemos un **85% de precisión** en Train y un **83%** en Validation. \n"
   ]
  },
  {
   "cell_type": "markdown",
   "id": "1bce40fc",
   "metadata": {},
   "source": [
    "### **GRADIENT BOOSTED TREES**"
   ]
  },
  {
   "cell_type": "code",
   "execution_count": 116,
   "id": "01df033d",
   "metadata": {},
   "outputs": [],
   "source": [
    "from sklearn.ensemble import GradientBoostingClassifier"
   ]
  },
  {
   "cell_type": "code",
   "execution_count": 117,
   "id": "4080df87",
   "metadata": {},
   "outputs": [
    {
     "data": {
      "text/plain": [
       "'Gradient Boosting'"
      ]
     },
     "metadata": {},
     "output_type": "display_data"
    },
    {
     "data": {
      "text/html": [
       "<div>\n",
       "<style scoped>\n",
       "    .dataframe tbody tr th:only-of-type {\n",
       "        vertical-align: middle;\n",
       "    }\n",
       "\n",
       "    .dataframe tbody tr th {\n",
       "        vertical-align: top;\n",
       "    }\n",
       "\n",
       "    .dataframe thead th {\n",
       "        text-align: right;\n",
       "    }\n",
       "</style>\n",
       "<table border=\"1\" class=\"dataframe\">\n",
       "  <thead>\n",
       "    <tr style=\"text-align: right;\">\n",
       "      <th></th>\n",
       "      <th>Accuracy</th>\n",
       "      <th>Precision</th>\n",
       "      <th>Recall</th>\n",
       "      <th>F1</th>\n",
       "    </tr>\n",
       "  </thead>\n",
       "  <tbody>\n",
       "    <tr>\n",
       "      <th>train</th>\n",
       "      <td>0.902539</td>\n",
       "      <td>0.859438</td>\n",
       "      <td>0.961641</td>\n",
       "      <td>0.907671</td>\n",
       "    </tr>\n",
       "    <tr>\n",
       "      <th>validation</th>\n",
       "      <td>0.896441</td>\n",
       "      <td>0.851625</td>\n",
       "      <td>0.955573</td>\n",
       "      <td>0.900610</td>\n",
       "    </tr>\n",
       "  </tbody>\n",
       "</table>\n",
       "</div>"
      ],
      "text/plain": [
       "            Accuracy  Precision    Recall        F1\n",
       "train       0.902539   0.859438  0.961641  0.907671\n",
       "validation  0.896441   0.851625  0.955573  0.900610"
      ]
     },
     "metadata": {},
     "output_type": "display_data"
    },
    {
     "data": {
      "image/png": "[encoded data removed]",
      "text/plain": [
       "<Figure size 1080x216 with 2 Axes>"
      ]
     },
     "metadata": {
      "needs_background": "light"
     },
     "output_type": "display_data"
    }
   ],
   "source": [
    "boost_model = GradientBoostingClassifier(random_state=42)\n",
    "\n",
    "model_gradient_boosted = Pipeline([\n",
    "    ('mapper', mapper),\n",
    "    ('imputer', IterativeImputer(random_state=42)),\n",
    "    ('classifier', boost_model),\n",
    "])\n",
    "\n",
    "model_gradient_boosted.fit(train, train.user_class)\n",
    "\n",
    "evaluate_model(model_gradient_boosted, title='Gradient Boosting')"
   ]
  },
  {
   "cell_type": "markdown",
   "id": "e2bc0856",
   "metadata": {},
   "source": [
    "Observamos que en validation obtivimos un **85%** en Train y **84%** en Validation. "
   ]
  },
  {
   "cell_type": "markdown",
   "id": "6854e0c9",
   "metadata": {},
   "source": [
    "4) Se deben utilizar **técnicas** que garanticen que los modelos no están **sobreentrenando** sin que nos demos cuenta."
   ]
  },
  {
   "cell_type": "markdown",
   "id": "b9b4d25b",
   "metadata": {},
   "source": [
    "### EVITANDO OVERFITING"
   ]
  },
  {
   "cell_type": "markdown",
   "id": "c85ec3d0",
   "metadata": {},
   "source": [
    "Tal como mencionamos anteriormente, en la evaluación de ciertos algoritmos obtuvimos una precsión del 100%, lo que nos indicaba que los algortimos estaban sobreentrenando. \n",
    "Para evitar el overfitting en estos casos indicamos: \n",
    "- Cantidad de vecinos en KNN\n",
    "- Límite de profundidad en Arboles de Decision \n",
    "- Límite de profundidad en Random Forest\n",
    "\n",
    "Ahora bien para saber cuál debería ser la cantidad de vecinos o máxima profundidad mas apropiada para indicarle a los modelos, graficamos las curvas de aprendizaje y a partir de ello seleccionamos el valor mas eficiente.\n"
   ]
  },
  {
   "cell_type": "markdown",
   "id": "28ae8a35",
   "metadata": {},
   "source": [
    "#### Curva para KNN"
   ]
  },
  {
   "cell_type": "code",
   "execution_count": 95,
   "id": "96494dfe",
   "metadata": {},
   "outputs": [
    {
     "ename": "KeyboardInterrupt",
     "evalue": "",
     "output_type": "error",
     "traceback": [
      "\u001b[0;31m---------------------------------------------------------------------------\u001b[0m",
      "\u001b[0;31mKeyboardInterrupt\u001b[0m                         Traceback (most recent call last)",
      "\u001b[0;32m<ipython-input-95-3376d6cae958>\u001b[0m in \u001b[0;36m<module>\u001b[0;34m\u001b[0m\n\u001b[1;32m     16\u001b[0m     \u001b[0marbol3\u001b[0m\u001b[0;34m=\u001b[0m\u001b[0marbol3\u001b[0m\u001b[0;34m.\u001b[0m\u001b[0mfit\u001b[0m\u001b[0;34m(\u001b[0m\u001b[0mtrain\u001b[0m\u001b[0;34m,\u001b[0m \u001b[0mtrain\u001b[0m\u001b[0;34m.\u001b[0m\u001b[0muser_class\u001b[0m\u001b[0;34m)\u001b[0m\u001b[0;34m\u001b[0m\u001b[0;34m\u001b[0m\u001b[0m\n\u001b[1;32m     17\u001b[0m     \u001b[0mtrain_prec\u001b[0m\u001b[0;34m.\u001b[0m\u001b[0mappend\u001b[0m\u001b[0;34m(\u001b[0m\u001b[0marbol3\u001b[0m\u001b[0;34m.\u001b[0m\u001b[0mscore\u001b[0m\u001b[0;34m(\u001b[0m\u001b[0mtrain\u001b[0m\u001b[0;34m,\u001b[0m \u001b[0mtrain\u001b[0m\u001b[0;34m.\u001b[0m\u001b[0muser_class\u001b[0m\u001b[0;34m)\u001b[0m\u001b[0;34m)\u001b[0m\u001b[0;34m\u001b[0m\u001b[0;34m\u001b[0m\u001b[0m\n\u001b[0;32m---> 18\u001b[0;31m     \u001b[0mprint\u001b[0m\u001b[0;34m(\u001b[0m\u001b[0marbol3\u001b[0m\u001b[0;34m.\u001b[0m\u001b[0mscore\u001b[0m\u001b[0;34m(\u001b[0m\u001b[0mtrain\u001b[0m\u001b[0;34m,\u001b[0m \u001b[0mtrain\u001b[0m\u001b[0;34m.\u001b[0m\u001b[0muser_class\u001b[0m\u001b[0;34m)\u001b[0m\u001b[0;34m)\u001b[0m\u001b[0;34m\u001b[0m\u001b[0;34m\u001b[0m\u001b[0m\n\u001b[0m\u001b[1;32m     19\u001b[0m     \u001b[0meval_prec\u001b[0m\u001b[0;34m.\u001b[0m\u001b[0mappend\u001b[0m\u001b[0;34m(\u001b[0m\u001b[0marbol3\u001b[0m\u001b[0;34m.\u001b[0m\u001b[0mscore\u001b[0m\u001b[0;34m(\u001b[0m\u001b[0mvalidation\u001b[0m\u001b[0;34m,\u001b[0m \u001b[0mvalidation\u001b[0m\u001b[0;34m.\u001b[0m\u001b[0muser_class\u001b[0m\u001b[0;34m)\u001b[0m\u001b[0;34m)\u001b[0m\u001b[0;34m\u001b[0m\u001b[0;34m\u001b[0m\u001b[0m\n\u001b[1;32m     20\u001b[0m \u001b[0;34m\u001b[0m\u001b[0m\n",
      "\u001b[0;32m~/Escritorio/MachineLearning/virtualenv/lib/python3.8/site-packages/sklearn/utils/metaestimators.py\u001b[0m in \u001b[0;36m<lambda>\u001b[0;34m(*args, **kwargs)\u001b[0m\n\u001b[1;32m    118\u001b[0m \u001b[0;34m\u001b[0m\u001b[0m\n\u001b[1;32m    119\u001b[0m         \u001b[0;31m# lambda, but not partial, allows help() to work with update_wrapper\u001b[0m\u001b[0;34m\u001b[0m\u001b[0;34m\u001b[0m\u001b[0;34m\u001b[0m\u001b[0m\n\u001b[0;32m--> 120\u001b[0;31m         \u001b[0mout\u001b[0m \u001b[0;34m=\u001b[0m \u001b[0;32mlambda\u001b[0m \u001b[0;34m*\u001b[0m\u001b[0margs\u001b[0m\u001b[0;34m,\u001b[0m \u001b[0;34m**\u001b[0m\u001b[0mkwargs\u001b[0m\u001b[0;34m:\u001b[0m \u001b[0mself\u001b[0m\u001b[0;34m.\u001b[0m\u001b[0mfn\u001b[0m\u001b[0;34m(\u001b[0m\u001b[0mobj\u001b[0m\u001b[0;34m,\u001b[0m \u001b[0;34m*\u001b[0m\u001b[0margs\u001b[0m\u001b[0;34m,\u001b[0m \u001b[0;34m**\u001b[0m\u001b[0mkwargs\u001b[0m\u001b[0;34m)\u001b[0m\u001b[0;34m\u001b[0m\u001b[0;34m\u001b[0m\u001b[0m\n\u001b[0m\u001b[1;32m    121\u001b[0m         \u001b[0;31m# update the docstring of the returned function\u001b[0m\u001b[0;34m\u001b[0m\u001b[0;34m\u001b[0m\u001b[0;34m\u001b[0m\u001b[0m\n\u001b[1;32m    122\u001b[0m         \u001b[0mupdate_wrapper\u001b[0m\u001b[0;34m(\u001b[0m\u001b[0mout\u001b[0m\u001b[0;34m,\u001b[0m \u001b[0mself\u001b[0m\u001b[0;34m.\u001b[0m\u001b[0mfn\u001b[0m\u001b[0;34m)\u001b[0m\u001b[0;34m\u001b[0m\u001b[0;34m\u001b[0m\u001b[0m\n",
      "\u001b[0;32m~/Escritorio/MachineLearning/virtualenv/lib/python3.8/site-packages/sklearn/pipeline.py\u001b[0m in \u001b[0;36mscore\u001b[0;34m(self, X, y, sample_weight)\u001b[0m\n\u001b[1;32m    620\u001b[0m         \u001b[0;32mif\u001b[0m \u001b[0msample_weight\u001b[0m \u001b[0;32mis\u001b[0m \u001b[0;32mnot\u001b[0m \u001b[0;32mNone\u001b[0m\u001b[0;34m:\u001b[0m\u001b[0;34m\u001b[0m\u001b[0;34m\u001b[0m\u001b[0m\n\u001b[1;32m    621\u001b[0m             \u001b[0mscore_params\u001b[0m\u001b[0;34m[\u001b[0m\u001b[0;34m'sample_weight'\u001b[0m\u001b[0;34m]\u001b[0m \u001b[0;34m=\u001b[0m \u001b[0msample_weight\u001b[0m\u001b[0;34m\u001b[0m\u001b[0;34m\u001b[0m\u001b[0m\n\u001b[0;32m--> 622\u001b[0;31m         \u001b[0;32mreturn\u001b[0m \u001b[0mself\u001b[0m\u001b[0;34m.\u001b[0m\u001b[0msteps\u001b[0m\u001b[0;34m[\u001b[0m\u001b[0;34m-\u001b[0m\u001b[0;36m1\u001b[0m\u001b[0;34m]\u001b[0m\u001b[0;34m[\u001b[0m\u001b[0;34m-\u001b[0m\u001b[0;36m1\u001b[0m\u001b[0;34m]\u001b[0m\u001b[0;34m.\u001b[0m\u001b[0mscore\u001b[0m\u001b[0;34m(\u001b[0m\u001b[0mXt\u001b[0m\u001b[0;34m,\u001b[0m \u001b[0my\u001b[0m\u001b[0;34m,\u001b[0m \u001b[0;34m**\u001b[0m\u001b[0mscore_params\u001b[0m\u001b[0;34m)\u001b[0m\u001b[0;34m\u001b[0m\u001b[0;34m\u001b[0m\u001b[0m\n\u001b[0m\u001b[1;32m    623\u001b[0m \u001b[0;34m\u001b[0m\u001b[0m\n\u001b[1;32m    624\u001b[0m     \u001b[0;34m@\u001b[0m\u001b[0mproperty\u001b[0m\u001b[0;34m\u001b[0m\u001b[0;34m\u001b[0m\u001b[0m\n",
      "\u001b[0;32m~/Escritorio/MachineLearning/virtualenv/lib/python3.8/site-packages/sklearn/base.py\u001b[0m in \u001b[0;36mscore\u001b[0;34m(self, X, y, sample_weight)\u001b[0m\n\u001b[1;32m    498\u001b[0m         \"\"\"\n\u001b[1;32m    499\u001b[0m         \u001b[0;32mfrom\u001b[0m \u001b[0;34m.\u001b[0m\u001b[0mmetrics\u001b[0m \u001b[0;32mimport\u001b[0m \u001b[0maccuracy_score\u001b[0m\u001b[0;34m\u001b[0m\u001b[0;34m\u001b[0m\u001b[0m\n\u001b[0;32m--> 500\u001b[0;31m         \u001b[0;32mreturn\u001b[0m \u001b[0maccuracy_score\u001b[0m\u001b[0;34m(\u001b[0m\u001b[0my\u001b[0m\u001b[0;34m,\u001b[0m \u001b[0mself\u001b[0m\u001b[0;34m.\u001b[0m\u001b[0mpredict\u001b[0m\u001b[0;34m(\u001b[0m\u001b[0mX\u001b[0m\u001b[0;34m)\u001b[0m\u001b[0;34m,\u001b[0m \u001b[0msample_weight\u001b[0m\u001b[0;34m=\u001b[0m\u001b[0msample_weight\u001b[0m\u001b[0;34m)\u001b[0m\u001b[0;34m\u001b[0m\u001b[0;34m\u001b[0m\u001b[0m\n\u001b[0m\u001b[1;32m    501\u001b[0m \u001b[0;34m\u001b[0m\u001b[0m\n\u001b[1;32m    502\u001b[0m     \u001b[0;32mdef\u001b[0m \u001b[0m_more_tags\u001b[0m\u001b[0;34m(\u001b[0m\u001b[0mself\u001b[0m\u001b[0;34m)\u001b[0m\u001b[0;34m:\u001b[0m\u001b[0;34m\u001b[0m\u001b[0;34m\u001b[0m\u001b[0m\n",
      "\u001b[0;32m~/Escritorio/MachineLearning/virtualenv/lib/python3.8/site-packages/sklearn/neighbors/_classification.py\u001b[0m in \u001b[0;36mpredict\u001b[0;34m(self, X)\u001b[0m\n\u001b[1;32m    195\u001b[0m         \u001b[0mX\u001b[0m \u001b[0;34m=\u001b[0m \u001b[0mcheck_array\u001b[0m\u001b[0;34m(\u001b[0m\u001b[0mX\u001b[0m\u001b[0;34m,\u001b[0m \u001b[0maccept_sparse\u001b[0m\u001b[0;34m=\u001b[0m\u001b[0;34m'csr'\u001b[0m\u001b[0;34m)\u001b[0m\u001b[0;34m\u001b[0m\u001b[0;34m\u001b[0m\u001b[0m\n\u001b[1;32m    196\u001b[0m \u001b[0;34m\u001b[0m\u001b[0m\n\u001b[0;32m--> 197\u001b[0;31m         \u001b[0mneigh_dist\u001b[0m\u001b[0;34m,\u001b[0m \u001b[0mneigh_ind\u001b[0m \u001b[0;34m=\u001b[0m \u001b[0mself\u001b[0m\u001b[0;34m.\u001b[0m\u001b[0mkneighbors\u001b[0m\u001b[0;34m(\u001b[0m\u001b[0mX\u001b[0m\u001b[0;34m)\u001b[0m\u001b[0;34m\u001b[0m\u001b[0;34m\u001b[0m\u001b[0m\n\u001b[0m\u001b[1;32m    198\u001b[0m         \u001b[0mclasses_\u001b[0m \u001b[0;34m=\u001b[0m \u001b[0mself\u001b[0m\u001b[0;34m.\u001b[0m\u001b[0mclasses_\u001b[0m\u001b[0;34m\u001b[0m\u001b[0;34m\u001b[0m\u001b[0m\n\u001b[1;32m    199\u001b[0m         \u001b[0m_y\u001b[0m \u001b[0;34m=\u001b[0m \u001b[0mself\u001b[0m\u001b[0;34m.\u001b[0m\u001b[0m_y\u001b[0m\u001b[0;34m\u001b[0m\u001b[0;34m\u001b[0m\u001b[0m\n",
      "\u001b[0;32m~/Escritorio/MachineLearning/virtualenv/lib/python3.8/site-packages/sklearn/neighbors/_base.py\u001b[0m in \u001b[0;36mkneighbors\u001b[0;34m(self, X, n_neighbors, return_distance)\u001b[0m\n\u001b[1;32m    703\u001b[0m                 \u001b[0mkwds\u001b[0m \u001b[0;34m=\u001b[0m \u001b[0mself\u001b[0m\u001b[0;34m.\u001b[0m\u001b[0meffective_metric_params_\u001b[0m\u001b[0;34m\u001b[0m\u001b[0;34m\u001b[0m\u001b[0m\n\u001b[1;32m    704\u001b[0m \u001b[0;34m\u001b[0m\u001b[0m\n\u001b[0;32m--> 705\u001b[0;31m             chunked_results = list(pairwise_distances_chunked(\n\u001b[0m\u001b[1;32m    706\u001b[0m                 \u001b[0mX\u001b[0m\u001b[0;34m,\u001b[0m \u001b[0mself\u001b[0m\u001b[0;34m.\u001b[0m\u001b[0m_fit_X\u001b[0m\u001b[0;34m,\u001b[0m \u001b[0mreduce_func\u001b[0m\u001b[0;34m=\u001b[0m\u001b[0mreduce_func\u001b[0m\u001b[0;34m,\u001b[0m\u001b[0;34m\u001b[0m\u001b[0;34m\u001b[0m\u001b[0m\n\u001b[1;32m    707\u001b[0m                 \u001b[0mmetric\u001b[0m\u001b[0;34m=\u001b[0m\u001b[0mself\u001b[0m\u001b[0;34m.\u001b[0m\u001b[0meffective_metric_\u001b[0m\u001b[0;34m,\u001b[0m \u001b[0mn_jobs\u001b[0m\u001b[0;34m=\u001b[0m\u001b[0mn_jobs\u001b[0m\u001b[0;34m,\u001b[0m\u001b[0;34m\u001b[0m\u001b[0;34m\u001b[0m\u001b[0m\n",
      "\u001b[0;32m~/Escritorio/MachineLearning/virtualenv/lib/python3.8/site-packages/sklearn/metrics/pairwise.py\u001b[0m in \u001b[0;36mpairwise_distances_chunked\u001b[0;34m(X, Y, reduce_func, metric, n_jobs, working_memory, **kwds)\u001b[0m\n\u001b[1;32m   1621\u001b[0m         \u001b[0;32melse\u001b[0m\u001b[0;34m:\u001b[0m\u001b[0;34m\u001b[0m\u001b[0;34m\u001b[0m\u001b[0m\n\u001b[1;32m   1622\u001b[0m             \u001b[0mX_chunk\u001b[0m \u001b[0;34m=\u001b[0m \u001b[0mX\u001b[0m\u001b[0;34m[\u001b[0m\u001b[0msl\u001b[0m\u001b[0;34m]\u001b[0m\u001b[0;34m\u001b[0m\u001b[0;34m\u001b[0m\u001b[0m\n\u001b[0;32m-> 1623\u001b[0;31m         D_chunk = pairwise_distances(X_chunk, Y, metric=metric,\n\u001b[0m\u001b[1;32m   1624\u001b[0m                                      n_jobs=n_jobs, **kwds)\n\u001b[1;32m   1625\u001b[0m         if ((X is Y or Y is None)\n",
      "\u001b[0;32m~/Escritorio/MachineLearning/virtualenv/lib/python3.8/site-packages/sklearn/utils/validation.py\u001b[0m in \u001b[0;36minner_f\u001b[0;34m(*args, **kwargs)\u001b[0m\n\u001b[1;32m     61\u001b[0m             \u001b[0mextra_args\u001b[0m \u001b[0;34m=\u001b[0m \u001b[0mlen\u001b[0m\u001b[0;34m(\u001b[0m\u001b[0margs\u001b[0m\u001b[0;34m)\u001b[0m \u001b[0;34m-\u001b[0m \u001b[0mlen\u001b[0m\u001b[0;34m(\u001b[0m\u001b[0mall_args\u001b[0m\u001b[0;34m)\u001b[0m\u001b[0;34m\u001b[0m\u001b[0;34m\u001b[0m\u001b[0m\n\u001b[1;32m     62\u001b[0m             \u001b[0;32mif\u001b[0m \u001b[0mextra_args\u001b[0m \u001b[0;34m<=\u001b[0m \u001b[0;36m0\u001b[0m\u001b[0;34m:\u001b[0m\u001b[0;34m\u001b[0m\u001b[0;34m\u001b[0m\u001b[0m\n\u001b[0;32m---> 63\u001b[0;31m                 \u001b[0;32mreturn\u001b[0m \u001b[0mf\u001b[0m\u001b[0;34m(\u001b[0m\u001b[0;34m*\u001b[0m\u001b[0margs\u001b[0m\u001b[0;34m,\u001b[0m \u001b[0;34m**\u001b[0m\u001b[0mkwargs\u001b[0m\u001b[0;34m)\u001b[0m\u001b[0;34m\u001b[0m\u001b[0;34m\u001b[0m\u001b[0m\n\u001b[0m\u001b[1;32m     64\u001b[0m \u001b[0;34m\u001b[0m\u001b[0m\n\u001b[1;32m     65\u001b[0m             \u001b[0;31m# extra_args > 0\u001b[0m\u001b[0;34m\u001b[0m\u001b[0;34m\u001b[0m\u001b[0;34m\u001b[0m\u001b[0m\n",
      "\u001b[0;32m~/Escritorio/MachineLearning/virtualenv/lib/python3.8/site-packages/sklearn/metrics/pairwise.py\u001b[0m in \u001b[0;36mpairwise_distances\u001b[0;34m(X, Y, metric, n_jobs, force_all_finite, **kwds)\u001b[0m\n\u001b[1;32m   1788\u001b[0m         \u001b[0mfunc\u001b[0m \u001b[0;34m=\u001b[0m \u001b[0mpartial\u001b[0m\u001b[0;34m(\u001b[0m\u001b[0mdistance\u001b[0m\u001b[0;34m.\u001b[0m\u001b[0mcdist\u001b[0m\u001b[0;34m,\u001b[0m \u001b[0mmetric\u001b[0m\u001b[0;34m=\u001b[0m\u001b[0mmetric\u001b[0m\u001b[0;34m,\u001b[0m \u001b[0;34m**\u001b[0m\u001b[0mkwds\u001b[0m\u001b[0;34m)\u001b[0m\u001b[0;34m\u001b[0m\u001b[0;34m\u001b[0m\u001b[0m\n\u001b[1;32m   1789\u001b[0m \u001b[0;34m\u001b[0m\u001b[0m\n\u001b[0;32m-> 1790\u001b[0;31m     \u001b[0;32mreturn\u001b[0m \u001b[0m_parallel_pairwise\u001b[0m\u001b[0;34m(\u001b[0m\u001b[0mX\u001b[0m\u001b[0;34m,\u001b[0m \u001b[0mY\u001b[0m\u001b[0;34m,\u001b[0m \u001b[0mfunc\u001b[0m\u001b[0;34m,\u001b[0m \u001b[0mn_jobs\u001b[0m\u001b[0;34m,\u001b[0m \u001b[0;34m**\u001b[0m\u001b[0mkwds\u001b[0m\u001b[0;34m)\u001b[0m\u001b[0;34m\u001b[0m\u001b[0;34m\u001b[0m\u001b[0m\n\u001b[0m\u001b[1;32m   1791\u001b[0m \u001b[0;34m\u001b[0m\u001b[0m\n\u001b[1;32m   1792\u001b[0m \u001b[0;34m\u001b[0m\u001b[0m\n",
      "\u001b[0;32m~/Escritorio/MachineLearning/virtualenv/lib/python3.8/site-packages/sklearn/metrics/pairwise.py\u001b[0m in \u001b[0;36m_parallel_pairwise\u001b[0;34m(X, Y, func, n_jobs, **kwds)\u001b[0m\n\u001b[1;32m   1357\u001b[0m \u001b[0;34m\u001b[0m\u001b[0m\n\u001b[1;32m   1358\u001b[0m     \u001b[0;32mif\u001b[0m \u001b[0meffective_n_jobs\u001b[0m\u001b[0;34m(\u001b[0m\u001b[0mn_jobs\u001b[0m\u001b[0;34m)\u001b[0m \u001b[0;34m==\u001b[0m \u001b[0;36m1\u001b[0m\u001b[0;34m:\u001b[0m\u001b[0;34m\u001b[0m\u001b[0;34m\u001b[0m\u001b[0m\n\u001b[0;32m-> 1359\u001b[0;31m         \u001b[0;32mreturn\u001b[0m \u001b[0mfunc\u001b[0m\u001b[0;34m(\u001b[0m\u001b[0mX\u001b[0m\u001b[0;34m,\u001b[0m \u001b[0mY\u001b[0m\u001b[0;34m,\u001b[0m \u001b[0;34m**\u001b[0m\u001b[0mkwds\u001b[0m\u001b[0;34m)\u001b[0m\u001b[0;34m\u001b[0m\u001b[0;34m\u001b[0m\u001b[0m\n\u001b[0m\u001b[1;32m   1360\u001b[0m \u001b[0;34m\u001b[0m\u001b[0m\n\u001b[1;32m   1361\u001b[0m     \u001b[0;31m# enforce a threading backend to prevent data communication overhead\u001b[0m\u001b[0;34m\u001b[0m\u001b[0;34m\u001b[0m\u001b[0;34m\u001b[0m\u001b[0m\n",
      "\u001b[0;32m~/Escritorio/MachineLearning/virtualenv/lib/python3.8/site-packages/sklearn/utils/validation.py\u001b[0m in \u001b[0;36minner_f\u001b[0;34m(*args, **kwargs)\u001b[0m\n\u001b[1;32m     61\u001b[0m             \u001b[0mextra_args\u001b[0m \u001b[0;34m=\u001b[0m \u001b[0mlen\u001b[0m\u001b[0;34m(\u001b[0m\u001b[0margs\u001b[0m\u001b[0;34m)\u001b[0m \u001b[0;34m-\u001b[0m \u001b[0mlen\u001b[0m\u001b[0;34m(\u001b[0m\u001b[0mall_args\u001b[0m\u001b[0;34m)\u001b[0m\u001b[0;34m\u001b[0m\u001b[0;34m\u001b[0m\u001b[0m\n\u001b[1;32m     62\u001b[0m             \u001b[0;32mif\u001b[0m \u001b[0mextra_args\u001b[0m \u001b[0;34m<=\u001b[0m \u001b[0;36m0\u001b[0m\u001b[0;34m:\u001b[0m\u001b[0;34m\u001b[0m\u001b[0;34m\u001b[0m\u001b[0m\n\u001b[0;32m---> 63\u001b[0;31m                 \u001b[0;32mreturn\u001b[0m \u001b[0mf\u001b[0m\u001b[0;34m(\u001b[0m\u001b[0;34m*\u001b[0m\u001b[0margs\u001b[0m\u001b[0;34m,\u001b[0m \u001b[0;34m**\u001b[0m\u001b[0mkwargs\u001b[0m\u001b[0;34m)\u001b[0m\u001b[0;34m\u001b[0m\u001b[0;34m\u001b[0m\u001b[0m\n\u001b[0m\u001b[1;32m     64\u001b[0m \u001b[0;34m\u001b[0m\u001b[0m\n\u001b[1;32m     65\u001b[0m             \u001b[0;31m# extra_args > 0\u001b[0m\u001b[0;34m\u001b[0m\u001b[0;34m\u001b[0m\u001b[0;34m\u001b[0m\u001b[0m\n",
      "\u001b[0;32m~/Escritorio/MachineLearning/virtualenv/lib/python3.8/site-packages/sklearn/metrics/pairwise.py\u001b[0m in \u001b[0;36meuclidean_distances\u001b[0;34m(X, Y, Y_norm_squared, squared, X_norm_squared)\u001b[0m\n\u001b[1;32m    311\u001b[0m     \u001b[0;32melse\u001b[0m\u001b[0;34m:\u001b[0m\u001b[0;34m\u001b[0m\u001b[0;34m\u001b[0m\u001b[0m\n\u001b[1;32m    312\u001b[0m         \u001b[0;31m# if dtype is already float64, no need to chunk and upcast\u001b[0m\u001b[0;34m\u001b[0m\u001b[0;34m\u001b[0m\u001b[0;34m\u001b[0m\u001b[0m\n\u001b[0;32m--> 313\u001b[0;31m         \u001b[0mdistances\u001b[0m \u001b[0;34m=\u001b[0m \u001b[0;34m-\u001b[0m \u001b[0;36m2\u001b[0m \u001b[0;34m*\u001b[0m \u001b[0msafe_sparse_dot\u001b[0m\u001b[0;34m(\u001b[0m\u001b[0mX\u001b[0m\u001b[0;34m,\u001b[0m \u001b[0mY\u001b[0m\u001b[0;34m.\u001b[0m\u001b[0mT\u001b[0m\u001b[0;34m,\u001b[0m \u001b[0mdense_output\u001b[0m\u001b[0;34m=\u001b[0m\u001b[0;32mTrue\u001b[0m\u001b[0;34m)\u001b[0m\u001b[0;34m\u001b[0m\u001b[0;34m\u001b[0m\u001b[0m\n\u001b[0m\u001b[1;32m    314\u001b[0m         \u001b[0mdistances\u001b[0m \u001b[0;34m+=\u001b[0m \u001b[0mXX\u001b[0m\u001b[0;34m\u001b[0m\u001b[0;34m\u001b[0m\u001b[0m\n\u001b[1;32m    315\u001b[0m         \u001b[0mdistances\u001b[0m \u001b[0;34m+=\u001b[0m \u001b[0mYY\u001b[0m\u001b[0;34m\u001b[0m\u001b[0;34m\u001b[0m\u001b[0m\n",
      "\u001b[0;32m~/Escritorio/MachineLearning/virtualenv/lib/python3.8/site-packages/sklearn/utils/validation.py\u001b[0m in \u001b[0;36minner_f\u001b[0;34m(*args, **kwargs)\u001b[0m\n\u001b[1;32m     61\u001b[0m             \u001b[0mextra_args\u001b[0m \u001b[0;34m=\u001b[0m \u001b[0mlen\u001b[0m\u001b[0;34m(\u001b[0m\u001b[0margs\u001b[0m\u001b[0;34m)\u001b[0m \u001b[0;34m-\u001b[0m \u001b[0mlen\u001b[0m\u001b[0;34m(\u001b[0m\u001b[0mall_args\u001b[0m\u001b[0;34m)\u001b[0m\u001b[0;34m\u001b[0m\u001b[0;34m\u001b[0m\u001b[0m\n\u001b[1;32m     62\u001b[0m             \u001b[0;32mif\u001b[0m \u001b[0mextra_args\u001b[0m \u001b[0;34m<=\u001b[0m \u001b[0;36m0\u001b[0m\u001b[0;34m:\u001b[0m\u001b[0;34m\u001b[0m\u001b[0;34m\u001b[0m\u001b[0m\n\u001b[0;32m---> 63\u001b[0;31m                 \u001b[0;32mreturn\u001b[0m \u001b[0mf\u001b[0m\u001b[0;34m(\u001b[0m\u001b[0;34m*\u001b[0m\u001b[0margs\u001b[0m\u001b[0;34m,\u001b[0m \u001b[0;34m**\u001b[0m\u001b[0mkwargs\u001b[0m\u001b[0;34m)\u001b[0m\u001b[0;34m\u001b[0m\u001b[0;34m\u001b[0m\u001b[0m\n\u001b[0m\u001b[1;32m     64\u001b[0m \u001b[0;34m\u001b[0m\u001b[0m\n\u001b[1;32m     65\u001b[0m             \u001b[0;31m# extra_args > 0\u001b[0m\u001b[0;34m\u001b[0m\u001b[0;34m\u001b[0m\u001b[0;34m\u001b[0m\u001b[0m\n",
      "\u001b[0;32m~/Escritorio/MachineLearning/virtualenv/lib/python3.8/site-packages/sklearn/utils/extmath.py\u001b[0m in \u001b[0;36msafe_sparse_dot\u001b[0;34m(a, b, dense_output)\u001b[0m\n\u001b[1;32m    150\u001b[0m             \u001b[0mret\u001b[0m \u001b[0;34m=\u001b[0m \u001b[0mnp\u001b[0m\u001b[0;34m.\u001b[0m\u001b[0mdot\u001b[0m\u001b[0;34m(\u001b[0m\u001b[0ma\u001b[0m\u001b[0;34m,\u001b[0m \u001b[0mb\u001b[0m\u001b[0;34m)\u001b[0m\u001b[0;34m\u001b[0m\u001b[0;34m\u001b[0m\u001b[0m\n\u001b[1;32m    151\u001b[0m     \u001b[0;32melse\u001b[0m\u001b[0;34m:\u001b[0m\u001b[0;34m\u001b[0m\u001b[0;34m\u001b[0m\u001b[0m\n\u001b[0;32m--> 152\u001b[0;31m         \u001b[0mret\u001b[0m \u001b[0;34m=\u001b[0m \u001b[0ma\u001b[0m \u001b[0;34m@\u001b[0m \u001b[0mb\u001b[0m\u001b[0;34m\u001b[0m\u001b[0;34m\u001b[0m\u001b[0m\n\u001b[0m\u001b[1;32m    153\u001b[0m \u001b[0;34m\u001b[0m\u001b[0m\n\u001b[1;32m    154\u001b[0m     if (sparse.issparse(a) and sparse.issparse(b)\n",
      "\u001b[0;31mKeyboardInterrupt\u001b[0m: "
     ]
    }
   ],
   "source": [
    "train_prec =  []\n",
    "eval_prec = []\n",
    "max_k = list(range(1, 21))\n",
    "\n",
    "\n",
    "for k in max_k:\n",
    "    \n",
    "    model_knn_curva = Pipeline([\n",
    "    ('mapper', mapper),\n",
    "    ('imputer', IterativeImputer(random_state=42)),\n",
    "    ('classifier', KNeighborsClassifier(n_neighbors=k)),\n",
    "    ])\n",
    "    \n",
    "    \n",
    "    knn=model_knn_curva    \n",
    "    knn=knn.fit(train, train.user_class)    \n",
    "    train_prec.append(knn.score(train, train.user_class))\n",
    "    print(knn.score(train, train.user_class))\n",
    "    eval_prec.append(knn.score(validation, validation.user_class))\n",
    "\n",
    "# graficar los resultados.\n",
    "plt.plot(max_k, train_prec, color='r', label='Train')\n",
    "plt.plot(max_k, eval_prec, color='b', label='Validation')\n",
    "plt.title('Grafico KNN')\n",
    "plt.legend()\n",
    "plt.ylabel('precision')\n",
    "plt.xlabel('cant de nodos')\n",
    "plt.show()"
   ]
  },
  {
   "cell_type": "markdown",
   "id": "9c65dcae",
   "metadata": {},
   "source": [
    "#### Curva para Arboles de decisión "
   ]
  },
  {
   "cell_type": "code",
   "execution_count": 88,
   "id": "eb1a5600",
   "metadata": {
    "scrolled": true
   },
   "outputs": [
    {
     "name": "stdout",
     "output_type": "stream",
     "text": [
      "0.6836331164689373\n",
      "0.8566909044520985\n",
      "0.8725602755453502\n",
      "0.8757239443806608\n",
      "0.8843730067610664\n",
      "0.8900625079729557\n",
      "0.8920525577241996\n",
      "0.8979206531445337\n",
      "0.9016201046051793\n",
      "0.9065442020665901\n",
      "0.9133562954458477\n",
      "0.9229238423268274\n",
      "0.9332823064166348\n",
      "0.9423650975889782\n",
      "0.9524174001785942\n",
      "0.9610409491006506\n",
      "0.9695369307309606\n",
      "0.9769103201939023\n",
      "0.9831100905727771\n",
      "0.9887485648679678\n"
     ]
    },
    {
     "data": {
      "image/png": "[encoded data removed]",
      "text/plain": [
       "<Figure size 432x288 with 1 Axes>"
      ]
     },
     "metadata": {
      "needs_background": "light"
     },
     "output_type": "display_data"
    }
   ],
   "source": [
    "train_prec =  []\n",
    "eval_prec = []\n",
    "max_deep_list = list(range(1, 21))\n",
    "\n",
    "\n",
    "for deep in max_deep_list:\n",
    "    \n",
    "    model_tree_maxdepth_curva = Pipeline([\n",
    "    ('mapper', mapper),\n",
    "    ('imputer', IterativeImputer(random_state=42)),\n",
    "    ('classifier', DecisionTreeClassifier(max_depth = deep, random_state=42)),\n",
    "    ])\n",
    "    \n",
    "    \n",
    "    arbol_tree=model_tree_maxdepth_curva    \n",
    "    arbol_tree=arbol_tree.fit(train, train.user_class)    \n",
    "    train_prec.append(arbol_tree.score(train, train.user_class))\n",
    "    print(arbol_tree.score(train, train.user_class))\n",
    "    eval_prec.append(arbol_tree.score(validation, validation.user_class))\n",
    "\n",
    "# graficar los resultados.\n",
    "plt.plot(max_deep_list, train_prec, color='r', label='Train')\n",
    "plt.plot(max_deep_list, eval_prec, color='b', label='Validation')\n",
    "plt.title('Grafico arbol de decision')\n",
    "plt.legend()\n",
    "plt.ylabel('precision')\n",
    "plt.xlabel('cant de nodos')\n",
    "plt.show()"
   ]
  },
  {
   "cell_type": "markdown",
   "id": "1f43440e",
   "metadata": {},
   "source": [
    "En el gráfico observamos que entre los valores 5 y 7,5 las curvas se van separando, y a su vez a partir de 10 la curva de validation comienza a caer por lo que a partir de ese momento podemos inferir que el modelo esta sobreentrenando, ya que en los casos nuevos no está acertado las predicciones. Lo que ocurre es que mientras en train va acertando cada vez mas la predicciones en validation va errando."
   ]
  },
  {
   "cell_type": "markdown",
   "id": "2333bf89",
   "metadata": {},
   "source": [
    "#### Curva para Randoom forest"
   ]
  },
  {
   "cell_type": "code",
   "execution_count": 92,
   "id": "3eabb127",
   "metadata": {
    "scrolled": true
   },
   "outputs": [
    {
     "name": "stdout",
     "output_type": "stream",
     "text": [
      "0.8554917719096824\n",
      "0.8694221201683888\n",
      "0.8751626482969767\n",
      "0.8803418803418803\n",
      "0.8835820895522388\n",
      "0.8878428370965684\n",
      "0.8929965556831229\n",
      "0.8980227069779309\n",
      "0.90406939660671\n",
      "0.9108559765276183\n",
      "0.9187141216991963\n",
      "0.9268018879959179\n",
      "0.9358846791682612\n",
      "0.9457328740910831\n",
      "0.9560147978058425\n",
      "0.9641025641025641\n",
      "0.9741038397754815\n",
      "0.9811710677382319\n",
      "0.987115703533614\n",
      "0.9922439086618191\n"
     ]
    },
    {
     "data": {
      "image/png": "[encoded data removed]",
      "text/plain": [
       "<Figure size 432x288 with 1 Axes>"
      ]
     },
     "metadata": {
      "needs_background": "light"
     },
     "output_type": "display_data"
    }
   ],
   "source": [
    "train_prec =  []\n",
    "eval_prec = []\n",
    "max_deep_list = list(range(1, 21))\n",
    "\n",
    "\n",
    "for deep in max_deep_list:\n",
    "    \n",
    "    forest_model_maxdepth_curva = RandomForestClassifier(n_estimators=100, max_depth=deep, max_features=5, random_state=42)\n",
    "\n",
    "    model_rf_maxdepth_curva = Pipeline([\n",
    "    ('mapper', mapper),\n",
    "    ('imputer', IterativeImputer(random_state=42)),\n",
    "    ('classifier', forest_model_maxdepth_curva),\n",
    "    ])\n",
    "    \n",
    "    \n",
    "    arbol_rf=model_rf_maxdepth_curva    \n",
    "    arbol_rf=arbol_rf.fit(train, train.user_class)    \n",
    "    train_prec.append(arbol_rf.score(train, train.user_class))\n",
    "    print(arbol_rf.score(train, train.user_class))\n",
    "    eval_prec.append(arbol_rf.score(validation, validation.user_class))\n",
    "\n",
    "# graficar los resultados.\n",
    "plt.plot(max_deep_list, train_prec, color='r', label='Train')\n",
    "plt.plot(max_deep_list, eval_prec, color='b', label='Validation')\n",
    "plt.title('Grafico Random Forest')\n",
    "plt.legend()\n",
    "plt.ylabel('precision')\n",
    "plt.xlabel('cant de nodos')\n",
    "plt.show()"
   ]
  },
  {
   "cell_type": "markdown",
   "id": "98a305ed",
   "metadata": {},
   "source": [
    "A medida que avanzan las iteraciones, observamos que la métrica en validation no mejora. A partir del valor 10 aproximadamente la curva se estanca."
   ]
  },
  {
   "cell_type": "markdown",
   "id": "b909f5aa",
   "metadata": {},
   "source": [
    "5) Determinar el valor final de la **métrica** que podría ser informado al cliente, utilizando técnicas que permitan obtener un valor lo más realista posible. Fundamentar."
   ]
  },
  {
   "cell_type": "markdown",
   "id": "3118f460",
   "metadata": {},
   "source": [
    "### EVALUACIÓN FINAL DE MODELOS"
   ]
  },
  {
   "cell_type": "code",
   "execution_count": 118,
   "id": "0a233e13",
   "metadata": {
    "scrolled": true
   },
   "outputs": [
    {
     "data": {
      "text/plain": [
       "'Regresión Logística'"
      ]
     },
     "metadata": {},
     "output_type": "display_data"
    },
    {
     "data": {
      "text/html": [
       "<div>\n",
       "<style scoped>\n",
       "    .dataframe tbody tr th:only-of-type {\n",
       "        vertical-align: middle;\n",
       "    }\n",
       "\n",
       "    .dataframe tbody tr th {\n",
       "        vertical-align: top;\n",
       "    }\n",
       "\n",
       "    .dataframe thead th {\n",
       "        text-align: right;\n",
       "    }\n",
       "</style>\n",
       "<table border=\"1\" class=\"dataframe\">\n",
       "  <thead>\n",
       "    <tr style=\"text-align: right;\">\n",
       "      <th></th>\n",
       "      <th>Accuracy</th>\n",
       "      <th>Precision</th>\n",
       "      <th>Recall</th>\n",
       "      <th>F1</th>\n",
       "    </tr>\n",
       "  </thead>\n",
       "  <tbody>\n",
       "    <tr>\n",
       "      <th>train</th>\n",
       "      <td>0.811149</td>\n",
       "      <td>0.800218</td>\n",
       "      <td>0.827512</td>\n",
       "      <td>0.813636</td>\n",
       "    </tr>\n",
       "    <tr>\n",
       "      <th>validation</th>\n",
       "      <td>0.808726</td>\n",
       "      <td>0.791716</td>\n",
       "      <td>0.828371</td>\n",
       "      <td>0.809629</td>\n",
       "    </tr>\n",
       "    <tr>\n",
       "      <th>test</th>\n",
       "      <td>0.806138</td>\n",
       "      <td>0.794126</td>\n",
       "      <td>0.825433</td>\n",
       "      <td>0.809477</td>\n",
       "    </tr>\n",
       "  </tbody>\n",
       "</table>\n",
       "</div>"
      ],
      "text/plain": [
       "            Accuracy  Precision    Recall        F1\n",
       "train       0.811149   0.800218  0.827512  0.813636\n",
       "validation  0.808726   0.791716  0.828371  0.809629\n",
       "test        0.806138   0.794126  0.825433  0.809477"
      ]
     },
     "metadata": {},
     "output_type": "display_data"
    },
    {
     "data": {
      "text/plain": [
       "'KNN'"
      ]
     },
     "metadata": {},
     "output_type": "display_data"
    },
    {
     "data": {
      "text/html": [
       "<div>\n",
       "<style scoped>\n",
       "    .dataframe tbody tr th:only-of-type {\n",
       "        vertical-align: middle;\n",
       "    }\n",
       "\n",
       "    .dataframe tbody tr th {\n",
       "        vertical-align: top;\n",
       "    }\n",
       "\n",
       "    .dataframe thead th {\n",
       "        text-align: right;\n",
       "    }\n",
       "</style>\n",
       "<table border=\"1\" class=\"dataframe\">\n",
       "  <thead>\n",
       "    <tr style=\"text-align: right;\">\n",
       "      <th></th>\n",
       "      <th>Accuracy</th>\n",
       "      <th>Precision</th>\n",
       "      <th>Recall</th>\n",
       "      <th>F1</th>\n",
       "    </tr>\n",
       "  </thead>\n",
       "  <tbody>\n",
       "    <tr>\n",
       "      <th>train</th>\n",
       "      <td>0.852226</td>\n",
       "      <td>0.839883</td>\n",
       "      <td>0.869046</td>\n",
       "      <td>0.854216</td>\n",
       "    </tr>\n",
       "    <tr>\n",
       "      <th>validation</th>\n",
       "      <td>0.826636</td>\n",
       "      <td>0.808413</td>\n",
       "      <td>0.847857</td>\n",
       "      <td>0.827665</td>\n",
       "    </tr>\n",
       "    <tr>\n",
       "      <th>test</th>\n",
       "      <td>0.821828</td>\n",
       "      <td>0.813088</td>\n",
       "      <td>0.834791</td>\n",
       "      <td>0.823797</td>\n",
       "    </tr>\n",
       "  </tbody>\n",
       "</table>\n",
       "</div>"
      ],
      "text/plain": [
       "            Accuracy  Precision    Recall        F1\n",
       "train       0.852226   0.839883  0.869046  0.854216\n",
       "validation  0.826636   0.808413  0.847857  0.827665\n",
       "test        0.821828   0.813088  0.834791  0.823797"
      ]
     },
     "metadata": {},
     "output_type": "display_data"
    },
    {
     "data": {
      "text/plain": [
       "'Arbol de decisión'"
      ]
     },
     "metadata": {},
     "output_type": "display_data"
    },
    {
     "data": {
      "text/html": [
       "<div>\n",
       "<style scoped>\n",
       "    .dataframe tbody tr th:only-of-type {\n",
       "        vertical-align: middle;\n",
       "    }\n",
       "\n",
       "    .dataframe tbody tr th {\n",
       "        vertical-align: top;\n",
       "    }\n",
       "\n",
       "    .dataframe thead th {\n",
       "        text-align: right;\n",
       "    }\n",
       "</style>\n",
       "<table border=\"1\" class=\"dataframe\">\n",
       "  <thead>\n",
       "    <tr style=\"text-align: right;\">\n",
       "      <th></th>\n",
       "      <th>Accuracy</th>\n",
       "      <th>Precision</th>\n",
       "      <th>Recall</th>\n",
       "      <th>F1</th>\n",
       "    </tr>\n",
       "  </thead>\n",
       "  <tbody>\n",
       "    <tr>\n",
       "      <th>train</th>\n",
       "      <td>0.906544</td>\n",
       "      <td>0.863947</td>\n",
       "      <td>0.964253</td>\n",
       "      <td>0.911348</td>\n",
       "    </tr>\n",
       "    <tr>\n",
       "      <th>validation</th>\n",
       "      <td>0.885036</td>\n",
       "      <td>0.841133</td>\n",
       "      <td>0.944193</td>\n",
       "      <td>0.889689</td>\n",
       "    </tr>\n",
       "    <tr>\n",
       "      <th>test</th>\n",
       "      <td>0.888795</td>\n",
       "      <td>0.846796</td>\n",
       "      <td>0.948765</td>\n",
       "      <td>0.894885</td>\n",
       "    </tr>\n",
       "  </tbody>\n",
       "</table>\n",
       "</div>"
      ],
      "text/plain": [
       "            Accuracy  Precision    Recall        F1\n",
       "train       0.906544   0.863947  0.964253  0.911348\n",
       "validation  0.885036   0.841133  0.944193  0.889689\n",
       "test        0.888795   0.846796  0.948765  0.894885"
      ]
     },
     "metadata": {},
     "output_type": "display_data"
    },
    {
     "data": {
      "text/plain": [
       "'Random Forest'"
      ]
     },
     "metadata": {},
     "output_type": "display_data"
    },
    {
     "data": {
      "text/html": [
       "<div>\n",
       "<style scoped>\n",
       "    .dataframe tbody tr th:only-of-type {\n",
       "        vertical-align: middle;\n",
       "    }\n",
       "\n",
       "    .dataframe tbody tr th {\n",
       "        vertical-align: top;\n",
       "    }\n",
       "\n",
       "    .dataframe thead th {\n",
       "        text-align: right;\n",
       "    }\n",
       "</style>\n",
       "<table border=\"1\" class=\"dataframe\">\n",
       "  <thead>\n",
       "    <tr style=\"text-align: right;\">\n",
       "      <th></th>\n",
       "      <th>Accuracy</th>\n",
       "      <th>Precision</th>\n",
       "      <th>Recall</th>\n",
       "      <th>F1</th>\n",
       "    </tr>\n",
       "  </thead>\n",
       "  <tbody>\n",
       "    <tr>\n",
       "      <th>train</th>\n",
       "      <td>0.910856</td>\n",
       "      <td>0.853377</td>\n",
       "      <td>0.991396</td>\n",
       "      <td>0.917223</td>\n",
       "    </tr>\n",
       "    <tr>\n",
       "      <th>validation</th>\n",
       "      <td>0.892767</td>\n",
       "      <td>0.834534</td>\n",
       "      <td>0.974903</td>\n",
       "      <td>0.899274</td>\n",
       "    </tr>\n",
       "    <tr>\n",
       "      <th>test</th>\n",
       "      <td>0.896066</td>\n",
       "      <td>0.840301</td>\n",
       "      <td>0.977451</td>\n",
       "      <td>0.903702</td>\n",
       "    </tr>\n",
       "  </tbody>\n",
       "</table>\n",
       "</div>"
      ],
      "text/plain": [
       "            Accuracy  Precision    Recall        F1\n",
       "train       0.910856   0.853377  0.991396  0.917223\n",
       "validation  0.892767   0.834534  0.974903  0.899274\n",
       "test        0.896066   0.840301  0.977451  0.903702"
      ]
     },
     "metadata": {},
     "output_type": "display_data"
    },
    {
     "data": {
      "text/plain": [
       "'Gradient Boosting'"
      ]
     },
     "metadata": {},
     "output_type": "display_data"
    },
    {
     "data": {
      "text/html": [
       "<div>\n",
       "<style scoped>\n",
       "    .dataframe tbody tr th:only-of-type {\n",
       "        vertical-align: middle;\n",
       "    }\n",
       "\n",
       "    .dataframe tbody tr th {\n",
       "        vertical-align: top;\n",
       "    }\n",
       "\n",
       "    .dataframe thead th {\n",
       "        text-align: right;\n",
       "    }\n",
       "</style>\n",
       "<table border=\"1\" class=\"dataframe\">\n",
       "  <thead>\n",
       "    <tr style=\"text-align: right;\">\n",
       "      <th></th>\n",
       "      <th>Accuracy</th>\n",
       "      <th>Precision</th>\n",
       "      <th>Recall</th>\n",
       "      <th>F1</th>\n",
       "    </tr>\n",
       "  </thead>\n",
       "  <tbody>\n",
       "    <tr>\n",
       "      <th>train</th>\n",
       "      <td>0.902539</td>\n",
       "      <td>0.859438</td>\n",
       "      <td>0.961641</td>\n",
       "      <td>0.907671</td>\n",
       "    </tr>\n",
       "    <tr>\n",
       "      <th>validation</th>\n",
       "      <td>0.896441</td>\n",
       "      <td>0.851625</td>\n",
       "      <td>0.955573</td>\n",
       "      <td>0.900610</td>\n",
       "    </tr>\n",
       "    <tr>\n",
       "      <th>test</th>\n",
       "      <td>0.896831</td>\n",
       "      <td>0.854130</td>\n",
       "      <td>0.956588</td>\n",
       "      <td>0.902460</td>\n",
       "    </tr>\n",
       "  </tbody>\n",
       "</table>\n",
       "</div>"
      ],
      "text/plain": [
       "            Accuracy  Precision    Recall        F1\n",
       "train       0.902539   0.859438  0.961641  0.907671\n",
       "validation  0.896441   0.851625  0.955573  0.900610\n",
       "test        0.896831   0.854130  0.956588  0.902460"
      ]
     },
     "metadata": {},
     "output_type": "display_data"
    }
   ],
   "source": [
    "evaluate_model(model_lr, title='Regresión Logística', set_names=('train', 'validation','test'), show_cm=False)\n",
    "evaluate_model(model_knn, title='KNN', set_names=('train', 'validation','test'), show_cm=False)\n",
    "evaluate_model(model_tree_maxdepth, title='Arbol de decisión', set_names=('train', 'validation','test'), show_cm=False)\n",
    "evaluate_model(model_rf_maxdepth, title='Random Forest', set_names=('train', 'validation','test'), show_cm=False)\n",
    "evaluate_model(model_gradient_boosted, title='Gradient Boosting', set_names=('train', 'validation','test'), show_cm=False)\n"
   ]
  },
  {
   "cell_type": "markdown",
   "id": "8a9d6398",
   "metadata": {},
   "source": [
    "**Modelo elegido: Gradient Boosting**\n",
    "\n",
    "**Precision: 85%**"
   ]
  },
  {
   "cell_type": "markdown",
   "id": "f41e9b96",
   "metadata": {},
   "source": [
    "### Conclusión final"
   ]
  },
  {
   "cell_type": "markdown",
   "id": "16422177",
   "metadata": {},
   "source": [
    "Observando los resultados de las métricas para los modelos Regresion Logística, KNN y Arboles de decision, obtenemos que el mejor resultado para Precision es Arboles de Decisión ya que arroja un 84%. \n",
    "\n",
    "Por otro lado, comparando los resultados de todos los modelos, concluimos que **Arboles de decision, Random Forest y Gradient Boosting poseen resultados muy cercanos**, el mejor valor de precisión es el que devuelve **Gradient Boosting con 84%** por lo que es el modelo elegido.\n"
   ]
  },
  {
   "cell_type": "code",
   "execution_count": null,
   "id": "6e3478cd",
   "metadata": {},
   "outputs": [],
   "source": []
  }
 ],
 "metadata": {
  "kernelspec": {
   "display_name": "Python 3",
   "language": "python",
   "name": "python3"
  },
  "language_info": {
   "codemirror_mode": {
    "name": "ipython",
    "version": 3
   },
   "file_extension": ".py",
   "mimetype": "text/x-python",
   "name": "python",
   "nbconvert_exporter": "python",
   "pygments_lexer": "ipython3",
   "version": "3.8.6"
  }
 },
 "nbformat": 4,
 "nbformat_minor": 5
}
