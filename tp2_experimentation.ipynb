{
 "cells": [
  {
   "cell_type": "markdown",
   "id": "3b049a20",
   "metadata": {},
   "source": [
    "# INSTAGRAM: DETECCIÓN DE USUARIOS FALSOS\n",
    "\n",
    "## **Entrenamiento y evaluación de modelos**"
   ]
  },
  {
   "cell_type": "markdown",
   "id": "d567bd96",
   "metadata": {},
   "source": [
    "<img src=\"https://miracomohacerlo.com/wp-content/uploads/2019/02/como-ver-a-que-fotos-le-da-like-en-instagram-una-persona-2.jpg\" />"
   ]
  },
  {
   "cell_type": "code",
   "execution_count": 1,
   "id": "dbbe6720",
   "metadata": {},
   "outputs": [],
   "source": [
    "%matplotlib inline"
   ]
  },
  {
   "cell_type": "code",
   "execution_count": 2,
   "id": "6df224bc",
   "metadata": {},
   "outputs": [],
   "source": [
    "import numpy as np\n",
    "import pandas as pd\n",
    "from collections import defaultdict\n",
    "from matplotlib import pyplot as plt\n",
    "import seaborn as sns\n",
    "\n",
    "from IPython.display import HTML, display\n",
    "from sklearn.metrics import accuracy_score, precision_score, recall_score, confusion_matrix\n",
    "from sklearn.model_selection import train_test_split\n",
    "\n",
    "from sklearn_pandas import DataFrameMapper"
   ]
  },
  {
   "cell_type": "markdown",
   "id": "954352c6",
   "metadata": {},
   "source": [
    "## **DATASET**"
   ]
  },
  {
   "cell_type": "code",
   "execution_count": 65,
   "id": "dd8153ce",
   "metadata": {},
   "outputs": [],
   "source": [
    "dataset_original = pd.read_csv('instagram.csv')\n",
    "dataset = dataset_original\n",
    "\n",
    "renamed_columns = {'pos':'post','flw':'followers','flg':'following','bl':'biography_lenght','pic':'profile_picture','lin':'external_url','cl':'post_lenght','cz':'post_lenght_null','ni':'none_image','erl':'engagement_rate_likes','erc':'engagement_rate_comments','lt':'post_location','hc':'hashtags_post','pr':'hashtags_promotional','fo':'hashtags_followers','cs':'cosine_similarity','pi':'interval_post','class':'user_class'}\n",
    "dataset.rename(columns = renamed_columns, inplace = True)\n",
    "\n",
    "dataset[\"user_class\"] = dataset.user_class.replace(['f','r'], [0, 1])"
   ]
  },
  {
   "cell_type": "markdown",
   "id": "f1adaa73",
   "metadata": {},
   "source": [
    "### **Train, Validation, Test**"
   ]
  },
  {
   "cell_type": "code",
   "execution_count": null,
   "id": "0b801a93",
   "metadata": {},
   "outputs": [],
   "source": [
    "# 60% train, 20% test, 20% validation\n",
    "train, not_train = train_test_split(dataset, test_size=0.4)\n",
    "validation, test = train_test_split(not_train, test_size=0.5)"
   ]
  },
  {
   "cell_type": "markdown",
   "id": "91c3f254",
   "metadata": {},
   "source": [
    "## **MÉTRICAS**"
   ]
  },
  {
   "cell_type": "markdown",
   "id": "4a044c10",
   "metadata": {},
   "source": [
    "1) Se debe elegir y definir una **métrica de performance** a utilizar para **evaluar los modelos**. Fundamentar la elección de la métrica.\n",
    "\n",
    "Precision porque ..."
   ]
  },
  {
   "cell_type": "markdown",
   "id": "82064b7e",
   "metadata": {},
   "source": [
    "2) Se debe aplicar alguna **técnica de feature engineering** para mejorar la data de entrada a los modelos, y mostrar la comparativa de los resultados obtenidos en cada caso. Si no es posible o útil, fundamentar el motivo por el cual no se realizará."
   ]
  },
  {
   "cell_type": "markdown",
   "id": "230ce7b3",
   "metadata": {},
   "source": [
    "## FEATURE ENGINEERING"
   ]
  },
  {
   "cell_type": "markdown",
   "id": "da6ceb3c",
   "metadata": {},
   "source": [
    "### Binning: \n",
    "Utilizamos la técnica de redondeo para las siguientes variables:\n",
    "- post\n",
    "- followers\n",
    "- followings\n",
    "- biography_lenght\n",
    "- post_lenght\n",
    "- engagement_rate_likes\n",
    "- engagement_rate_comments\n",
    "- hashtags_post\n",
    "- hashtags_promotional\n",
    "- hashtags_followers\n",
    "- interval_post\n",
    "\n",
    "### One-hotEnconder:\n",
    "Generamos nuevas columnas a partir de las siguientes variables:\n",
    "- Profile_picture\n",
    "- External_URL"
   ]
  },
  {
   "cell_type": "markdown",
   "id": "50d392ca",
   "metadata": {},
   "source": [
    "Consideramos que las siguientes variables no necesitan una transformación ya que contienen valores que corresponden a porcentajes entre 0 y 1:\n",
    "- post_lenght_null\n",
    "- none_image\n",
    "- post_location\n",
    "- cosine_similarity"
   ]
  },
  {
   "cell_type": "markdown",
   "id": "e4baf70d",
   "metadata": {},
   "source": [
    "### **MAPPER**"
   ]
  },
  {
   "cell_type": "code",
   "execution_count": 39,
   "id": "33447143",
   "metadata": {},
   "outputs": [],
   "source": [
    "from sklearn_pandas import DataFrameMapper\n",
    "from sklearn.preprocessing import StandardScaler, OneHotEncoder"
   ]
  },
  {
   "cell_type": "code",
   "execution_count": 40,
   "id": "6ef86a26",
   "metadata": {},
   "outputs": [
    {
     "data": {
      "text/plain": [
       "array([[-0.2636046 , -0.04885511, -0.86432502, ..., -0.14486718,\n",
       "        -0.09769564, -0.52746529],\n",
       "       [-0.23830001, -0.00962227, -0.5083798 , ..., -0.14486718,\n",
       "        -0.09769564,  1.78708187],\n",
       "       [-0.2636046 , -0.03606782, -0.52109213, ..., -0.14486718,\n",
       "        -0.09769564, -0.52746529],\n",
       "       ...,\n",
       "       [-0.26062759, -0.03143589, -0.79228848, ..., -0.14486718,\n",
       "        -0.09769564,  3.71740447],\n",
       "       [-0.23234599, -0.04699442, -0.76532294, ..., -0.14486718,\n",
       "        -0.09769564, -0.52199937],\n",
       "       [-0.16089772, -0.00962227, -0.53688624, ..., -0.14486718,\n",
       "         0.00375756, -0.37433534]])"
      ]
     },
     "execution_count": 40,
     "metadata": {},
     "output_type": "execute_result"
    }
   ],
   "source": [
    "mapper = DataFrameMapper([\n",
    "    (['post'], [StandardScaler()]),\n",
    "    (['followers'], [StandardScaler()]),\n",
    "    (['following'], [StandardScaler()]),\n",
    "    (['biography_lenght'], [StandardScaler()]),\n",
    "    (['profile_picture'], [OneHotEncoder()]),\n",
    "    (['external_url'], [OneHotEncoder()]),\n",
    "    (['post_lenght'], [StandardScaler()]),\n",
    "    (['engagement_rate_likes'], [StandardScaler()]),\n",
    "    (['engagement_rate_comments'], [StandardScaler()]),\n",
    "    (['hashtags_post'], [StandardScaler()]),\n",
    "    (['hashtags_promotional'], [StandardScaler()]),\n",
    "    (['hashtags_followers'], [StandardScaler()]),\n",
    "    (['interval_post'], [StandardScaler()])\n",
    "])\n",
    "\n",
    "mapper.fit(train)\n",
    "mapper.transform(train)"
   ]
  },
  {
   "cell_type": "code",
   "execution_count": 41,
   "id": "d32e18aa",
   "metadata": {},
   "outputs": [
    {
     "data": {
      "text/plain": [
       "['post',\n",
       " 'followers',\n",
       " 'following',\n",
       " 'biography_lenght',\n",
       " 'profile_picture_x0_0',\n",
       " 'profile_picture_x0_1',\n",
       " 'external_url_x0_0',\n",
       " 'external_url_x0_1',\n",
       " 'post_lenght',\n",
       " 'engagement_rate_likes',\n",
       " 'engagement_rate_comments',\n",
       " 'hashtags_post',\n",
       " 'hashtags_promotional',\n",
       " 'hashtags_followers',\n",
       " 'interval_post']"
      ]
     },
     "execution_count": 41,
     "metadata": {},
     "output_type": "execute_result"
    }
   ],
   "source": [
    "mapper.transformed_names_"
   ]
  },
  {
   "cell_type": "markdown",
   "id": "66243063",
   "metadata": {},
   "source": [
    "3) Por cada modelo, se debe **entrenarlo y evaluar** su comportamiento con la **métrica** elegida. Sacar conclusiones respecto a los motivos por los cuales el modelo funciona bien o mal."
   ]
  },
  {
   "cell_type": "markdown",
   "id": "6ca8440c",
   "metadata": {},
   "source": [
    "## **MODELOS**"
   ]
  },
  {
   "cell_type": "markdown",
   "id": "bde05125",
   "metadata": {},
   "source": [
    "### **Función para evaluar modelos**"
   ]
  },
  {
   "cell_type": "code",
   "execution_count": 50,
   "id": "fcd8c1ae",
   "metadata": {},
   "outputs": [],
   "source": [
    "from sklearn import metrics\n",
    "\n",
    "from sklearn.experimental import enable_iterative_imputer\n",
    "from sklearn.impute import SimpleImputer, IterativeImputer\n",
    "\n",
    "from sklearn.pipeline import Pipeline"
   ]
  },
  {
   "cell_type": "code",
   "execution_count": 49,
   "id": "9df21ca2",
   "metadata": {},
   "outputs": [],
   "source": [
    "def evaluate_model(model, set_names=('train', 'validation'), title='', show_cm=True):\n",
    "    if title:\n",
    "        display(title)\n",
    "        \n",
    "    final_metrics = defaultdict(list)\n",
    "    \n",
    "    if show_cm:\n",
    "        fig, axis = plt.subplots(1, len(set_names), sharey=True, figsize=(15, 3))\n",
    "    \n",
    "    for i, set_name in enumerate(set_names):\n",
    "        assert set_name in ['train', 'validation', 'test']\n",
    "        set_data = globals()[set_name]  # <- hack feo...\n",
    "\n",
    "        y = set_data.user_class\n",
    "        y_pred = model.predict(set_data)\n",
    "        final_metrics['Accuracy'].append(metrics.accuracy_score(y, y_pred))\n",
    "        final_metrics['Precision'].append(metrics.precision_score(y, y_pred))\n",
    "        final_metrics['Recall'].append(metrics.recall_score(y, y_pred))\n",
    "        final_metrics['F1'].append(metrics.f1_score(y, y_pred))\n",
    "        \n",
    "        if show_cm:\n",
    "            ax = axis[i]\n",
    "            sns.heatmap(metrics.confusion_matrix(y, y_pred), ax=ax, cmap='Blues', annot=True, fmt='.0f', cbar=False)\n",
    "\n",
    "            ax.set_title(set_name)\n",
    "            ax.xaxis.set_ticklabels(['real', 'fake'])\n",
    "            ax.yaxis.set_ticklabels(['real', 'fake'])\n",
    "            ax.set_xlabel('Predicted class')\n",
    "            ax.set_ylabel('True class')\n",
    "\n",
    "        \n",
    "    display(pd.DataFrame(final_metrics, index=set_names))\n",
    "    if show_cm:\n",
    "        plt.tight_layout()\n",
    "        plt.show()"
   ]
  },
  {
   "cell_type": "markdown",
   "id": "e80cbac0",
   "metadata": {},
   "source": [
    "### **REGRESIÓN LOGÍSTICA**"
   ]
  },
  {
   "cell_type": "code",
   "execution_count": 42,
   "id": "f6f44e91",
   "metadata": {},
   "outputs": [],
   "source": [
    "from sklearn.linear_model import LogisticRegression"
   ]
  },
  {
   "cell_type": "code",
   "execution_count": 51,
   "id": "fb0c4e91",
   "metadata": {},
   "outputs": [
    {
     "data": {
      "text/html": [
       "<div>\n",
       "<style scoped>\n",
       "    .dataframe tbody tr th:only-of-type {\n",
       "        vertical-align: middle;\n",
       "    }\n",
       "\n",
       "    .dataframe tbody tr th {\n",
       "        vertical-align: top;\n",
       "    }\n",
       "\n",
       "    .dataframe thead th {\n",
       "        text-align: right;\n",
       "    }\n",
       "</style>\n",
       "<table border=\"1\" class=\"dataframe\">\n",
       "  <thead>\n",
       "    <tr style=\"text-align: right;\">\n",
       "      <th></th>\n",
       "      <th>Accuracy</th>\n",
       "      <th>Precision</th>\n",
       "      <th>Recall</th>\n",
       "      <th>F1</th>\n",
       "    </tr>\n",
       "  </thead>\n",
       "  <tbody>\n",
       "    <tr>\n",
       "      <th>train</th>\n",
       "      <td>0.793418</td>\n",
       "      <td>0.790967</td>\n",
       "      <td>0.794821</td>\n",
       "      <td>0.792889</td>\n",
       "    </tr>\n",
       "    <tr>\n",
       "      <th>validation</th>\n",
       "      <td>0.793035</td>\n",
       "      <td>0.786462</td>\n",
       "      <td>0.795271</td>\n",
       "      <td>0.790842</td>\n",
       "    </tr>\n",
       "  </tbody>\n",
       "</table>\n",
       "</div>"
      ],
      "text/plain": [
       "            Accuracy  Precision    Recall        F1\n",
       "train       0.793418   0.790967  0.794821  0.792889\n",
       "validation  0.793035   0.786462  0.795271  0.790842"
      ]
     },
     "metadata": {},
     "output_type": "display_data"
    },
    {
     "data": {
      "image/png": "[encoded data removed]",
      "text/plain": [
       "<Figure size 1080x216 with 2 Axes>"
      ]
     },
     "metadata": {
      "needs_background": "light"
     },
     "output_type": "display_data"
    }
   ],
   "source": [
    "model_lr = Pipeline([\n",
    "    ('mapper', mapper),\n",
    "    ('imputer', SimpleImputer(strategy='mean')),\n",
    "    ('classifier', LogisticRegression(random_state=42)),\n",
    "])\n",
    "\n",
    "model_lr.fit(train, train.user_class)\n",
    "\n",
    "evaluate_model(model_lr)"
   ]
  },
  {
   "cell_type": "code",
   "execution_count": null,
   "id": "f4971614",
   "metadata": {},
   "outputs": [],
   "source": [
    "ver grafico de coeficientes"
   ]
  },
  {
   "cell_type": "markdown",
   "id": "5a4aff6a",
   "metadata": {},
   "source": [
    "### **K NEAREST NEIGHBORS**"
   ]
  },
  {
   "cell_type": "code",
   "execution_count": 52,
   "id": "f9943f8b",
   "metadata": {},
   "outputs": [],
   "source": [
    "from sklearn.neighbors import KNeighborsClassifier"
   ]
  },
  {
   "cell_type": "code",
   "execution_count": 53,
   "id": "1788d757",
   "metadata": {},
   "outputs": [
    {
     "data": {
      "text/plain": [
       "'Knn'"
      ]
     },
     "metadata": {},
     "output_type": "display_data"
    },
    {
     "data": {
      "text/html": [
       "<div>\n",
       "<style scoped>\n",
       "    .dataframe tbody tr th:only-of-type {\n",
       "        vertical-align: middle;\n",
       "    }\n",
       "\n",
       "    .dataframe tbody tr th {\n",
       "        vertical-align: top;\n",
       "    }\n",
       "\n",
       "    .dataframe thead th {\n",
       "        text-align: right;\n",
       "    }\n",
       "</style>\n",
       "<table border=\"1\" class=\"dataframe\">\n",
       "  <thead>\n",
       "    <tr style=\"text-align: right;\">\n",
       "      <th></th>\n",
       "      <th>Accuracy</th>\n",
       "      <th>Precision</th>\n",
       "      <th>Recall</th>\n",
       "      <th>F1</th>\n",
       "    </tr>\n",
       "  </thead>\n",
       "  <tbody>\n",
       "    <tr>\n",
       "      <th>train</th>\n",
       "      <td>0.851869</td>\n",
       "      <td>0.836627</td>\n",
       "      <td>0.872667</td>\n",
       "      <td>0.854267</td>\n",
       "    </tr>\n",
       "    <tr>\n",
       "      <th>validation</th>\n",
       "      <td>0.822197</td>\n",
       "      <td>0.803579</td>\n",
       "      <td>0.845208</td>\n",
       "      <td>0.823868</td>\n",
       "    </tr>\n",
       "  </tbody>\n",
       "</table>\n",
       "</div>"
      ],
      "text/plain": [
       "            Accuracy  Precision    Recall        F1\n",
       "train       0.851869   0.836627  0.872667  0.854267\n",
       "validation  0.822197   0.803579  0.845208  0.823868"
      ]
     },
     "metadata": {},
     "output_type": "display_data"
    },
    {
     "data": {
      "image/png": "[encoded data removed]",
      "text/plain": [
       "<Figure size 1080x216 with 2 Axes>"
      ]
     },
     "metadata": {
      "needs_background": "light"
     },
     "output_type": "display_data"
    }
   ],
   "source": [
    "K = 10\n",
    "\n",
    "model_knn = Pipeline([\n",
    "    ('mapper', mapper),\n",
    "    ('imputer', IterativeImputer(random_state=42)),\n",
    "    ('classifier', KNeighborsClassifier(n_neighbors=K)),\n",
    "])\n",
    "\n",
    "model_knn.fit(train, train.user_class)\n",
    "\n",
    "evaluate_model(model_knn, title='Knn')"
   ]
  },
  {
   "cell_type": "code",
   "execution_count": null,
   "id": "b03331a1",
   "metadata": {},
   "outputs": [],
   "source": []
  },
  {
   "cell_type": "markdown",
   "id": "5cd05985",
   "metadata": {},
   "source": [
    "### **ÁRBOLES DE DECISIÓN**"
   ]
  },
  {
   "cell_type": "code",
   "execution_count": 54,
   "id": "f076c604",
   "metadata": {},
   "outputs": [],
   "source": [
    "from sklearn.tree import DecisionTreeClassifier\n",
    "from sklearn.preprocessing import LabelBinarizer"
   ]
  },
  {
   "cell_type": "code",
   "execution_count": 63,
   "id": "45a2e8d2",
   "metadata": {
    "scrolled": true
   },
   "outputs": [
    {
     "data": {
      "text/plain": [
       "'Decision Tree'"
      ]
     },
     "metadata": {},
     "output_type": "display_data"
    },
    {
     "data": {
      "text/html": [
       "<div>\n",
       "<style scoped>\n",
       "    .dataframe tbody tr th:only-of-type {\n",
       "        vertical-align: middle;\n",
       "    }\n",
       "\n",
       "    .dataframe tbody tr th {\n",
       "        vertical-align: top;\n",
       "    }\n",
       "\n",
       "    .dataframe thead th {\n",
       "        text-align: right;\n",
       "    }\n",
       "</style>\n",
       "<table border=\"1\" class=\"dataframe\">\n",
       "  <thead>\n",
       "    <tr style=\"text-align: right;\">\n",
       "      <th></th>\n",
       "      <th>Accuracy</th>\n",
       "      <th>Precision</th>\n",
       "      <th>Recall</th>\n",
       "      <th>F1</th>\n",
       "    </tr>\n",
       "  </thead>\n",
       "  <tbody>\n",
       "    <tr>\n",
       "      <th>train</th>\n",
       "      <td>0.999974</td>\n",
       "      <td>1.000000</td>\n",
       "      <td>0.999949</td>\n",
       "      <td>0.999974</td>\n",
       "    </tr>\n",
       "    <tr>\n",
       "      <th>validation</th>\n",
       "      <td>0.854573</td>\n",
       "      <td>0.856423</td>\n",
       "      <td>0.846297</td>\n",
       "      <td>0.851330</td>\n",
       "    </tr>\n",
       "  </tbody>\n",
       "</table>\n",
       "</div>"
      ],
      "text/plain": [
       "            Accuracy  Precision    Recall        F1\n",
       "train       0.999974   1.000000  0.999949  0.999974\n",
       "validation  0.854573   0.856423  0.846297  0.851330"
      ]
     },
     "metadata": {},
     "output_type": "display_data"
    },
    {
     "data": {
      "image/png": "[encoded data removed]",
      "text/plain": [
       "<Figure size 1080x216 with 2 Axes>"
      ]
     },
     "metadata": {
      "needs_background": "light"
     },
     "output_type": "display_data"
    }
   ],
   "source": [
    "model_tree = Pipeline([\n",
    "    ('mapper', mapper),\n",
    "    ('imputer', IterativeImputer(random_state=42)),\n",
    "    ('classifier', DecisionTreeClassifier(random_state=42)),\n",
    "])\n",
    "\n",
    "model_tree.fit(train, train.user_class)\n",
    "\n",
    "evaluate_model(model_tree, title='Decision Tree')"
   ]
  },
  {
   "cell_type": "code",
   "execution_count": null,
   "id": "63ea4c66",
   "metadata": {},
   "outputs": [],
   "source": [
    "Está sobreentrenando."
   ]
  },
  {
   "cell_type": "code",
   "execution_count": 64,
   "id": "a1035639",
   "metadata": {},
   "outputs": [
    {
     "data": {
      "text/plain": [
       "'Decision Tree'"
      ]
     },
     "metadata": {},
     "output_type": "display_data"
    },
    {
     "data": {
      "text/html": [
       "<div>\n",
       "<style scoped>\n",
       "    .dataframe tbody tr th:only-of-type {\n",
       "        vertical-align: middle;\n",
       "    }\n",
       "\n",
       "    .dataframe tbody tr th {\n",
       "        vertical-align: top;\n",
       "    }\n",
       "\n",
       "    .dataframe thead th {\n",
       "        text-align: right;\n",
       "    }\n",
       "</style>\n",
       "<table border=\"1\" class=\"dataframe\">\n",
       "  <thead>\n",
       "    <tr style=\"text-align: right;\">\n",
       "      <th></th>\n",
       "      <th>Accuracy</th>\n",
       "      <th>Precision</th>\n",
       "      <th>Recall</th>\n",
       "      <th>F1</th>\n",
       "    </tr>\n",
       "  </thead>\n",
       "  <tbody>\n",
       "    <tr>\n",
       "      <th>train</th>\n",
       "      <td>0.90657</td>\n",
       "      <td>0.857033</td>\n",
       "      <td>0.974821</td>\n",
       "      <td>0.912140</td>\n",
       "    </tr>\n",
       "    <tr>\n",
       "      <th>validation</th>\n",
       "      <td>0.88695</td>\n",
       "      <td>0.837032</td>\n",
       "      <td>0.956441</td>\n",
       "      <td>0.892761</td>\n",
       "    </tr>\n",
       "  </tbody>\n",
       "</table>\n",
       "</div>"
      ],
      "text/plain": [
       "            Accuracy  Precision    Recall        F1\n",
       "train        0.90657   0.857033  0.974821  0.912140\n",
       "validation   0.88695   0.837032  0.956441  0.892761"
      ]
     },
     "metadata": {},
     "output_type": "display_data"
    },
    {
     "data": {
      "image/png": "[encoded data removed]",
      "text/plain": [
       "<Figure size 1080x216 with 2 Axes>"
      ]
     },
     "metadata": {
      "needs_background": "light"
     },
     "output_type": "display_data"
    }
   ],
   "source": [
    "model_tree = Pipeline([\n",
    "    ('mapper', mapper),\n",
    "    ('imputer', IterativeImputer(random_state=42)),\n",
    "    ('classifier', DecisionTreeClassifier(max_depth = 10, random_state=42)),\n",
    "])\n",
    "\n",
    "model_tree.fit(train, train.user_class)\n",
    "\n",
    "evaluate_model(model_tree, title='Decision Tree')"
   ]
  },
  {
   "cell_type": "markdown",
   "id": "0a4c04fb",
   "metadata": {},
   "source": [
    "### **RANDOM FOREST**"
   ]
  },
  {
   "cell_type": "code",
   "execution_count": null,
   "id": "6dcccc66",
   "metadata": {},
   "outputs": [],
   "source": []
  },
  {
   "cell_type": "code",
   "execution_count": null,
   "id": "4001da7f",
   "metadata": {},
   "outputs": [],
   "source": []
  },
  {
   "cell_type": "code",
   "execution_count": null,
   "id": "2436b310",
   "metadata": {},
   "outputs": [],
   "source": []
  },
  {
   "cell_type": "markdown",
   "id": "1bce40fc",
   "metadata": {},
   "source": [
    "### **GRADIENT BOOSTED TREES**"
   ]
  },
  {
   "cell_type": "code",
   "execution_count": null,
   "id": "01df033d",
   "metadata": {},
   "outputs": [],
   "source": []
  },
  {
   "cell_type": "code",
   "execution_count": null,
   "id": "121da5b8",
   "metadata": {},
   "outputs": [],
   "source": []
  },
  {
   "cell_type": "code",
   "execution_count": null,
   "id": "f0cddf08",
   "metadata": {},
   "outputs": [],
   "source": []
  },
  {
   "cell_type": "markdown",
   "id": "6854e0c9",
   "metadata": {},
   "source": [
    "4) Se deben utilizar **técnicas** que garanticen que los modelos no están **sobreentrenando** sin que nos demos cuenta."
   ]
  },
  {
   "cell_type": "markdown",
   "id": "b909f5aa",
   "metadata": {},
   "source": [
    "5) Determinar el valor final de la **métrica** que podría ser informado al cliente, utilizando técnicas que permitan obtener un valor lo más realista posible. Fundamentar."
   ]
  },
  {
   "cell_type": "code",
   "execution_count": null,
   "id": "0a233e13",
   "metadata": {},
   "outputs": [],
   "source": []
  }
 ],
 "metadata": {
  "kernelspec": {
   "display_name": "Python 3",
   "language": "python",
   "name": "python3"
  },
  "language_info": {
   "codemirror_mode": {
    "name": "ipython",
    "version": 3
   },
   "file_extension": ".py",
   "mimetype": "text/x-python",
   "name": "python",
   "nbconvert_exporter": "python",
   "pygments_lexer": "ipython3",
   "version": "3.8.6"
  }
 },
 "nbformat": 4,
 "nbformat_minor": 5
}
