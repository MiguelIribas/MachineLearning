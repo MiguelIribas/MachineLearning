{
 "cells": [
  {
   "cell_type": "markdown",
   "id": "3b049a20",
   "metadata": {},
   "source": [
    "# INSTAGRAM: DETECCIÓN DE USUARIOS FALSOS\n",
    "\n",
    "## **Entrenamiento y evaluación de modelos**"
   ]
  },
  {
   "cell_type": "markdown",
   "id": "d567bd96",
   "metadata": {},
   "source": [
    "<img src=\"https://miracomohacerlo.com/wp-content/uploads/2019/02/como-ver-a-que-fotos-le-da-like-en-instagram-una-persona-2.jpg\" />"
   ]
  },
  {
   "cell_type": "code",
   "execution_count": 1,
   "id": "dbbe6720",
   "metadata": {},
   "outputs": [],
   "source": [
    "%matplotlib inline"
   ]
  },
  {
   "cell_type": "code",
   "execution_count": 2,
   "id": "6df224bc",
   "metadata": {},
   "outputs": [],
   "source": [
    "import numpy as np\n",
    "import pandas as pd\n",
    "from collections import defaultdict\n",
    "from matplotlib import pyplot as plt\n",
    "import seaborn as sns\n",
    "\n",
    "from IPython.display import HTML, display\n",
    "from sklearn.metrics import accuracy_score, precision_score, recall_score, confusion_matrix\n",
    "from sklearn.model_selection import train_test_split\n",
    "\n",
    "from sklearn_pandas import DataFrameMapper"
   ]
  },
  {
   "cell_type": "markdown",
   "id": "954352c6",
   "metadata": {},
   "source": [
    "## **DATASET**"
   ]
  },
  {
   "cell_type": "code",
   "execution_count": 3,
   "id": "dd8153ce",
   "metadata": {},
   "outputs": [],
   "source": [
    "dataset_original = pd.read_csv('instagram.csv')\n",
    "dataset = dataset_original\n",
    "\n",
    "renamed_columns = {'pos':'post','flw':'followers','flg':'following','bl':'biography_lenght','pic':'profile_picture','lin':'external_url','cl':'post_lenght','cz':'post_lenght_null','ni':'none_image','erl':'engagement_rate_likes','erc':'engagement_rate_comments','lt':'post_location','hc':'hashtags_post','pr':'hashtags_promotional','fo':'hashtags_followers','cs':'cosine_similarity','pi':'interval_post','class':'user_class'}\n",
    "dataset.rename(columns = renamed_columns, inplace = True)\n",
    "\n",
    "dataset[\"user_class\"] = dataset.user_class.replace(['f','r'], [0, 1])"
   ]
  },
  {
   "cell_type": "markdown",
   "id": "f1adaa73",
   "metadata": {},
   "source": [
    "### **Train, Validation, Test**"
   ]
  },
  {
   "cell_type": "code",
   "execution_count": 4,
   "id": "0b801a93",
   "metadata": {},
   "outputs": [],
   "source": [
    "# 60% train, 20% test, 20% validation\n",
    "train, not_train = train_test_split(dataset, test_size=0.4)\n",
    "validation, test = train_test_split(not_train, test_size=0.5)"
   ]
  },
  {
   "cell_type": "markdown",
   "id": "91c3f254",
   "metadata": {},
   "source": [
    "## **MÉTRICAS**"
   ]
  },
  {
   "cell_type": "markdown",
   "id": "4a044c10",
   "metadata": {},
   "source": [
    "1) Se debe elegir y definir una **métrica de performance** a utilizar para **evaluar los modelos**. Fundamentar la elección de la métrica.\n",
    "\n",
    "\n",
    "Elegimos la métrica **Precision** ya que al momento de predecir queremos estar seguros de que una cuenta falsa realmente lo sea. No nos daría lo mismo que el modelo prediga que una cuenta es falsa si no lo es a que prediga que es verdadera cuando en realidad es falsa. Nos interesa saber del total de cuentas falsas predichas cuales realmente lo fueron. \n",
    "Bajo este sustento no podríamos utilizar **Acurracy** porque tiene diferente impacto errar en la predicción de una clase u otra. A su vez creemos que tampoco nos parece adecuado utilizar **Recall** porque se le estaría dando un tratamiento inapropiado a cuentas que se clasificaron como falsas pero que en realidad eran verdaderas. \n",
    "\n",
    "Si bien a continuación vamos a evaluar los modelos con todas las métricas, le vamos a dar mas importancia a Precision. \n"
   ]
  },
  {
   "cell_type": "markdown",
   "id": "82064b7e",
   "metadata": {},
   "source": [
    "2) Se debe aplicar alguna **técnica de feature engineering** para mejorar la data de entrada a los modelos, y mostrar la comparativa de los resultados obtenidos en cada caso. Si no es posible o útil, fundamentar el motivo por el cual no se realizará."
   ]
  },
  {
   "cell_type": "markdown",
   "id": "230ce7b3",
   "metadata": {},
   "source": [
    "## FEATURE ENGINEERING"
   ]
  },
  {
   "cell_type": "markdown",
   "id": "da6ceb3c",
   "metadata": {},
   "source": [
    "### Binning: \n",
    "Utilizamos la técnica de redondeo para las siguientes variables:\n",
    "- post\n",
    "- followers\n",
    "- followings\n",
    "- biography_lenght\n",
    "- post_lenght\n",
    "- engagement_rate_likes\n",
    "- engagement_rate_comments\n",
    "- hashtags_post\n",
    "- hashtags_promotional\n",
    "- hashtags_followers\n",
    "- interval_post\n",
    "\n",
    "### One-hotEnconder:\n",
    "Generamos nuevas columnas a partir de las siguientes variables:\n",
    "- Profile_picture\n",
    "- External_URL"
   ]
  },
  {
   "cell_type": "markdown",
   "id": "50d392ca",
   "metadata": {},
   "source": [
    "Consideramos que las siguientes variables no necesitan una transformación ya que contienen valores que corresponden a porcentajes entre 0 y 1:\n",
    "- post_lenght_null\n",
    "- none_image\n",
    "- post_location\n",
    "- cosine_similarity"
   ]
  },
  {
   "cell_type": "markdown",
   "id": "e4baf70d",
   "metadata": {},
   "source": [
    "### **MAPPER**"
   ]
  },
  {
   "cell_type": "code",
   "execution_count": 5,
   "id": "33447143",
   "metadata": {},
   "outputs": [],
   "source": [
    "from sklearn_pandas import DataFrameMapper\n",
    "from sklearn.preprocessing import StandardScaler, OneHotEncoder"
   ]
  },
  {
   "cell_type": "code",
   "execution_count": 6,
   "id": "6ef86a26",
   "metadata": {},
   "outputs": [
    {
     "data": {
      "text/plain": [
       "array([[ 0.15884979, -0.03147555, -0.31283003, ..., -0.09395643,\n",
       "         0.015142  , -0.02630402],\n",
       "       [ 0.14592417, -0.00282953, -0.0817034 , ..., -0.09395643,\n",
       "         0.377125  , -0.43035003],\n",
       "       [ 0.00374238, -0.0623431 , -0.35135113, ..., -0.09395643,\n",
       "         0.039284  , -0.4018717 ],\n",
       "       ...,\n",
       "       [-0.11646586, -0.08794914, -0.46691444, ..., -0.09395643,\n",
       "         0.29826301,  0.45897866],\n",
       "       [-0.1862642 , -0.04118012,  0.76576088, ..., -0.09395643,\n",
       "         0.132273  , -0.42456211],\n",
       "       [ 0.20150432, -0.06970922, -0.68070657, ...,  0.00916241,\n",
       "         0.10716   ,  0.21335419]])"
      ]
     },
     "execution_count": 6,
     "metadata": {},
     "output_type": "execute_result"
    }
   ],
   "source": [
    "mapper = DataFrameMapper([\n",
    "    (['post'], [StandardScaler()]),\n",
    "    (['followers'], [StandardScaler()]),\n",
    "    (['following'], [StandardScaler()]),\n",
    "    (['biography_lenght'], [StandardScaler()]),\n",
    "    (['profile_picture'], [OneHotEncoder()]),\n",
    "    (['external_url'], [OneHotEncoder()]),\n",
    "    (['post_lenght'], [StandardScaler()]),\n",
    "    (['post_lenght_null'], None),\n",
    "    (['none_image'], None),\n",
    "    (['engagement_rate_likes'], [StandardScaler()]),\n",
    "    (['engagement_rate_comments'], [StandardScaler()]),\n",
    "    (['post_location'], None),\n",
    "    (['hashtags_post'], [StandardScaler()]),\n",
    "    (['hashtags_promotional'], [StandardScaler()]),\n",
    "    (['hashtags_followers'], [StandardScaler()]),\n",
    "    (['cosine_similarity'], None),\n",
    "    (['interval_post'], [StandardScaler()])\n",
    "])\n",
    "\n",
    "mapper.fit(train)\n",
    "mapper.transform(train)"
   ]
  },
  {
   "cell_type": "code",
   "execution_count": 7,
   "id": "d32e18aa",
   "metadata": {},
   "outputs": [
    {
     "data": {
      "text/plain": [
       "['post',\n",
       " 'followers',\n",
       " 'following',\n",
       " 'biography_lenght',\n",
       " 'profile_picture_x0_0',\n",
       " 'profile_picture_x0_1',\n",
       " 'external_url_x0_0',\n",
       " 'external_url_x0_1',\n",
       " 'post_lenght',\n",
       " 'post_lenght_null',\n",
       " 'none_image',\n",
       " 'engagement_rate_likes',\n",
       " 'engagement_rate_comments',\n",
       " 'post_location',\n",
       " 'hashtags_post',\n",
       " 'hashtags_promotional',\n",
       " 'hashtags_followers',\n",
       " 'cosine_similarity',\n",
       " 'interval_post']"
      ]
     },
     "execution_count": 7,
     "metadata": {},
     "output_type": "execute_result"
    }
   ],
   "source": [
    "mapper.transformed_names_"
   ]
  },
  {
   "cell_type": "markdown",
   "id": "66243063",
   "metadata": {},
   "source": [
    "3) Por cada modelo, se debe **entrenarlo y evaluar** su comportamiento con la **métrica** elegida. Sacar conclusiones respecto a los motivos por los cuales el modelo funciona bien o mal."
   ]
  },
  {
   "cell_type": "markdown",
   "id": "6ca8440c",
   "metadata": {},
   "source": [
    "## **MODELOS**"
   ]
  },
  {
   "cell_type": "markdown",
   "id": "bde05125",
   "metadata": {},
   "source": [
    "### **Función para evaluar modelos**"
   ]
  },
  {
   "cell_type": "code",
   "execution_count": 8,
   "id": "fcd8c1ae",
   "metadata": {},
   "outputs": [],
   "source": [
    "from sklearn import metrics\n",
    "\n",
    "from sklearn.experimental import enable_iterative_imputer\n",
    "from sklearn.impute import SimpleImputer, IterativeImputer\n",
    "\n",
    "from sklearn.pipeline import Pipeline"
   ]
  },
  {
   "cell_type": "code",
   "execution_count": 9,
   "id": "9df21ca2",
   "metadata": {},
   "outputs": [],
   "source": [
    "def evaluate_model(model, set_names=('train', 'validation'), title='', show_cm=True):\n",
    "    if title:\n",
    "        display(title)\n",
    "        \n",
    "    final_metrics = defaultdict(list)\n",
    "    \n",
    "    if show_cm:\n",
    "        fig, axis = plt.subplots(1, len(set_names), sharey=True, figsize=(15, 3))\n",
    "    \n",
    "    for i, set_name in enumerate(set_names):\n",
    "        assert set_name in ['train', 'validation', 'test']\n",
    "        set_data = globals()[set_name]  # <- hack feo...\n",
    "\n",
    "        y = set_data.user_class\n",
    "        y_pred = model.predict(set_data)\n",
    "        final_metrics['Accuracy'].append(metrics.accuracy_score(y, y_pred))\n",
    "        final_metrics['Precision'].append(metrics.precision_score(y, y_pred))\n",
    "        final_metrics['Recall'].append(metrics.recall_score(y, y_pred))\n",
    "        final_metrics['F1'].append(metrics.f1_score(y, y_pred))\n",
    "        \n",
    "        if show_cm:\n",
    "            ax = axis[i]\n",
    "            sns.heatmap(metrics.confusion_matrix(y, y_pred), ax=ax, cmap='Blues', annot=True, fmt='.0f', cbar=False)\n",
    "\n",
    "            ax.set_title(set_name)\n",
    "            ax.xaxis.set_ticklabels(['real', 'fake'])\n",
    "            ax.yaxis.set_ticklabels(['real', 'fake'])\n",
    "            ax.set_xlabel('Predicted class')\n",
    "            ax.set_ylabel('True class')\n",
    "\n",
    "        \n",
    "    display(pd.DataFrame(final_metrics, index=set_names))\n",
    "    if show_cm:\n",
    "        plt.tight_layout()\n",
    "        plt.show()"
   ]
  },
  {
   "cell_type": "markdown",
   "id": "e80cbac0",
   "metadata": {},
   "source": [
    "### **REGRESIÓN LOGÍSTICA**"
   ]
  },
  {
   "cell_type": "code",
   "execution_count": 30,
   "id": "f6f44e91",
   "metadata": {},
   "outputs": [],
   "source": [
    "from sklearn.linear_model import LogisticRegression"
   ]
  },
  {
   "cell_type": "code",
   "execution_count": 31,
   "id": "fb0c4e91",
   "metadata": {
    "scrolled": false
   },
   "outputs": [
    {
     "data": {
      "text/html": [
       "<div>\n",
       "<style scoped>\n",
       "    .dataframe tbody tr th:only-of-type {\n",
       "        vertical-align: middle;\n",
       "    }\n",
       "\n",
       "    .dataframe tbody tr th {\n",
       "        vertical-align: top;\n",
       "    }\n",
       "\n",
       "    .dataframe thead th {\n",
       "        text-align: right;\n",
       "    }\n",
       "</style>\n",
       "<table border=\"1\" class=\"dataframe\">\n",
       "  <thead>\n",
       "    <tr style=\"text-align: right;\">\n",
       "      <th></th>\n",
       "      <th>Accuracy</th>\n",
       "      <th>Precision</th>\n",
       "      <th>Recall</th>\n",
       "      <th>F1</th>\n",
       "    </tr>\n",
       "  </thead>\n",
       "  <tbody>\n",
       "    <tr>\n",
       "      <th>train</th>\n",
       "      <td>0.808368</td>\n",
       "      <td>0.796372</td>\n",
       "      <td>0.826986</td>\n",
       "      <td>0.811390</td>\n",
       "    </tr>\n",
       "    <tr>\n",
       "      <th>validation</th>\n",
       "      <td>0.812629</td>\n",
       "      <td>0.800863</td>\n",
       "      <td>0.828994</td>\n",
       "      <td>0.814686</td>\n",
       "    </tr>\n",
       "  </tbody>\n",
       "</table>\n",
       "</div>"
      ],
      "text/plain": [
       "            Accuracy  Precision    Recall        F1\n",
       "train       0.808368   0.796372  0.826986  0.811390\n",
       "validation  0.812629   0.800863  0.828994  0.814686"
      ]
     },
     "metadata": {},
     "output_type": "display_data"
    },
    {
     "data": {
      "image/png": "[encoded data removed]",
      "text/plain": [
       "<Figure size 1080x216 with 2 Axes>"
      ]
     },
     "metadata": {
      "needs_background": "light"
     },
     "output_type": "display_data"
    }
   ],
   "source": [
    "model_lr = Pipeline([\n",
    "    ('mapper', mapper),\n",
    "    ('imputer', IterativeImputer(random_state=42)),\n",
    "    ('classifier', LogisticRegression(random_state=42)),\n",
    "])\n",
    "\n",
    "model_lr.fit(train, train.user_class)\n",
    "\n",
    "evaluate_model(model_lr)"
   ]
  },
  {
   "cell_type": "markdown",
   "id": "3204e323",
   "metadata": {},
   "source": [
    "Podemos observar que **en validation obtivimos un 80% de acierto con la métrica precision al clasificar cuentas falsas.** A su vez observamos que si bien es muy poca la diferencia de los casos reales que erró con los casos falsos que erró, esta última resulta mayor. "
   ]
  },
  {
   "cell_type": "markdown",
   "id": "853a0040",
   "metadata": {},
   "source": [
    "#### Importancias de variables"
   ]
  },
  {
   "cell_type": "code",
   "execution_count": 18,
   "id": "f4971614",
   "metadata": {},
   "outputs": [
    {
     "data": {
      "text/plain": [
       "<AxesSubplot:xlabel='coeficiente', ylabel='feature'>"
      ]
     },
     "execution_count": 18,
     "metadata": {},
     "output_type": "execute_result"
    },
    {
     "data": {
      "image/png": "[encoded data removed]",
      "text/plain": [
       "<Figure size 432x288 with 1 Axes>"
      ]
     },
     "metadata": {
      "needs_background": "light"
     },
     "output_type": "display_data"
    }
   ],
   "source": [
    "clf = model_lr.named_steps['classifier']\n",
    "clf.coef_  # los pesos que aprendió la regresión logística!\n",
    "\n",
    "df_importance = pd.DataFrame({\n",
    "    'feature': mapper.transformed_names_, \n",
    "    'coeficiente': clf.coef_[0],\n",
    "}).sort_values(by='coeficiente')\n",
    "\n",
    "sns.barplot(data=df_importance, x='coeficiente', y='feature')"
   ]
  },
  {
   "cell_type": "markdown",
   "id": "462c4a26",
   "metadata": {},
   "source": [
    "**Conclusiones:**\n",
    "- Cuanto mas cantidad de following tenga un cuenta, mas probabilidades tiene de ser falsa. \n",
    "- Cuanto mas cantidad de uso de hashtags promocionales tenga una cuenta, mas probabilidades tiene de ser falsa. \n",
    "- Cuanto mas porcentaje de publicaciones con ubicación tenga una cuenta, mas probabilidades tiene de ser real. \n",
    "- Si la variable external_URL es 0, mas probabilidades hay de que la cuenta sea falsa. En cambio si es 1 de que sea real.\n"
   ]
  },
  {
   "cell_type": "markdown",
   "id": "5a4aff6a",
   "metadata": {},
   "source": [
    "### **K NEAREST NEIGHBORS**"
   ]
  },
  {
   "cell_type": "code",
   "execution_count": 33,
   "id": "f9943f8b",
   "metadata": {},
   "outputs": [],
   "source": [
    "from sklearn.neighbors import KNeighborsClassifier"
   ]
  },
  {
   "cell_type": "code",
   "execution_count": 34,
   "id": "f9416f4b",
   "metadata": {
    "scrolled": true
   },
   "outputs": [
    {
     "data": {
      "text/plain": [
       "'Knn'"
      ]
     },
     "metadata": {},
     "output_type": "display_data"
    },
    {
     "data": {
      "text/html": [
       "<div>\n",
       "<style scoped>\n",
       "    .dataframe tbody tr th:only-of-type {\n",
       "        vertical-align: middle;\n",
       "    }\n",
       "\n",
       "    .dataframe tbody tr th {\n",
       "        vertical-align: top;\n",
       "    }\n",
       "\n",
       "    .dataframe thead th {\n",
       "        text-align: right;\n",
       "    }\n",
       "</style>\n",
       "<table border=\"1\" class=\"dataframe\">\n",
       "  <thead>\n",
       "    <tr style=\"text-align: right;\">\n",
       "      <th></th>\n",
       "      <th>Accuracy</th>\n",
       "      <th>Precision</th>\n",
       "      <th>Recall</th>\n",
       "      <th>F1</th>\n",
       "    </tr>\n",
       "  </thead>\n",
       "  <tbody>\n",
       "    <tr>\n",
       "      <th>train</th>\n",
       "      <td>0.857788</td>\n",
       "      <td>0.844571</td>\n",
       "      <td>0.875870</td>\n",
       "      <td>0.859936</td>\n",
       "    </tr>\n",
       "    <tr>\n",
       "      <th>validation</th>\n",
       "      <td>0.835438</td>\n",
       "      <td>0.824391</td>\n",
       "      <td>0.849792</td>\n",
       "      <td>0.836899</td>\n",
       "    </tr>\n",
       "  </tbody>\n",
       "</table>\n",
       "</div>"
      ],
      "text/plain": [
       "            Accuracy  Precision    Recall        F1\n",
       "train       0.857788   0.844571  0.875870  0.859936\n",
       "validation  0.835438   0.824391  0.849792  0.836899"
      ]
     },
     "metadata": {},
     "output_type": "display_data"
    },
    {
     "data": {
      "image/png": "[encoded data removed]",
      "text/plain": [
       "<Figure size 1080x216 with 2 Axes>"
      ]
     },
     "metadata": {
      "needs_background": "light"
     },
     "output_type": "display_data"
    }
   ],
   "source": [
    "K = 10\n",
    "\n",
    "model_knn = Pipeline([\n",
    "    ('mapper', mapper),\n",
    "    ('imputer', IterativeImputer(random_state=42)),\n",
    "    ('classifier', KNeighborsClassifier(n_neighbors=K)),\n",
    "])\n",
    "\n",
    "model_knn.fit(train, train.user_class)\n",
    "\n",
    "evaluate_model(model_knn, title='Knn')"
   ]
  },
  {
   "cell_type": "markdown",
   "id": "1ee83c7f",
   "metadata": {},
   "source": [
    "Observamos que en validation obtivimos un **83% de acierto** con la métrica precision al clasificar cuentas falsas. "
   ]
  },
  {
   "cell_type": "markdown",
   "id": "5cd05985",
   "metadata": {},
   "source": [
    "### **ÁRBOLES DE DECISIÓN**"
   ]
  },
  {
   "cell_type": "code",
   "execution_count": 10,
   "id": "f076c604",
   "metadata": {},
   "outputs": [],
   "source": [
    "from sklearn.tree import DecisionTreeClassifier\n",
    "from sklearn.preprocessing import LabelBinarizer"
   ]
  },
  {
   "cell_type": "code",
   "execution_count": 11,
   "id": "45a2e8d2",
   "metadata": {
    "scrolled": true
   },
   "outputs": [
    {
     "data": {
      "text/plain": [
       "'Decision Tree'"
      ]
     },
     "metadata": {},
     "output_type": "display_data"
    },
    {
     "data": {
      "text/html": [
       "<div>\n",
       "<style scoped>\n",
       "    .dataframe tbody tr th:only-of-type {\n",
       "        vertical-align: middle;\n",
       "    }\n",
       "\n",
       "    .dataframe tbody tr th {\n",
       "        vertical-align: top;\n",
       "    }\n",
       "\n",
       "    .dataframe thead th {\n",
       "        text-align: right;\n",
       "    }\n",
       "</style>\n",
       "<table border=\"1\" class=\"dataframe\">\n",
       "  <thead>\n",
       "    <tr style=\"text-align: right;\">\n",
       "      <th></th>\n",
       "      <th>Accuracy</th>\n",
       "      <th>Precision</th>\n",
       "      <th>Recall</th>\n",
       "      <th>F1</th>\n",
       "    </tr>\n",
       "  </thead>\n",
       "  <tbody>\n",
       "    <tr>\n",
       "      <th>train</th>\n",
       "      <td>1.000000</td>\n",
       "      <td>1.000000</td>\n",
       "      <td>1.000000</td>\n",
       "      <td>1.000000</td>\n",
       "    </tr>\n",
       "    <tr>\n",
       "      <th>validation</th>\n",
       "      <td>0.852736</td>\n",
       "      <td>0.855963</td>\n",
       "      <td>0.845941</td>\n",
       "      <td>0.850922</td>\n",
       "    </tr>\n",
       "  </tbody>\n",
       "</table>\n",
       "</div>"
      ],
      "text/plain": [
       "            Accuracy  Precision    Recall        F1\n",
       "train       1.000000   1.000000  1.000000  1.000000\n",
       "validation  0.852736   0.855963  0.845941  0.850922"
      ]
     },
     "metadata": {},
     "output_type": "display_data"
    },
    {
     "data": {
      "image/png": "[encoded data removed]",
      "text/plain": [
       "<Figure size 1080x216 with 2 Axes>"
      ]
     },
     "metadata": {
      "needs_background": "light"
     },
     "output_type": "display_data"
    }
   ],
   "source": [
    "model_tree = Pipeline([\n",
    "    ('mapper', mapper),\n",
    "    ('imputer', IterativeImputer(random_state=42)),\n",
    "    ('classifier', DecisionTreeClassifier(random_state=42)),\n",
    "])\n",
    "\n",
    "model_tree.fit(train, train.user_class)\n",
    "\n",
    "evaluate_model(model_tree, title='Decision Tree')"
   ]
  },
  {
   "cell_type": "markdown",
   "id": "8bd0a4d8",
   "metadata": {},
   "source": [
    "Podemos observar que **en train el algorítmo aciertó casi todos los casos**. Sin embargo en validation observamos que si tuvo fallas a la hora de predecir por lo que entendemos que en train está haciendo **overfiting.** \n",
    "\n",
    "Por lo cual agregamos un valor de máxima profundidad: "
   ]
  },
  {
   "cell_type": "code",
   "execution_count": 12,
   "id": "a1035639",
   "metadata": {},
   "outputs": [
    {
     "data": {
      "text/plain": [
       "'Decision Tree'"
      ]
     },
     "metadata": {},
     "output_type": "display_data"
    },
    {
     "data": {
      "text/html": [
       "<div>\n",
       "<style scoped>\n",
       "    .dataframe tbody tr th:only-of-type {\n",
       "        vertical-align: middle;\n",
       "    }\n",
       "\n",
       "    .dataframe tbody tr th {\n",
       "        vertical-align: top;\n",
       "    }\n",
       "\n",
       "    .dataframe thead th {\n",
       "        text-align: right;\n",
       "    }\n",
       "</style>\n",
       "<table border=\"1\" class=\"dataframe\">\n",
       "  <thead>\n",
       "    <tr style=\"text-align: right;\">\n",
       "      <th></th>\n",
       "      <th>Accuracy</th>\n",
       "      <th>Precision</th>\n",
       "      <th>Recall</th>\n",
       "      <th>F1</th>\n",
       "    </tr>\n",
       "  </thead>\n",
       "  <tbody>\n",
       "    <tr>\n",
       "      <th>train</th>\n",
       "      <td>0.90259</td>\n",
       "      <td>0.846914</td>\n",
       "      <td>0.982084</td>\n",
       "      <td>0.909505</td>\n",
       "    </tr>\n",
       "    <tr>\n",
       "      <th>validation</th>\n",
       "      <td>0.89093</td>\n",
       "      <td>0.836388</td>\n",
       "      <td>0.970267</td>\n",
       "      <td>0.898367</td>\n",
       "    </tr>\n",
       "  </tbody>\n",
       "</table>\n",
       "</div>"
      ],
      "text/plain": [
       "            Accuracy  Precision    Recall        F1\n",
       "train        0.90259   0.846914  0.982084  0.909505\n",
       "validation   0.89093   0.836388  0.970267  0.898367"
      ]
     },
     "metadata": {},
     "output_type": "display_data"
    },
    {
     "data": {
      "image/png": "[encoded data removed]",
      "text/plain": [
       "<Figure size 1080x216 with 2 Axes>"
      ]
     },
     "metadata": {
      "needs_background": "light"
     },
     "output_type": "display_data"
    }
   ],
   "source": [
    "model_tree_maxdepth = Pipeline([\n",
    "    ('mapper', mapper),\n",
    "    ('imputer', IterativeImputer(random_state=42)),\n",
    "    ('classifier', DecisionTreeClassifier(max_depth = 10, random_state=42)),\n",
    "])\n",
    "\n",
    "model_tree.fit(train, train.user_class)\n",
    "\n",
    "evaluate_model(model_tree, title='Decision Tree')"
   ]
  },
  {
   "cell_type": "markdown",
   "id": "9b5285b2",
   "metadata": {},
   "source": [
    "Agregando un límite de profundidad obtuvimos mejores resultados con **85% de precision.**"
   ]
  },
  {
   "cell_type": "markdown",
   "id": "0a4c04fb",
   "metadata": {},
   "source": [
    "### **RANDOM FOREST**"
   ]
  },
  {
   "cell_type": "code",
   "execution_count": 17,
   "id": "6dcccc66",
   "metadata": {},
   "outputs": [],
   "source": [
    "from sklearn.ensemble import RandomForestClassifier"
   ]
  },
  {
   "cell_type": "code",
   "execution_count": 22,
   "id": "4001da7f",
   "metadata": {
    "scrolled": false
   },
   "outputs": [
    {
     "data": {
      "text/plain": [
       "'Random Forest'"
      ]
     },
     "metadata": {},
     "output_type": "display_data"
    },
    {
     "data": {
      "text/html": [
       "<div>\n",
       "<style scoped>\n",
       "    .dataframe tbody tr th:only-of-type {\n",
       "        vertical-align: middle;\n",
       "    }\n",
       "\n",
       "    .dataframe tbody tr th {\n",
       "        vertical-align: top;\n",
       "    }\n",
       "\n",
       "    .dataframe thead th {\n",
       "        text-align: right;\n",
       "    }\n",
       "</style>\n",
       "<table border=\"1\" class=\"dataframe\">\n",
       "  <thead>\n",
       "    <tr style=\"text-align: right;\">\n",
       "      <th></th>\n",
       "      <th>Accuracy</th>\n",
       "      <th>Precision</th>\n",
       "      <th>Recall</th>\n",
       "      <th>F1</th>\n",
       "    </tr>\n",
       "  </thead>\n",
       "  <tbody>\n",
       "    <tr>\n",
       "      <th>train</th>\n",
       "      <td>1.000000</td>\n",
       "      <td>1.00000</td>\n",
       "      <td>1.000000</td>\n",
       "      <td>1.000000</td>\n",
       "    </tr>\n",
       "    <tr>\n",
       "      <th>validation</th>\n",
       "      <td>0.903023</td>\n",
       "      <td>0.85978</td>\n",
       "      <td>0.961639</td>\n",
       "      <td>0.907861</td>\n",
       "    </tr>\n",
       "  </tbody>\n",
       "</table>\n",
       "</div>"
      ],
      "text/plain": [
       "            Accuracy  Precision    Recall        F1\n",
       "train       1.000000    1.00000  1.000000  1.000000\n",
       "validation  0.903023    0.85978  0.961639  0.907861"
      ]
     },
     "metadata": {},
     "output_type": "display_data"
    },
    {
     "data": {
      "image/png": "[encoded data removed]",
      "text/plain": [
       "<Figure size 1080x216 with 2 Axes>"
      ]
     },
     "metadata": {
      "needs_background": "light"
     },
     "output_type": "display_data"
    }
   ],
   "source": [
    "forest_model = RandomForestClassifier(random_state=42)\n",
    "\n",
    "model_rf = Pipeline([\n",
    "    ('mapper', mapper),\n",
    "    ('imputer', IterativeImputer(random_state=42)),\n",
    "    ('classifier', forest_model),\n",
    "])\n",
    "\n",
    "model_rf.fit(train, train.user_class)\n",
    "\n",
    "evaluate_model(model_rf, title='Random Forest')"
   ]
  },
  {
   "cell_type": "markdown",
   "id": "802ef1f1",
   "metadata": {},
   "source": [
    "Observamos que al no indicar un límite de profundidad y cantidad de estimadores obtenemos una precisión de 1, por lo que entendemos que el algorítmo **está sobreentrenando.** "
   ]
  },
  {
   "cell_type": "code",
   "execution_count": 24,
   "id": "2436b310",
   "metadata": {},
   "outputs": [
    {
     "data": {
      "text/plain": [
       "'Random Forest'"
      ]
     },
     "metadata": {},
     "output_type": "display_data"
    },
    {
     "data": {
      "text/html": [
       "<div>\n",
       "<style scoped>\n",
       "    .dataframe tbody tr th:only-of-type {\n",
       "        vertical-align: middle;\n",
       "    }\n",
       "\n",
       "    .dataframe tbody tr th {\n",
       "        vertical-align: top;\n",
       "    }\n",
       "\n",
       "    .dataframe thead th {\n",
       "        text-align: right;\n",
       "    }\n",
       "</style>\n",
       "<table border=\"1\" class=\"dataframe\">\n",
       "  <thead>\n",
       "    <tr style=\"text-align: right;\">\n",
       "      <th></th>\n",
       "      <th>Accuracy</th>\n",
       "      <th>Precision</th>\n",
       "      <th>Recall</th>\n",
       "      <th>F1</th>\n",
       "    </tr>\n",
       "  </thead>\n",
       "  <tbody>\n",
       "    <tr>\n",
       "      <th>train</th>\n",
       "      <td>0.848195</td>\n",
       "      <td>0.813851</td>\n",
       "      <td>0.901669</td>\n",
       "      <td>0.855512</td>\n",
       "    </tr>\n",
       "    <tr>\n",
       "      <th>validation</th>\n",
       "      <td>0.852660</td>\n",
       "      <td>0.816556</td>\n",
       "      <td>0.907256</td>\n",
       "      <td>0.859520</td>\n",
       "    </tr>\n",
       "  </tbody>\n",
       "</table>\n",
       "</div>"
      ],
      "text/plain": [
       "            Accuracy  Precision    Recall        F1\n",
       "train       0.848195   0.813851  0.901669  0.855512\n",
       "validation  0.852660   0.816556  0.907256  0.859520"
      ]
     },
     "metadata": {},
     "output_type": "display_data"
    },
    {
     "data": {
      "image/png": "[encoded data removed]",
      "text/plain": [
       "<Figure size 1080x216 with 2 Axes>"
      ]
     },
     "metadata": {
      "needs_background": "light"
     },
     "output_type": "display_data"
    }
   ],
   "source": [
    "forest_model = RandomForestClassifier(n_estimators=100, max_depth=3, max_features=2, random_state=42)\n",
    "\n",
    "model_rf_maxdepth = Pipeline([\n",
    "    ('mapper', mapper),\n",
    "    ('imputer', IterativeImputer(random_state=42)),\n",
    "    ('classifier', forest_model),\n",
    "])\n",
    "\n",
    "model_rf.fit(train, train.user_class)\n",
    "\n",
    "evaluate_model(model_rf, title='Random Forest')\n"
   ]
  },
  {
   "cell_type": "markdown",
   "id": "e3d99d09",
   "metadata": {},
   "source": [
    "Observamos que, para un valor de **100 arboles** y un **limite de profudidad de 10,** obtenemos un **82% de precisión** en la predicones realizadas tanto en train como en validation. \n"
   ]
  },
  {
   "cell_type": "markdown",
   "id": "1bce40fc",
   "metadata": {},
   "source": [
    "### **GRADIENT BOOSTED TREES**"
   ]
  },
  {
   "cell_type": "code",
   "execution_count": 25,
   "id": "01df033d",
   "metadata": {},
   "outputs": [],
   "source": [
    "from sklearn.ensemble import GradientBoostingClassifier"
   ]
  },
  {
   "cell_type": "code",
   "execution_count": null,
   "id": "4080df87",
   "metadata": {},
   "outputs": [],
   "source": [
    "boost_model = GradientBoostingClassifier(random_state=42)\n",
    "\n",
    "model_gradient_boosted = Pipeline([\n",
    "    ('mapper', mapper),\n",
    "    ('imputer', IterativeImputer(random_state=42)),\n",
    "    ('classifier', boost_model),\n",
    "])\n",
    "\n",
    "model_gradient_boosted.fit(train, train.user_class)\n",
    "\n",
    "evaluate_model(model_gradient_boosted, title='Gradient Boosting')"
   ]
  },
  {
   "cell_type": "markdown",
   "id": "e2bc0856",
   "metadata": {},
   "source": [
    "Observamos que en validation obtivimos un **85% de acierto con la métrica precision** al clasificar cuentas."
   ]
  },
  {
   "cell_type": "markdown",
   "id": "6854e0c9",
   "metadata": {},
   "source": [
    "4) Se deben utilizar **técnicas** que garanticen que los modelos no están **sobreentrenando** sin que nos demos cuenta."
   ]
  },
  {
   "cell_type": "markdown",
   "id": "b9b4d25b",
   "metadata": {},
   "source": [
    "### EVITANDO OVERFITING"
   ]
  },
  {
   "cell_type": "markdown",
   "id": "c85ec3d0",
   "metadata": {},
   "source": [
    "Para evitar que los modelos sobreentrenen utilizamos: \n",
    "- Límite de profundidad en Arboles de decisión\n",
    "- Límite de profundidad y máximo de estimadores en Radom Forest\n"
   ]
  },
  {
   "cell_type": "markdown",
   "id": "b909f5aa",
   "metadata": {},
   "source": [
    "5) Determinar el valor final de la **métrica** que podría ser informado al cliente, utilizando técnicas que permitan obtener un valor lo más realista posible. Fundamentar."
   ]
  },
  {
   "cell_type": "code",
   "execution_count": 35,
   "id": "0a233e13",
   "metadata": {},
   "outputs": [
    {
     "data": {
      "text/plain": [
       "'Regresión Logística'"
      ]
     },
     "metadata": {},
     "output_type": "display_data"
    },
    {
     "data": {
      "text/html": [
       "<div>\n",
       "<style scoped>\n",
       "    .dataframe tbody tr th:only-of-type {\n",
       "        vertical-align: middle;\n",
       "    }\n",
       "\n",
       "    .dataframe tbody tr th {\n",
       "        vertical-align: top;\n",
       "    }\n",
       "\n",
       "    .dataframe thead th {\n",
       "        text-align: right;\n",
       "    }\n",
       "</style>\n",
       "<table border=\"1\" class=\"dataframe\">\n",
       "  <thead>\n",
       "    <tr style=\"text-align: right;\">\n",
       "      <th></th>\n",
       "      <th>Accuracy</th>\n",
       "      <th>Precision</th>\n",
       "      <th>Recall</th>\n",
       "      <th>F1</th>\n",
       "    </tr>\n",
       "  </thead>\n",
       "  <tbody>\n",
       "    <tr>\n",
       "      <th>train</th>\n",
       "      <td>0.808368</td>\n",
       "      <td>0.796372</td>\n",
       "      <td>0.826986</td>\n",
       "      <td>0.811390</td>\n",
       "    </tr>\n",
       "    <tr>\n",
       "      <th>test</th>\n",
       "      <td>0.809276</td>\n",
       "      <td>0.793622</td>\n",
       "      <td>0.827919</td>\n",
       "      <td>0.810408</td>\n",
       "    </tr>\n",
       "    <tr>\n",
       "      <th>validation</th>\n",
       "      <td>0.812629</td>\n",
       "      <td>0.800863</td>\n",
       "      <td>0.828994</td>\n",
       "      <td>0.814686</td>\n",
       "    </tr>\n",
       "  </tbody>\n",
       "</table>\n",
       "</div>"
      ],
      "text/plain": [
       "            Accuracy  Precision    Recall        F1\n",
       "train       0.808368   0.796372  0.826986  0.811390\n",
       "test        0.809276   0.793622  0.827919  0.810408\n",
       "validation  0.812629   0.800863  0.828994  0.814686"
      ]
     },
     "metadata": {},
     "output_type": "display_data"
    },
    {
     "data": {
      "text/plain": [
       "'KNN'"
      ]
     },
     "metadata": {},
     "output_type": "display_data"
    },
    {
     "data": {
      "text/html": [
       "<div>\n",
       "<style scoped>\n",
       "    .dataframe tbody tr th:only-of-type {\n",
       "        vertical-align: middle;\n",
       "    }\n",
       "\n",
       "    .dataframe tbody tr th {\n",
       "        vertical-align: top;\n",
       "    }\n",
       "\n",
       "    .dataframe thead th {\n",
       "        text-align: right;\n",
       "    }\n",
       "</style>\n",
       "<table border=\"1\" class=\"dataframe\">\n",
       "  <thead>\n",
       "    <tr style=\"text-align: right;\">\n",
       "      <th></th>\n",
       "      <th>Accuracy</th>\n",
       "      <th>Precision</th>\n",
       "      <th>Recall</th>\n",
       "      <th>F1</th>\n",
       "    </tr>\n",
       "  </thead>\n",
       "  <tbody>\n",
       "    <tr>\n",
       "      <th>train</th>\n",
       "      <td>0.857788</td>\n",
       "      <td>0.844571</td>\n",
       "      <td>0.875870</td>\n",
       "      <td>0.859936</td>\n",
       "    </tr>\n",
       "    <tr>\n",
       "      <th>test</th>\n",
       "      <td>0.835068</td>\n",
       "      <td>0.816420</td>\n",
       "      <td>0.857920</td>\n",
       "      <td>0.836656</td>\n",
       "    </tr>\n",
       "    <tr>\n",
       "      <th>validation</th>\n",
       "      <td>0.835438</td>\n",
       "      <td>0.824391</td>\n",
       "      <td>0.849792</td>\n",
       "      <td>0.836899</td>\n",
       "    </tr>\n",
       "  </tbody>\n",
       "</table>\n",
       "</div>"
      ],
      "text/plain": [
       "            Accuracy  Precision    Recall        F1\n",
       "train       0.857788   0.844571  0.875870  0.859936\n",
       "test        0.835068   0.816420  0.857920  0.836656\n",
       "validation  0.835438   0.824391  0.849792  0.836899"
      ]
     },
     "metadata": {},
     "output_type": "display_data"
    },
    {
     "data": {
      "text/plain": [
       "'Arbol de decisión'"
      ]
     },
     "metadata": {},
     "output_type": "display_data"
    },
    {
     "data": {
      "text/html": [
       "<div>\n",
       "<style scoped>\n",
       "    .dataframe tbody tr th:only-of-type {\n",
       "        vertical-align: middle;\n",
       "    }\n",
       "\n",
       "    .dataframe tbody tr th {\n",
       "        vertical-align: top;\n",
       "    }\n",
       "\n",
       "    .dataframe thead th {\n",
       "        text-align: right;\n",
       "    }\n",
       "</style>\n",
       "<table border=\"1\" class=\"dataframe\">\n",
       "  <thead>\n",
       "    <tr style=\"text-align: right;\">\n",
       "      <th></th>\n",
       "      <th>Accuracy</th>\n",
       "      <th>Precision</th>\n",
       "      <th>Recall</th>\n",
       "      <th>F1</th>\n",
       "    </tr>\n",
       "  </thead>\n",
       "  <tbody>\n",
       "    <tr>\n",
       "      <th>train</th>\n",
       "      <td>0.902590</td>\n",
       "      <td>0.846914</td>\n",
       "      <td>0.982084</td>\n",
       "      <td>0.909505</td>\n",
       "    </tr>\n",
       "    <tr>\n",
       "      <th>test</th>\n",
       "      <td>0.888413</td>\n",
       "      <td>0.832687</td>\n",
       "      <td>0.967822</td>\n",
       "      <td>0.895183</td>\n",
       "    </tr>\n",
       "    <tr>\n",
       "      <th>validation</th>\n",
       "      <td>0.890930</td>\n",
       "      <td>0.836388</td>\n",
       "      <td>0.970267</td>\n",
       "      <td>0.898367</td>\n",
       "    </tr>\n",
       "  </tbody>\n",
       "</table>\n",
       "</div>"
      ],
      "text/plain": [
       "            Accuracy  Precision    Recall        F1\n",
       "train       0.902590   0.846914  0.982084  0.909505\n",
       "test        0.888413   0.832687  0.967822  0.895183\n",
       "validation  0.890930   0.836388  0.970267  0.898367"
      ]
     },
     "metadata": {},
     "output_type": "display_data"
    },
    {
     "data": {
      "text/plain": [
       "'Random Forest'"
      ]
     },
     "metadata": {},
     "output_type": "display_data"
    },
    {
     "data": {
      "text/html": [
       "<div>\n",
       "<style scoped>\n",
       "    .dataframe tbody tr th:only-of-type {\n",
       "        vertical-align: middle;\n",
       "    }\n",
       "\n",
       "    .dataframe tbody tr th {\n",
       "        vertical-align: top;\n",
       "    }\n",
       "\n",
       "    .dataframe thead th {\n",
       "        text-align: right;\n",
       "    }\n",
       "</style>\n",
       "<table border=\"1\" class=\"dataframe\">\n",
       "  <thead>\n",
       "    <tr style=\"text-align: right;\">\n",
       "      <th></th>\n",
       "      <th>Accuracy</th>\n",
       "      <th>Precision</th>\n",
       "      <th>Recall</th>\n",
       "      <th>F1</th>\n",
       "    </tr>\n",
       "  </thead>\n",
       "  <tbody>\n",
       "    <tr>\n",
       "      <th>train</th>\n",
       "      <td>0.848195</td>\n",
       "      <td>0.813851</td>\n",
       "      <td>0.901669</td>\n",
       "      <td>0.855512</td>\n",
       "    </tr>\n",
       "    <tr>\n",
       "      <th>test</th>\n",
       "      <td>0.847314</td>\n",
       "      <td>0.807341</td>\n",
       "      <td>0.906109</td>\n",
       "      <td>0.853878</td>\n",
       "    </tr>\n",
       "    <tr>\n",
       "      <th>validation</th>\n",
       "      <td>0.852660</td>\n",
       "      <td>0.816556</td>\n",
       "      <td>0.907256</td>\n",
       "      <td>0.859520</td>\n",
       "    </tr>\n",
       "  </tbody>\n",
       "</table>\n",
       "</div>"
      ],
      "text/plain": [
       "            Accuracy  Precision    Recall        F1\n",
       "train       0.848195   0.813851  0.901669  0.855512\n",
       "test        0.847314   0.807341  0.906109  0.853878\n",
       "validation  0.852660   0.816556  0.907256  0.859520"
      ]
     },
     "metadata": {},
     "output_type": "display_data"
    },
    {
     "data": {
      "text/plain": [
       "'Gradient Boosting'"
      ]
     },
     "metadata": {},
     "output_type": "display_data"
    },
    {
     "data": {
      "text/html": [
       "<div>\n",
       "<style scoped>\n",
       "    .dataframe tbody tr th:only-of-type {\n",
       "        vertical-align: middle;\n",
       "    }\n",
       "\n",
       "    .dataframe tbody tr th {\n",
       "        vertical-align: top;\n",
       "    }\n",
       "\n",
       "    .dataframe thead th {\n",
       "        text-align: right;\n",
       "    }\n",
       "</style>\n",
       "<table border=\"1\" class=\"dataframe\">\n",
       "  <thead>\n",
       "    <tr style=\"text-align: right;\">\n",
       "      <th></th>\n",
       "      <th>Accuracy</th>\n",
       "      <th>Precision</th>\n",
       "      <th>Recall</th>\n",
       "      <th>F1</th>\n",
       "    </tr>\n",
       "  </thead>\n",
       "  <tbody>\n",
       "    <tr>\n",
       "      <th>train</th>\n",
       "      <td>0.900089</td>\n",
       "      <td>0.855000</td>\n",
       "      <td>0.962838</td>\n",
       "      <td>0.905720</td>\n",
       "    </tr>\n",
       "    <tr>\n",
       "      <th>test</th>\n",
       "      <td>0.896755</td>\n",
       "      <td>0.849368</td>\n",
       "      <td>0.960672</td>\n",
       "      <td>0.901597</td>\n",
       "    </tr>\n",
       "    <tr>\n",
       "      <th>validation</th>\n",
       "      <td>0.900115</td>\n",
       "      <td>0.854042</td>\n",
       "      <td>0.963642</td>\n",
       "      <td>0.905537</td>\n",
       "    </tr>\n",
       "  </tbody>\n",
       "</table>\n",
       "</div>"
      ],
      "text/plain": [
       "            Accuracy  Precision    Recall        F1\n",
       "train       0.900089   0.855000  0.962838  0.905720\n",
       "test        0.896755   0.849368  0.960672  0.901597\n",
       "validation  0.900115   0.854042  0.963642  0.905537"
      ]
     },
     "metadata": {},
     "output_type": "display_data"
    }
   ],
   "source": [
    "evaluate_model(model_lr, title='Regresión Logística', set_names=('train', 'test', 'validation'), show_cm=False)\n",
    "evaluate_model(model_knn, title='KNN', set_names=('train', 'test', 'validation'), show_cm=False)\n",
    "evaluate_model(model_tree, title='Arbol de decisión', set_names=('train', 'test', 'validation'), show_cm=False)\n",
    "evaluate_model(model_rf, title='Random Forest', set_names=('train', 'test', 'validation'), show_cm=False)\n",
    "evaluate_model(model_gradient_boosted, title='Gradient Boosting', set_names=('train', 'test', 'validation'), show_cm=False)\n"
   ]
  },
  {
   "cell_type": "code",
   "execution_count": null,
   "id": "9a06c8e4",
   "metadata": {},
   "outputs": [],
   "source": []
  }
 ],
 "metadata": {
  "kernelspec": {
   "display_name": "Python 3",
   "language": "python",
   "name": "python3"
  },
  "language_info": {
   "codemirror_mode": {
    "name": "ipython",
    "version": 3
   },
   "file_extension": ".py",
   "mimetype": "text/x-python",
   "name": "python",
   "nbconvert_exporter": "python",
   "pygments_lexer": "ipython3",
   "version": "3.8.6"
  }
 },
 "nbformat": 4,
 "nbformat_minor": 5
}
