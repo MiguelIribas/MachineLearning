{
 "cells": [
  {
   "cell_type": "markdown",
   "id": "3b049a20",
   "metadata": {},
   "source": [
    "# INSTAGRAM: DETECCIÓN DE USUARIOS FALSOS\n",
    "\n",
    "## **Entrenamiento y evaluación de modelos**"
   ]
  },
  {
   "cell_type": "markdown",
   "id": "d567bd96",
   "metadata": {},
   "source": [
    "<img src=\"https://miracomohacerlo.com/wp-content/uploads/2019/02/como-ver-a-que-fotos-le-da-like-en-instagram-una-persona-2.jpg\" />"
   ]
  },
  {
   "cell_type": "code",
   "execution_count": 1,
   "id": "dbbe6720",
   "metadata": {},
   "outputs": [],
   "source": [
    "%matplotlib inline"
   ]
  },
  {
   "cell_type": "code",
   "execution_count": 2,
   "id": "6df224bc",
   "metadata": {},
   "outputs": [],
   "source": [
    "import numpy as np\n",
    "import pandas as pd\n",
    "from collections import defaultdict\n",
    "from matplotlib import pyplot as plt\n",
    "import seaborn as sns\n",
    "\n",
    "from IPython.display import HTML, display\n",
    "from sklearn.metrics import accuracy_score, precision_score, recall_score, confusion_matrix\n",
    "from sklearn.model_selection import train_test_split\n",
    "\n",
    "from sklearn_pandas import DataFrameMapper"
   ]
  },
  {
   "cell_type": "markdown",
   "id": "954352c6",
   "metadata": {},
   "source": [
    "## **DATASET**"
   ]
  },
  {
   "cell_type": "code",
   "execution_count": 3,
   "id": "dd8153ce",
   "metadata": {},
   "outputs": [],
   "source": [
    "dataset_original = pd.read_csv('instagram.csv')\n",
    "dataset = dataset_original\n",
    "\n",
    "renamed_columns = {'pos':'post','flw':'followers','flg':'following','bl':'biography_lenght','pic':'profile_picture','lin':'external_url','cl':'post_lenght','cz':'post_lenght_null','ni':'none_image','erl':'engagement_rate_likes','erc':'engagement_rate_comments','lt':'post_location','hc':'hashtags_post','pr':'hashtags_promotional','fo':'hashtags_followers','cs':'cosine_similarity','pi':'interval_post','class':'user_class'}\n",
    "dataset.rename(columns = renamed_columns, inplace = True)\n",
    "\n",
    "dataset[\"user_class\"] = dataset.user_class.replace(['f','r'], [0, 1])"
   ]
  },
  {
   "cell_type": "markdown",
   "id": "f1adaa73",
   "metadata": {},
   "source": [
    "### **Train, Validation, Test**"
   ]
  },
  {
   "cell_type": "code",
   "execution_count": 4,
   "id": "0b801a93",
   "metadata": {},
   "outputs": [],
   "source": [
    "# 60% train, 20% test, 20% validation\n",
    "train, not_train = train_test_split(dataset, test_size=0.4)\n",
    "validation, test = train_test_split(not_train, test_size=0.5)"
   ]
  },
  {
   "cell_type": "markdown",
   "id": "91c3f254",
   "metadata": {},
   "source": [
    "## **MÉTRICAS**"
   ]
  },
  {
   "cell_type": "markdown",
   "id": "4a044c10",
   "metadata": {},
   "source": [
    "Elegimos la métrica **Precision** ya que al momento de predecir queremos estar seguros de que una cuenta falsa realmente lo sea. No nos daría lo mismo que el modelo prediga que una cuenta es falsa si no lo es a que prediga que es verdadera cuando en realidad es falsa. Nos interesa saber del total de cuentas falsas predichas cuales realmente lo fueron. \n",
    "Bajo este sustento no podríamos utilizar **Acurracy** porque tiene diferente impacto errar en la predicción de una clase u otra. A su vez creemos que tampoco nos parece adecuado utilizar **Recall** porque se le estaría dando un tratamiento inapropiado a cuentas que se clasificaron como falsas pero que en realidad eran verdaderas. \n",
    "\n",
    "Si bien a continuación vamos a evaluar los modelos con todas las métricas, le vamos a dar mas importancia a Precision. \n"
   ]
  },
  {
   "cell_type": "markdown",
   "id": "230ce7b3",
   "metadata": {},
   "source": [
    "## FEATURE ENGINEERING"
   ]
  },
  {
   "cell_type": "markdown",
   "id": "da6ceb3c",
   "metadata": {},
   "source": [
    "### Binning: \n",
    "Utilizamos la técnica de redondeo para las siguientes variables:\n",
    "- post\n",
    "- followers\n",
    "- followings\n",
    "- biography_lenght\n",
    "- post_lenght\n",
    "- engagement_rate_likes\n",
    "- engagement_rate_comments\n",
    "- hashtags_post\n",
    "- hashtags_promotional\n",
    "- hashtags_followers\n",
    "- interval_post\n",
    "\n",
    "### One-hotEnconder:\n",
    "Generamos nuevas columnas a partir de las siguientes variables:\n",
    "- Profile_picture\n",
    "- External_URL"
   ]
  },
  {
   "cell_type": "markdown",
   "id": "50d392ca",
   "metadata": {},
   "source": [
    "Consideramos que las siguientes variables no necesitan una transformación ya que contienen valores que corresponden a porcentajes entre 0 y 1:\n",
    "- post_lenght_null\n",
    "- none_image\n",
    "- post_location\n",
    "- cosine_similarity"
   ]
  },
  {
   "cell_type": "markdown",
   "id": "e4baf70d",
   "metadata": {},
   "source": [
    "### **MAPPER**"
   ]
  },
  {
   "cell_type": "code",
   "execution_count": 5,
   "id": "33447143",
   "metadata": {},
   "outputs": [],
   "source": [
    "from sklearn_pandas import DataFrameMapper\n",
    "from sklearn.preprocessing import StandardScaler, OneHotEncoder"
   ]
  },
  {
   "cell_type": "code",
   "execution_count": 6,
   "id": "6ef86a26",
   "metadata": {},
   "outputs": [
    {
     "data": {
      "text/plain": [
       "array([[-0.18253881,  0.00945336,  1.9652684 , ..., -0.09823172,\n",
       "         0.33875901, -0.49296915],\n",
       "       [-0.25621229,  0.06780201,  1.92669664, ..., -0.09823172,\n",
       "         0.083333  , -0.4329679 ],\n",
       "       [-0.1656553 ,  0.00945336, -0.84584119, ..., -0.09823172,\n",
       "         0.62228298, -0.51249225],\n",
       "       ...,\n",
       "       [-0.25621229, -0.04629204,  1.9652684 , ..., -0.09823172,\n",
       "         0.166667  , -0.50160501],\n",
       "       [-0.26695634, -0.04992761, -0.8350411 , ..., -0.09823172,\n",
       "         0.        ,  0.21571928],\n",
       "       [-0.26695634, -0.04000834,  1.9652684 , ..., -0.09823172,\n",
       "         1.        , -0.43604877]])"
      ]
     },
     "execution_count": 6,
     "metadata": {},
     "output_type": "execute_result"
    }
   ],
   "source": [
    "mapper = DataFrameMapper([\n",
    "    (['post'], [StandardScaler()]),\n",
    "    (['followers'], [StandardScaler()]),\n",
    "    (['following'], [StandardScaler()]),\n",
    "    (['biography_lenght'], [StandardScaler()]),\n",
    "    (['profile_picture'], [OneHotEncoder()]),\n",
    "    (['external_url'], [OneHotEncoder()]),\n",
    "    (['post_lenght'], [StandardScaler()]),\n",
    "    (['post_lenght_null'], None),\n",
    "    (['none_image'], None),\n",
    "    (['engagement_rate_likes'], [StandardScaler()]),\n",
    "    (['engagement_rate_comments'], [StandardScaler()]),\n",
    "    (['post_location'], None),\n",
    "    (['hashtags_post'], [StandardScaler()]),\n",
    "    (['hashtags_promotional'], [StandardScaler()]),\n",
    "    (['hashtags_followers'], [StandardScaler()]),\n",
    "    (['cosine_similarity'], None),\n",
    "    (['interval_post'], [StandardScaler()])\n",
    "])\n",
    "\n",
    "mapper.fit(train)\n",
    "mapper.transform(train)"
   ]
  },
  {
   "cell_type": "code",
   "execution_count": 7,
   "id": "d32e18aa",
   "metadata": {},
   "outputs": [
    {
     "data": {
      "text/plain": [
       "['post',\n",
       " 'followers',\n",
       " 'following',\n",
       " 'biography_lenght',\n",
       " 'profile_picture_x0_0',\n",
       " 'profile_picture_x0_1',\n",
       " 'external_url_x0_0',\n",
       " 'external_url_x0_1',\n",
       " 'post_lenght',\n",
       " 'post_lenght_null',\n",
       " 'none_image',\n",
       " 'engagement_rate_likes',\n",
       " 'engagement_rate_comments',\n",
       " 'post_location',\n",
       " 'hashtags_post',\n",
       " 'hashtags_promotional',\n",
       " 'hashtags_followers',\n",
       " 'cosine_similarity',\n",
       " 'interval_post']"
      ]
     },
     "execution_count": 7,
     "metadata": {},
     "output_type": "execute_result"
    }
   ],
   "source": [
    "mapper.transformed_names_"
   ]
  },
  {
   "cell_type": "markdown",
   "id": "6ca8440c",
   "metadata": {},
   "source": [
    "## **MODELOS**"
   ]
  },
  {
   "cell_type": "markdown",
   "id": "bde05125",
   "metadata": {},
   "source": [
    "### **Función para evaluar modelos**"
   ]
  },
  {
   "cell_type": "code",
   "execution_count": 8,
   "id": "fcd8c1ae",
   "metadata": {},
   "outputs": [],
   "source": [
    "from sklearn import metrics\n",
    "\n",
    "from sklearn.experimental import enable_iterative_imputer\n",
    "from sklearn.impute import SimpleImputer, IterativeImputer\n",
    "\n",
    "from sklearn.pipeline import Pipeline"
   ]
  },
  {
   "cell_type": "code",
   "execution_count": 9,
   "id": "9df21ca2",
   "metadata": {},
   "outputs": [],
   "source": [
    "def evaluate_model(model, set_names=('train', 'validation'), title='', show_cm=True):\n",
    "    if title:\n",
    "        display(title)\n",
    "        \n",
    "    final_metrics = defaultdict(list)\n",
    "    \n",
    "    if show_cm:\n",
    "        fig, axis = plt.subplots(1, len(set_names), sharey=True, figsize=(15, 3))\n",
    "    \n",
    "    for i, set_name in enumerate(set_names):\n",
    "        assert set_name in ['train', 'validation', 'test']\n",
    "        set_data = globals()[set_name]  # <- hack feo...\n",
    "\n",
    "        y = set_data.user_class\n",
    "        y_pred = model.predict(set_data)\n",
    "        final_metrics['Accuracy'].append(metrics.accuracy_score(y, y_pred))\n",
    "        final_metrics['Precision'].append(metrics.precision_score(y, y_pred))\n",
    "        final_metrics['Recall'].append(metrics.recall_score(y, y_pred))\n",
    "        final_metrics['F1'].append(metrics.f1_score(y, y_pred))\n",
    "        \n",
    "        if show_cm:\n",
    "            ax = axis[i]\n",
    "            sns.heatmap(metrics.confusion_matrix(y, y_pred), ax=ax, cmap='Blues', annot=True, fmt='.0f', cbar=False)\n",
    "\n",
    "            ax.set_title(set_name)\n",
    "            ax.xaxis.set_ticklabels(['real', 'fake'])\n",
    "            ax.yaxis.set_ticklabels(['real', 'fake'])\n",
    "            ax.set_xlabel('Predicted class')\n",
    "            ax.set_ylabel('True class')\n",
    "        \n",
    "    display(pd.DataFrame(final_metrics, index=set_names))\n",
    "    if show_cm:\n",
    "        plt.tight_layout()\n",
    "        plt.show()"
   ]
  },
  {
   "cell_type": "markdown",
   "id": "e80cbac0",
   "metadata": {},
   "source": [
    "### **REGRESIÓN LOGÍSTICA**"
   ]
  },
  {
   "cell_type": "code",
   "execution_count": 10,
   "id": "f6f44e91",
   "metadata": {},
   "outputs": [],
   "source": [
    "from sklearn.linear_model import LogisticRegression"
   ]
  },
  {
   "cell_type": "code",
   "execution_count": 11,
   "id": "fb0c4e91",
   "metadata": {
    "scrolled": false
   },
   "outputs": [
    {
     "data": {
      "text/html": [
       "<div>\n",
       "<style scoped>\n",
       "    .dataframe tbody tr th:only-of-type {\n",
       "        vertical-align: middle;\n",
       "    }\n",
       "\n",
       "    .dataframe tbody tr th {\n",
       "        vertical-align: top;\n",
       "    }\n",
       "\n",
       "    .dataframe thead th {\n",
       "        text-align: right;\n",
       "    }\n",
       "</style>\n",
       "<table border=\"1\" class=\"dataframe\">\n",
       "  <thead>\n",
       "    <tr style=\"text-align: right;\">\n",
       "      <th></th>\n",
       "      <th>Accuracy</th>\n",
       "      <th>Precision</th>\n",
       "      <th>Recall</th>\n",
       "      <th>F1</th>\n",
       "    </tr>\n",
       "  </thead>\n",
       "  <tbody>\n",
       "    <tr>\n",
       "      <th>train</th>\n",
       "      <td>0.810103</td>\n",
       "      <td>0.795873</td>\n",
       "      <td>0.832805</td>\n",
       "      <td>0.813920</td>\n",
       "    </tr>\n",
       "    <tr>\n",
       "      <th>validation</th>\n",
       "      <td>0.805817</td>\n",
       "      <td>0.787848</td>\n",
       "      <td>0.831813</td>\n",
       "      <td>0.809234</td>\n",
       "    </tr>\n",
       "  </tbody>\n",
       "</table>\n",
       "</div>"
      ],
      "text/plain": [
       "            Accuracy  Precision    Recall        F1\n",
       "train       0.810103   0.795873  0.832805  0.813920\n",
       "validation  0.805817   0.787848  0.831813  0.809234"
      ]
     },
     "metadata": {},
     "output_type": "display_data"
    },
    {
     "data": {
      "image/png": "[encoded data removed]",
      "text/plain": [
       "<Figure size 1080x216 with 2 Axes>"
      ]
     },
     "metadata": {
      "needs_background": "light"
     },
     "output_type": "display_data"
    }
   ],
   "source": [
    "model_lr = Pipeline([\n",
    "    ('mapper', mapper),\n",
    "    ('imputer', IterativeImputer(random_state=42)),\n",
    "    ('classifier', LogisticRegression(random_state=42)),\n",
    "])\n",
    "\n",
    "model_lr.fit(train, train.user_class)\n",
    "\n",
    "evaluate_model(model_lr)"
   ]
  },
  {
   "cell_type": "markdown",
   "id": "3204e323",
   "metadata": {},
   "source": [
    "Podemos observar que **en validation obtuvimos un 80% en la métrica Precision**. A su vez observamos que si bien es muy poca la diferencia de los casos reales que erró con los casos falsos que erró, esta última resulta mayor."
   ]
  },
  {
   "cell_type": "markdown",
   "id": "853a0040",
   "metadata": {},
   "source": [
    "#### Importancias de variables"
   ]
  },
  {
   "cell_type": "code",
   "execution_count": 12,
   "id": "f4971614",
   "metadata": {},
   "outputs": [
    {
     "data": {
      "text/plain": [
       "<AxesSubplot:xlabel='coeficiente', ylabel='feature'>"
      ]
     },
     "execution_count": 12,
     "metadata": {},
     "output_type": "execute_result"
    },
    {
     "data": {
      "image/png": "[encoded data removed]",
      "text/plain": [
       "<Figure size 432x288 with 1 Axes>"
      ]
     },
     "metadata": {
      "needs_background": "light"
     },
     "output_type": "display_data"
    }
   ],
   "source": [
    "clf = model_lr.named_steps['classifier']\n",
    "clf.coef_  # los pesos que aprendió la regresión logística!\n",
    "\n",
    "df_importance = pd.DataFrame({\n",
    "    'feature': mapper.transformed_names_, \n",
    "    'coeficiente': clf.coef_[0],\n",
    "}).sort_values(by='coeficiente')\n",
    "\n",
    "sns.barplot(data=df_importance, x='coeficiente', y='feature')"
   ]
  },
  {
   "cell_type": "markdown",
   "id": "462c4a26",
   "metadata": {},
   "source": [
    "**Conclusiones:**\n",
    "- Cuanto mas cantidad de following tenga un cuenta, mas probabilidades tiene de ser falsa. \n",
    "- Cuanto mas cantidad de uso de hashtags promocionales tenga una cuenta, mas probabilidades tiene de ser falsa. \n",
    "- Cuanto mas porcentaje de publicaciones con ubicación tenga una cuenta, mas probabilidades tiene de ser real. \n",
    "- Si la variable external_URL es 0, mas probabilidades hay de que la cuenta sea falsa. En cambio si es 1 de que sea real.\n"
   ]
  },
  {
   "cell_type": "markdown",
   "id": "5a4aff6a",
   "metadata": {},
   "source": [
    "### **K NEAREST NEIGHBORS**"
   ]
  },
  {
   "cell_type": "code",
   "execution_count": 13,
   "id": "f9943f8b",
   "metadata": {},
   "outputs": [],
   "source": [
    "from sklearn.neighbors import KNeighborsClassifier"
   ]
  },
  {
   "cell_type": "code",
   "execution_count": 14,
   "id": "f9416f4b",
   "metadata": {
    "scrolled": true
   },
   "outputs": [
    {
     "data": {
      "text/plain": [
       "'Knn'"
      ]
     },
     "metadata": {},
     "output_type": "display_data"
    },
    {
     "data": {
      "text/html": [
       "<div>\n",
       "<style scoped>\n",
       "    .dataframe tbody tr th:only-of-type {\n",
       "        vertical-align: middle;\n",
       "    }\n",
       "\n",
       "    .dataframe tbody tr th {\n",
       "        vertical-align: top;\n",
       "    }\n",
       "\n",
       "    .dataframe thead th {\n",
       "        text-align: right;\n",
       "    }\n",
       "</style>\n",
       "<table border=\"1\" class=\"dataframe\">\n",
       "  <thead>\n",
       "    <tr style=\"text-align: right;\">\n",
       "      <th></th>\n",
       "      <th>Accuracy</th>\n",
       "      <th>Precision</th>\n",
       "      <th>Recall</th>\n",
       "      <th>F1</th>\n",
       "    </tr>\n",
       "  </thead>\n",
       "  <tbody>\n",
       "    <tr>\n",
       "      <th>train</th>\n",
       "      <td>0.852047</td>\n",
       "      <td>0.839684</td>\n",
       "      <td>0.869283</td>\n",
       "      <td>0.854227</td>\n",
       "    </tr>\n",
       "    <tr>\n",
       "      <th>validation</th>\n",
       "      <td>0.823728</td>\n",
       "      <td>0.808319</td>\n",
       "      <td>0.844180</td>\n",
       "      <td>0.825860</td>\n",
       "    </tr>\n",
       "  </tbody>\n",
       "</table>\n",
       "</div>"
      ],
      "text/plain": [
       "            Accuracy  Precision    Recall        F1\n",
       "train       0.852047   0.839684  0.869283  0.854227\n",
       "validation  0.823728   0.808319  0.844180  0.825860"
      ]
     },
     "metadata": {},
     "output_type": "display_data"
    },
    {
     "data": {
      "image/png": "[encoded data removed]",
      "text/plain": [
       "<Figure size 1080x216 with 2 Axes>"
      ]
     },
     "metadata": {
      "needs_background": "light"
     },
     "output_type": "display_data"
    }
   ],
   "source": [
    "K = 10\n",
    "\n",
    "model_knn = Pipeline([\n",
    "    ('mapper', mapper),\n",
    "    ('imputer', IterativeImputer(random_state=42)),\n",
    "    ('classifier', KNeighborsClassifier(n_neighbors=K)),\n",
    "])\n",
    "\n",
    "model_knn.fit(train, train.user_class)\n",
    "\n",
    "evaluate_model(model_knn, title='Knn')"
   ]
  },
  {
   "cell_type": "markdown",
   "id": "1ee83c7f",
   "metadata": {},
   "source": [
    "Observamos que en validation obtuvimos en Train un **84% de acierto** en las predicciones del modelo y en Validation **81%**"
   ]
  },
  {
   "cell_type": "markdown",
   "id": "5cd05985",
   "metadata": {},
   "source": [
    "### **ÁRBOLES DE DECISIÓN**"
   ]
  },
  {
   "cell_type": "code",
   "execution_count": 15,
   "id": "f076c604",
   "metadata": {},
   "outputs": [],
   "source": [
    "from sklearn.tree import DecisionTreeClassifier\n",
    "from sklearn.preprocessing import LabelBinarizer"
   ]
  },
  {
   "cell_type": "code",
   "execution_count": 16,
   "id": "45a2e8d2",
   "metadata": {
    "scrolled": true
   },
   "outputs": [
    {
     "data": {
      "text/plain": [
       "'Decision Tree'"
      ]
     },
     "metadata": {},
     "output_type": "display_data"
    },
    {
     "data": {
      "text/html": [
       "<div>\n",
       "<style scoped>\n",
       "    .dataframe tbody tr th:only-of-type {\n",
       "        vertical-align: middle;\n",
       "    }\n",
       "\n",
       "    .dataframe tbody tr th {\n",
       "        vertical-align: top;\n",
       "    }\n",
       "\n",
       "    .dataframe thead th {\n",
       "        text-align: right;\n",
       "    }\n",
       "</style>\n",
       "<table border=\"1\" class=\"dataframe\">\n",
       "  <thead>\n",
       "    <tr style=\"text-align: right;\">\n",
       "      <th></th>\n",
       "      <th>Accuracy</th>\n",
       "      <th>Precision</th>\n",
       "      <th>Recall</th>\n",
       "      <th>F1</th>\n",
       "    </tr>\n",
       "  </thead>\n",
       "  <tbody>\n",
       "    <tr>\n",
       "      <th>train</th>\n",
       "      <td>1.000000</td>\n",
       "      <td>1.000000</td>\n",
       "      <td>1.000000</td>\n",
       "      <td>1.000000</td>\n",
       "    </tr>\n",
       "    <tr>\n",
       "      <th>validation</th>\n",
       "      <td>0.857865</td>\n",
       "      <td>0.858855</td>\n",
       "      <td>0.853146</td>\n",
       "      <td>0.855991</td>\n",
       "    </tr>\n",
       "  </tbody>\n",
       "</table>\n",
       "</div>"
      ],
      "text/plain": [
       "            Accuracy  Precision    Recall        F1\n",
       "train       1.000000   1.000000  1.000000  1.000000\n",
       "validation  0.857865   0.858855  0.853146  0.855991"
      ]
     },
     "metadata": {},
     "output_type": "display_data"
    },
    {
     "data": {
      "image/png": "[encoded data removed]",
      "text/plain": [
       "<Figure size 1080x216 with 2 Axes>"
      ]
     },
     "metadata": {
      "needs_background": "light"
     },
     "output_type": "display_data"
    }
   ],
   "source": [
    "model_tree = Pipeline([\n",
    "    ('mapper', mapper),\n",
    "    ('imputer', IterativeImputer(random_state=42)),\n",
    "    ('classifier', DecisionTreeClassifier(random_state=42)),\n",
    "])\n",
    "\n",
    "model_tree.fit(train, train.user_class)\n",
    "\n",
    "evaluate_model(model_tree, title='Decision Tree')"
   ]
  },
  {
   "cell_type": "markdown",
   "id": "8bd0a4d8",
   "metadata": {},
   "source": [
    "Podemos observar que **en train el algorítmo acertó casi todos los casos**. Sin embargo en validation observamos que si tuvo fallas a la hora de predecir por lo que entendemos que en train está haciendo **overfiting.** \n",
    "\n",
    "Por lo cual agregamos un valor de máxima profundidad: "
   ]
  },
  {
   "cell_type": "code",
   "execution_count": 17,
   "id": "a1035639",
   "metadata": {
    "scrolled": true
   },
   "outputs": [
    {
     "data": {
      "text/plain": [
       "'Decision Tree'"
      ]
     },
     "metadata": {},
     "output_type": "display_data"
    },
    {
     "data": {
      "text/html": [
       "<div>\n",
       "<style scoped>\n",
       "    .dataframe tbody tr th:only-of-type {\n",
       "        vertical-align: middle;\n",
       "    }\n",
       "\n",
       "    .dataframe tbody tr th {\n",
       "        vertical-align: top;\n",
       "    }\n",
       "\n",
       "    .dataframe thead th {\n",
       "        text-align: right;\n",
       "    }\n",
       "</style>\n",
       "<table border=\"1\" class=\"dataframe\">\n",
       "  <thead>\n",
       "    <tr style=\"text-align: right;\">\n",
       "      <th></th>\n",
       "      <th>Accuracy</th>\n",
       "      <th>Precision</th>\n",
       "      <th>Recall</th>\n",
       "      <th>F1</th>\n",
       "    </tr>\n",
       "  </thead>\n",
       "  <tbody>\n",
       "    <tr>\n",
       "      <th>train</th>\n",
       "      <td>0.909912</td>\n",
       "      <td>0.867704</td>\n",
       "      <td>0.966745</td>\n",
       "      <td>0.914551</td>\n",
       "    </tr>\n",
       "    <tr>\n",
       "      <th>validation</th>\n",
       "      <td>0.886797</td>\n",
       "      <td>0.843569</td>\n",
       "      <td>0.946978</td>\n",
       "      <td>0.892288</td>\n",
       "    </tr>\n",
       "  </tbody>\n",
       "</table>\n",
       "</div>"
      ],
      "text/plain": [
       "            Accuracy  Precision    Recall        F1\n",
       "train       0.909912   0.867704  0.966745  0.914551\n",
       "validation  0.886797   0.843569  0.946978  0.892288"
      ]
     },
     "metadata": {},
     "output_type": "display_data"
    },
    {
     "data": {
      "image/png": "[encoded data removed]",
      "text/plain": [
       "<Figure size 1080x216 with 2 Axes>"
      ]
     },
     "metadata": {
      "needs_background": "light"
     },
     "output_type": "display_data"
    }
   ],
   "source": [
    "model_tree_maxdepth = Pipeline([\n",
    "    ('mapper', mapper),\n",
    "    ('imputer', IterativeImputer(random_state=42)),\n",
    "    ('classifier', DecisionTreeClassifier(max_depth = 10, random_state=42)),\n",
    "])\n",
    "\n",
    "model_tree_maxdepth.fit(train, train.user_class)\n",
    "\n",
    "evaluate_model(model_tree_maxdepth, title='Decision Tree')"
   ]
  },
  {
   "cell_type": "markdown",
   "id": "9b5285b2",
   "metadata": {},
   "source": [
    "Agregando un límite de profundidad obtuvimos mejores resultados con **84% de precision** en train"
   ]
  },
  {
   "cell_type": "markdown",
   "id": "0a4c04fb",
   "metadata": {},
   "source": [
    "### **RANDOM FOREST**"
   ]
  },
  {
   "cell_type": "code",
   "execution_count": 18,
   "id": "6dcccc66",
   "metadata": {},
   "outputs": [],
   "source": [
    "from sklearn.ensemble import RandomForestClassifier"
   ]
  },
  {
   "cell_type": "code",
   "execution_count": 19,
   "id": "4001da7f",
   "metadata": {
    "scrolled": false
   },
   "outputs": [
    {
     "data": {
      "text/plain": [
       "'Random Forest'"
      ]
     },
     "metadata": {},
     "output_type": "display_data"
    },
    {
     "data": {
      "text/html": [
       "<div>\n",
       "<style scoped>\n",
       "    .dataframe tbody tr th:only-of-type {\n",
       "        vertical-align: middle;\n",
       "    }\n",
       "\n",
       "    .dataframe tbody tr th {\n",
       "        vertical-align: top;\n",
       "    }\n",
       "\n",
       "    .dataframe thead th {\n",
       "        text-align: right;\n",
       "    }\n",
       "</style>\n",
       "<table border=\"1\" class=\"dataframe\">\n",
       "  <thead>\n",
       "    <tr style=\"text-align: right;\">\n",
       "      <th></th>\n",
       "      <th>Accuracy</th>\n",
       "      <th>Precision</th>\n",
       "      <th>Recall</th>\n",
       "      <th>F1</th>\n",
       "    </tr>\n",
       "  </thead>\n",
       "  <tbody>\n",
       "    <tr>\n",
       "      <th>train</th>\n",
       "      <td>1.00000</td>\n",
       "      <td>1.000000</td>\n",
       "      <td>1.00000</td>\n",
       "      <td>1.000000</td>\n",
       "    </tr>\n",
       "    <tr>\n",
       "      <th>validation</th>\n",
       "      <td>0.89667</td>\n",
       "      <td>0.854649</td>\n",
       "      <td>0.95347</td>\n",
       "      <td>0.901359</td>\n",
       "    </tr>\n",
       "  </tbody>\n",
       "</table>\n",
       "</div>"
      ],
      "text/plain": [
       "            Accuracy  Precision   Recall        F1\n",
       "train        1.00000   1.000000  1.00000  1.000000\n",
       "validation   0.89667   0.854649  0.95347  0.901359"
      ]
     },
     "metadata": {},
     "output_type": "display_data"
    },
    {
     "data": {
      "image/png": "[encoded data removed]",
      "text/plain": [
       "<Figure size 1080x216 with 2 Axes>"
      ]
     },
     "metadata": {
      "needs_background": "light"
     },
     "output_type": "display_data"
    }
   ],
   "source": [
    "forest_model = RandomForestClassifier(random_state=42)\n",
    "\n",
    "model_rf = Pipeline([\n",
    "    ('mapper', mapper),\n",
    "    ('imputer', IterativeImputer(random_state=42)),\n",
    "    ('classifier', forest_model),\n",
    "])\n",
    "\n",
    "model_rf.fit(train, train.user_class)\n",
    "\n",
    "evaluate_model(model_rf, title='Random Forest')"
   ]
  },
  {
   "cell_type": "markdown",
   "id": "802ef1f1",
   "metadata": {},
   "source": [
    "Observamos que al no indicar un límite de profundidad y cantidad de estimadores obtenemos una precisión de 1, por lo que entendemos que el algorítmo **está sobreentrenando.** "
   ]
  },
  {
   "cell_type": "code",
   "execution_count": 20,
   "id": "2436b310",
   "metadata": {
    "scrolled": true
   },
   "outputs": [
    {
     "data": {
      "text/plain": [
       "'Random Forest'"
      ]
     },
     "metadata": {},
     "output_type": "display_data"
    },
    {
     "data": {
      "text/html": [
       "<div>\n",
       "<style scoped>\n",
       "    .dataframe tbody tr th:only-of-type {\n",
       "        vertical-align: middle;\n",
       "    }\n",
       "\n",
       "    .dataframe tbody tr th {\n",
       "        vertical-align: top;\n",
       "    }\n",
       "\n",
       "    .dataframe thead th {\n",
       "        text-align: right;\n",
       "    }\n",
       "</style>\n",
       "<table border=\"1\" class=\"dataframe\">\n",
       "  <thead>\n",
       "    <tr style=\"text-align: right;\">\n",
       "      <th></th>\n",
       "      <th>Accuracy</th>\n",
       "      <th>Precision</th>\n",
       "      <th>Recall</th>\n",
       "      <th>F1</th>\n",
       "    </tr>\n",
       "  </thead>\n",
       "  <tbody>\n",
       "    <tr>\n",
       "      <th>train</th>\n",
       "      <td>0.911213</td>\n",
       "      <td>0.854627</td>\n",
       "      <td>0.990433</td>\n",
       "      <td>0.917532</td>\n",
       "    </tr>\n",
       "    <tr>\n",
       "      <th>validation</th>\n",
       "      <td>0.890700</td>\n",
       "      <td>0.833708</td>\n",
       "      <td>0.973412</td>\n",
       "      <td>0.898160</td>\n",
       "    </tr>\n",
       "  </tbody>\n",
       "</table>\n",
       "</div>"
      ],
      "text/plain": [
       "            Accuracy  Precision    Recall        F1\n",
       "train       0.911213   0.854627  0.990433  0.917532\n",
       "validation  0.890700   0.833708  0.973412  0.898160"
      ]
     },
     "metadata": {},
     "output_type": "display_data"
    },
    {
     "data": {
      "image/png": "[encoded data removed]",
      "text/plain": [
       "<Figure size 1080x216 with 2 Axes>"
      ]
     },
     "metadata": {
      "needs_background": "light"
     },
     "output_type": "display_data"
    }
   ],
   "source": [
    "forest_model_maxdepth = RandomForestClassifier(n_estimators=100, max_depth=10, max_features=5, random_state=42)\n",
    "\n",
    "model_rf_maxdepth = Pipeline([\n",
    "    ('mapper', mapper),\n",
    "    ('imputer', IterativeImputer(random_state=42)),\n",
    "    ('classifier', forest_model_maxdepth),\n",
    "])\n",
    "\n",
    "model_rf_maxdepth.fit(train, train.user_class)\n",
    "\n",
    "evaluate_model(model_rf_maxdepth, title='Random Forest')\n"
   ]
  },
  {
   "cell_type": "markdown",
   "id": "e3d99d09",
   "metadata": {},
   "source": [
    "Observamos que, para un valor de **100 arboles** y un **limite de profudidad de 10,** obtenemos un **85% de precisión** en Train y un **83%** en Validation. \n"
   ]
  },
  {
   "cell_type": "markdown",
   "id": "1bce40fc",
   "metadata": {},
   "source": [
    "### **GRADIENT BOOSTED TREES**"
   ]
  },
  {
   "cell_type": "code",
   "execution_count": 21,
   "id": "01df033d",
   "metadata": {},
   "outputs": [],
   "source": [
    "from sklearn.ensemble import GradientBoostingClassifier"
   ]
  },
  {
   "cell_type": "code",
   "execution_count": 22,
   "id": "4080df87",
   "metadata": {},
   "outputs": [
    {
     "data": {
      "text/plain": [
       "'Gradient Boosting'"
      ]
     },
     "metadata": {},
     "output_type": "display_data"
    },
    {
     "data": {
      "text/html": [
       "<div>\n",
       "<style scoped>\n",
       "    .dataframe tbody tr th:only-of-type {\n",
       "        vertical-align: middle;\n",
       "    }\n",
       "\n",
       "    .dataframe tbody tr th {\n",
       "        vertical-align: top;\n",
       "    }\n",
       "\n",
       "    .dataframe thead th {\n",
       "        text-align: right;\n",
       "    }\n",
       "</style>\n",
       "<table border=\"1\" class=\"dataframe\">\n",
       "  <thead>\n",
       "    <tr style=\"text-align: right;\">\n",
       "      <th></th>\n",
       "      <th>Accuracy</th>\n",
       "      <th>Precision</th>\n",
       "      <th>Recall</th>\n",
       "      <th>F1</th>\n",
       "    </tr>\n",
       "  </thead>\n",
       "  <tbody>\n",
       "    <tr>\n",
       "      <th>train</th>\n",
       "      <td>0.904044</td>\n",
       "      <td>0.859977</td>\n",
       "      <td>0.964647</td>\n",
       "      <td>0.909310</td>\n",
       "    </tr>\n",
       "    <tr>\n",
       "      <th>validation</th>\n",
       "      <td>0.894221</td>\n",
       "      <td>0.848377</td>\n",
       "      <td>0.957490</td>\n",
       "      <td>0.899637</td>\n",
       "    </tr>\n",
       "  </tbody>\n",
       "</table>\n",
       "</div>"
      ],
      "text/plain": [
       "            Accuracy  Precision    Recall        F1\n",
       "train       0.904044   0.859977  0.964647  0.909310\n",
       "validation  0.894221   0.848377  0.957490  0.899637"
      ]
     },
     "metadata": {},
     "output_type": "display_data"
    },
    {
     "data": {
      "image/png": "[encoded data removed]",
      "text/plain": [
       "<Figure size 1080x216 with 2 Axes>"
      ]
     },
     "metadata": {
      "needs_background": "light"
     },
     "output_type": "display_data"
    }
   ],
   "source": [
    "boost_model = GradientBoostingClassifier(random_state=42)\n",
    "\n",
    "model_gradient_boosted = Pipeline([\n",
    "    ('mapper', mapper),\n",
    "    ('imputer', IterativeImputer(random_state=42)),\n",
    "    ('classifier', boost_model),\n",
    "])\n",
    "\n",
    "model_gradient_boosted.fit(train, train.user_class)\n",
    "\n",
    "evaluate_model(model_gradient_boosted, title='Gradient Boosting')"
   ]
  },
  {
   "cell_type": "markdown",
   "id": "e2bc0856",
   "metadata": {},
   "source": [
    "Observamos que en validation obtuvimos un **85%** en Train y **84%** en Validation. "
   ]
  },
  {
   "cell_type": "markdown",
   "id": "b9b4d25b",
   "metadata": {},
   "source": [
    "### EVITANDO OVERFITING"
   ]
  },
  {
   "cell_type": "markdown",
   "id": "c85ec3d0",
   "metadata": {},
   "source": [
    "En primer lugar, para identificar si un algoritmo estaba sobreentrenando calculabamos la **matriz de confusión** y observabamos los valores resultantes. Los casos de Train donde los valores eran muy pequeños o 0 nos indicaban que existía overfitting. Al mismo tiempo, en la evaluación de estos algoritmos obteniamos una **precisión del 100%**, lo que también nos indicaba que los algortimos estaban sobreentrenando.\n",
    "\n",
    "Para evitar el overfitting en estos casos indicamos: \n",
    "- Cantidad de vecinos en KNN\n",
    "- Límite de profundidad en Arboles de Decision \n",
    "- Límite de profundidad en Random Forest\n",
    "\n",
    "Ahora bien para saber cuál debería ser la cantidad de vecinos o máxima profundidad mas apropiada para indicarle a los modelos, graficamos las **curvas de aprendizaje** y a partir de ello seleccionamos el valor mas eficiente.\n"
   ]
  },
  {
   "cell_type": "markdown",
   "id": "28ae8a35",
   "metadata": {},
   "source": [
    "#### Curva para KNN"
   ]
  },
  {
   "cell_type": "code",
   "execution_count": 24,
   "id": "96494dfe",
   "metadata": {},
   "outputs": [
    {
     "data": {
      "image/png": "[encoded data removed]",
      "text/plain": [
       "<Figure size 432x288 with 1 Axes>"
      ]
     },
     "metadata": {
      "needs_background": "light"
     },
     "output_type": "display_data"
    }
   ],
   "source": [
    "train_prec =  []\n",
    "eval_prec = []\n",
    "max_k = list(range(1, 21))\n",
    "\n",
    "for k in max_k:\n",
    "    \n",
    "    model_knn_curva = Pipeline([\n",
    "    ('mapper', mapper),\n",
    "    ('imputer', IterativeImputer(random_state=42)),\n",
    "    ('classifier', KNeighborsClassifier(n_neighbors=k)),\n",
    "    ])\n",
    "    \n",
    "    knn=model_knn_curva    \n",
    "    knn=knn.fit(train, train.user_class)    \n",
    "    train_prec.append(knn.score(train, train.user_class))\n",
    "    # print(knn.score(train, train.user_class))\n",
    "    eval_prec.append(knn.score(validation, validation.user_class))\n",
    "\n",
    "# graficar los resultados.\n",
    "plt.plot(max_k, train_prec, color='r', label='Train')\n",
    "plt.plot(max_k, eval_prec, color='b', label='Validation')\n",
    "plt.title('Grafico KNN')\n",
    "plt.legend()\n",
    "plt.ylabel('precision')\n",
    "plt.xlabel('cant de nodos')\n",
    "plt.show()"
   ]
  },
  {
   "cell_type": "markdown",
   "id": "662a7829",
   "metadata": {},
   "source": [
    "El valor de k mas eficiente se debe encontrar entre 5 y 10. A partir de 10 la curva de aprendizaje se estanca y el algoritmo deja de aprender."
   ]
  },
  {
   "cell_type": "markdown",
   "id": "9c65dcae",
   "metadata": {},
   "source": [
    "#### Curva para Arboles de decisión "
   ]
  },
  {
   "cell_type": "code",
   "execution_count": 26,
   "id": "eb1a5600",
   "metadata": {
    "scrolled": true
   },
   "outputs": [
    {
     "data": {
      "image/png": "[encoded data removed]",
      "text/plain": [
       "<Figure size 432x288 with 1 Axes>"
      ]
     },
     "metadata": {
      "needs_background": "light"
     },
     "output_type": "display_data"
    }
   ],
   "source": [
    "train_prec =  []\n",
    "eval_prec = []\n",
    "max_deep_list = list(range(1, 21))\n",
    "\n",
    "for deep in max_deep_list:\n",
    "    \n",
    "    model_tree_maxdepth_curva = Pipeline([\n",
    "    ('mapper', mapper),\n",
    "    ('imputer', IterativeImputer(random_state=42)),\n",
    "    ('classifier', DecisionTreeClassifier(max_depth = deep, random_state=42)),\n",
    "    ])\n",
    "     \n",
    "    arbol_tree=model_tree_maxdepth_curva    \n",
    "    arbol_tree=arbol_tree.fit(train, train.user_class)    \n",
    "    train_prec.append(arbol_tree.score(train, train.user_class))\n",
    "    #print(arbol_tree.score(train, train.user_class))\n",
    "    eval_prec.append(arbol_tree.score(validation, validation.user_class))\n",
    "\n",
    "# graficar los resultados.\n",
    "plt.plot(max_deep_list, train_prec, color='r', label='Train')\n",
    "plt.plot(max_deep_list, eval_prec, color='b', label='Validation')\n",
    "plt.title('Grafico arbol de decision')\n",
    "plt.legend()\n",
    "plt.ylabel('precision')\n",
    "plt.xlabel('cant de nodos')\n",
    "plt.show()"
   ]
  },
  {
   "cell_type": "markdown",
   "id": "1f43440e",
   "metadata": {},
   "source": [
    "En el gráfico observamos que entre los valores 5 y 7,5 las curvas se van separando, y a su vez a partir de 10 la curva de validation comienza a caer por lo que a partir de ese momento podemos inferir que el modelo esta sobreentrenando, ya que en los casos nuevos no está acertado las predicciones. Lo que ocurre es que mientras en train va acertando cada vez mas la predicciones en validation va errando."
   ]
  },
  {
   "cell_type": "markdown",
   "id": "2333bf89",
   "metadata": {},
   "source": [
    "#### Curva para Random forest"
   ]
  },
  {
   "cell_type": "code",
   "execution_count": 27,
   "id": "3eabb127",
   "metadata": {
    "scrolled": true
   },
   "outputs": [
    {
     "data": {
      "image/png": "[encoded data removed]",
      "text/plain": [
       "<Figure size 432x288 with 1 Axes>"
      ]
     },
     "metadata": {
      "needs_background": "light"
     },
     "output_type": "display_data"
    }
   ],
   "source": [
    "train_prec =  []\n",
    "eval_prec = []\n",
    "max_deep_list = list(range(1, 21))\n",
    "\n",
    "for deep in max_deep_list:\n",
    "    \n",
    "    forest_model_maxdepth_curva = RandomForestClassifier(n_estimators=100, max_depth=deep, max_features=5, random_state=42)\n",
    "\n",
    "    model_rf_maxdepth_curva = Pipeline([\n",
    "    ('mapper', mapper),\n",
    "    ('imputer', IterativeImputer(random_state=42)),\n",
    "    ('classifier', forest_model_maxdepth_curva),\n",
    "    ])\n",
    "    \n",
    "    arbol_rf=model_rf_maxdepth_curva    \n",
    "    arbol_rf=arbol_rf.fit(train, train.user_class)    \n",
    "    train_prec.append(arbol_rf.score(train, train.user_class))\n",
    "    #print(arbol_rf.score(train, train.user_class))\n",
    "    eval_prec.append(arbol_rf.score(validation, validation.user_class))\n",
    "\n",
    "# graficar los resultados.\n",
    "plt.plot(max_deep_list, train_prec, color='r', label='Train')\n",
    "plt.plot(max_deep_list, eval_prec, color='b', label='Validation')\n",
    "plt.title('Grafico Random Forest')\n",
    "plt.legend()\n",
    "plt.ylabel('precision')\n",
    "plt.xlabel('cant de nodos')\n",
    "plt.show()"
   ]
  },
  {
   "cell_type": "markdown",
   "id": "98a305ed",
   "metadata": {},
   "source": [
    "A medida que avanzan las iteraciones, observamos que la métrica en validation no mejora. A partir del valor 10 aproximadamente la curva se estanca."
   ]
  },
  {
   "cell_type": "markdown",
   "id": "3118f460",
   "metadata": {},
   "source": [
    "### EVALUACIÓN FINAL DE MODELOS - VALOR FINAL DE LA MÉTRICA"
   ]
  },
  {
   "cell_type": "code",
   "execution_count": 28,
   "id": "0a233e13",
   "metadata": {
    "scrolled": false
   },
   "outputs": [
    {
     "data": {
      "text/plain": [
       "'Regresión Logística'"
      ]
     },
     "metadata": {},
     "output_type": "display_data"
    },
    {
     "data": {
      "text/html": [
       "<div>\n",
       "<style scoped>\n",
       "    .dataframe tbody tr th:only-of-type {\n",
       "        vertical-align: middle;\n",
       "    }\n",
       "\n",
       "    .dataframe tbody tr th {\n",
       "        vertical-align: top;\n",
       "    }\n",
       "\n",
       "    .dataframe thead th {\n",
       "        text-align: right;\n",
       "    }\n",
       "</style>\n",
       "<table border=\"1\" class=\"dataframe\">\n",
       "  <thead>\n",
       "    <tr style=\"text-align: right;\">\n",
       "      <th></th>\n",
       "      <th>Accuracy</th>\n",
       "      <th>Precision</th>\n",
       "      <th>Recall</th>\n",
       "      <th>F1</th>\n",
       "    </tr>\n",
       "  </thead>\n",
       "  <tbody>\n",
       "    <tr>\n",
       "      <th>train</th>\n",
       "      <td>0.810103</td>\n",
       "      <td>0.795873</td>\n",
       "      <td>0.832805</td>\n",
       "      <td>0.813920</td>\n",
       "    </tr>\n",
       "    <tr>\n",
       "      <th>validation</th>\n",
       "      <td>0.805817</td>\n",
       "      <td>0.787848</td>\n",
       "      <td>0.831813</td>\n",
       "      <td>0.809234</td>\n",
       "    </tr>\n",
       "    <tr>\n",
       "      <th>test</th>\n",
       "      <td>0.805985</td>\n",
       "      <td>0.788859</td>\n",
       "      <td>0.828394</td>\n",
       "      <td>0.808143</td>\n",
       "    </tr>\n",
       "  </tbody>\n",
       "</table>\n",
       "</div>"
      ],
      "text/plain": [
       "            Accuracy  Precision    Recall        F1\n",
       "train       0.810103   0.795873  0.832805  0.813920\n",
       "validation  0.805817   0.787848  0.831813  0.809234\n",
       "test        0.805985   0.788859  0.828394  0.808143"
      ]
     },
     "metadata": {},
     "output_type": "display_data"
    },
    {
     "data": {
      "text/plain": [
       "'KNN'"
      ]
     },
     "metadata": {},
     "output_type": "display_data"
    },
    {
     "data": {
      "text/html": [
       "<div>\n",
       "<style scoped>\n",
       "    .dataframe tbody tr th:only-of-type {\n",
       "        vertical-align: middle;\n",
       "    }\n",
       "\n",
       "    .dataframe tbody tr th {\n",
       "        vertical-align: top;\n",
       "    }\n",
       "\n",
       "    .dataframe thead th {\n",
       "        text-align: right;\n",
       "    }\n",
       "</style>\n",
       "<table border=\"1\" class=\"dataframe\">\n",
       "  <thead>\n",
       "    <tr style=\"text-align: right;\">\n",
       "      <th></th>\n",
       "      <th>Accuracy</th>\n",
       "      <th>Precision</th>\n",
       "      <th>Recall</th>\n",
       "      <th>F1</th>\n",
       "    </tr>\n",
       "  </thead>\n",
       "  <tbody>\n",
       "    <tr>\n",
       "      <th>train</th>\n",
       "      <td>0.852047</td>\n",
       "      <td>0.839684</td>\n",
       "      <td>0.869283</td>\n",
       "      <td>0.854227</td>\n",
       "    </tr>\n",
       "    <tr>\n",
       "      <th>validation</th>\n",
       "      <td>0.823728</td>\n",
       "      <td>0.808319</td>\n",
       "      <td>0.844180</td>\n",
       "      <td>0.825860</td>\n",
       "    </tr>\n",
       "    <tr>\n",
       "      <th>test</th>\n",
       "      <td>0.826343</td>\n",
       "      <td>0.808876</td>\n",
       "      <td>0.848410</td>\n",
       "      <td>0.828171</td>\n",
       "    </tr>\n",
       "  </tbody>\n",
       "</table>\n",
       "</div>"
      ],
      "text/plain": [
       "            Accuracy  Precision    Recall        F1\n",
       "train       0.852047   0.839684  0.869283  0.854227\n",
       "validation  0.823728   0.808319  0.844180  0.825860\n",
       "test        0.826343   0.808876  0.848410  0.828171"
      ]
     },
     "metadata": {},
     "output_type": "display_data"
    },
    {
     "data": {
      "text/plain": [
       "'Arbol de decisión'"
      ]
     },
     "metadata": {},
     "output_type": "display_data"
    },
    {
     "data": {
      "text/html": [
       "<div>\n",
       "<style scoped>\n",
       "    .dataframe tbody tr th:only-of-type {\n",
       "        vertical-align: middle;\n",
       "    }\n",
       "\n",
       "    .dataframe tbody tr th {\n",
       "        vertical-align: top;\n",
       "    }\n",
       "\n",
       "    .dataframe thead th {\n",
       "        text-align: right;\n",
       "    }\n",
       "</style>\n",
       "<table border=\"1\" class=\"dataframe\">\n",
       "  <thead>\n",
       "    <tr style=\"text-align: right;\">\n",
       "      <th></th>\n",
       "      <th>Accuracy</th>\n",
       "      <th>Precision</th>\n",
       "      <th>Recall</th>\n",
       "      <th>F1</th>\n",
       "    </tr>\n",
       "  </thead>\n",
       "  <tbody>\n",
       "    <tr>\n",
       "      <th>train</th>\n",
       "      <td>0.909912</td>\n",
       "      <td>0.867704</td>\n",
       "      <td>0.966745</td>\n",
       "      <td>0.914551</td>\n",
       "    </tr>\n",
       "    <tr>\n",
       "      <th>validation</th>\n",
       "      <td>0.886797</td>\n",
       "      <td>0.843569</td>\n",
       "      <td>0.946978</td>\n",
       "      <td>0.892288</td>\n",
       "    </tr>\n",
       "    <tr>\n",
       "      <th>test</th>\n",
       "      <td>0.888948</td>\n",
       "      <td>0.847868</td>\n",
       "      <td>0.944298</td>\n",
       "      <td>0.893489</td>\n",
       "    </tr>\n",
       "  </tbody>\n",
       "</table>\n",
       "</div>"
      ],
      "text/plain": [
       "            Accuracy  Precision    Recall        F1\n",
       "train       0.909912   0.867704  0.966745  0.914551\n",
       "validation  0.886797   0.843569  0.946978  0.892288\n",
       "test        0.888948   0.847868  0.944298  0.893489"
      ]
     },
     "metadata": {},
     "output_type": "display_data"
    },
    {
     "data": {
      "text/plain": [
       "'Random Forest'"
      ]
     },
     "metadata": {},
     "output_type": "display_data"
    },
    {
     "data": {
      "text/html": [
       "<div>\n",
       "<style scoped>\n",
       "    .dataframe tbody tr th:only-of-type {\n",
       "        vertical-align: middle;\n",
       "    }\n",
       "\n",
       "    .dataframe tbody tr th {\n",
       "        vertical-align: top;\n",
       "    }\n",
       "\n",
       "    .dataframe thead th {\n",
       "        text-align: right;\n",
       "    }\n",
       "</style>\n",
       "<table border=\"1\" class=\"dataframe\">\n",
       "  <thead>\n",
       "    <tr style=\"text-align: right;\">\n",
       "      <th></th>\n",
       "      <th>Accuracy</th>\n",
       "      <th>Precision</th>\n",
       "      <th>Recall</th>\n",
       "      <th>F1</th>\n",
       "    </tr>\n",
       "  </thead>\n",
       "  <tbody>\n",
       "    <tr>\n",
       "      <th>train</th>\n",
       "      <td>0.911213</td>\n",
       "      <td>0.854627</td>\n",
       "      <td>0.990433</td>\n",
       "      <td>0.917532</td>\n",
       "    </tr>\n",
       "    <tr>\n",
       "      <th>validation</th>\n",
       "      <td>0.890700</td>\n",
       "      <td>0.833708</td>\n",
       "      <td>0.973412</td>\n",
       "      <td>0.898160</td>\n",
       "    </tr>\n",
       "    <tr>\n",
       "      <th>test</th>\n",
       "      <td>0.894459</td>\n",
       "      <td>0.838275</td>\n",
       "      <td>0.973933</td>\n",
       "      <td>0.901026</td>\n",
       "    </tr>\n",
       "  </tbody>\n",
       "</table>\n",
       "</div>"
      ],
      "text/plain": [
       "            Accuracy  Precision    Recall        F1\n",
       "train       0.911213   0.854627  0.990433  0.917532\n",
       "validation  0.890700   0.833708  0.973412  0.898160\n",
       "test        0.894459   0.838275  0.973933  0.901026"
      ]
     },
     "metadata": {},
     "output_type": "display_data"
    },
    {
     "data": {
      "text/plain": [
       "'Gradient Boosting'"
      ]
     },
     "metadata": {},
     "output_type": "display_data"
    },
    {
     "data": {
      "text/html": [
       "<div>\n",
       "<style scoped>\n",
       "    .dataframe tbody tr th:only-of-type {\n",
       "        vertical-align: middle;\n",
       "    }\n",
       "\n",
       "    .dataframe tbody tr th {\n",
       "        vertical-align: top;\n",
       "    }\n",
       "\n",
       "    .dataframe thead th {\n",
       "        text-align: right;\n",
       "    }\n",
       "</style>\n",
       "<table border=\"1\" class=\"dataframe\">\n",
       "  <thead>\n",
       "    <tr style=\"text-align: right;\">\n",
       "      <th></th>\n",
       "      <th>Accuracy</th>\n",
       "      <th>Precision</th>\n",
       "      <th>Recall</th>\n",
       "      <th>F1</th>\n",
       "    </tr>\n",
       "  </thead>\n",
       "  <tbody>\n",
       "    <tr>\n",
       "      <th>train</th>\n",
       "      <td>0.904044</td>\n",
       "      <td>0.859977</td>\n",
       "      <td>0.964647</td>\n",
       "      <td>0.909310</td>\n",
       "    </tr>\n",
       "    <tr>\n",
       "      <th>validation</th>\n",
       "      <td>0.894221</td>\n",
       "      <td>0.848377</td>\n",
       "      <td>0.957490</td>\n",
       "      <td>0.899637</td>\n",
       "    </tr>\n",
       "    <tr>\n",
       "      <th>test</th>\n",
       "      <td>0.896449</td>\n",
       "      <td>0.850785</td>\n",
       "      <td>0.958107</td>\n",
       "      <td>0.901262</td>\n",
       "    </tr>\n",
       "  </tbody>\n",
       "</table>\n",
       "</div>"
      ],
      "text/plain": [
       "            Accuracy  Precision    Recall        F1\n",
       "train       0.904044   0.859977  0.964647  0.909310\n",
       "validation  0.894221   0.848377  0.957490  0.899637\n",
       "test        0.896449   0.850785  0.958107  0.901262"
      ]
     },
     "metadata": {},
     "output_type": "display_data"
    }
   ],
   "source": [
    "evaluate_model(model_lr, title='Regresión Logística', set_names=('train', 'validation','test'), show_cm=False)\n",
    "evaluate_model(model_knn, title='KNN', set_names=('train', 'validation','test'), show_cm=False)\n",
    "evaluate_model(model_tree_maxdepth, title='Arbol de decisión', set_names=('train', 'validation','test'), show_cm=False)\n",
    "evaluate_model(model_rf_maxdepth, title='Random Forest', set_names=('train', 'validation','test'), show_cm=False)\n",
    "evaluate_model(model_gradient_boosted, title='Gradient Boosting', set_names=('train', 'validation','test'), show_cm=False)"
   ]
  },
  {
   "cell_type": "markdown",
   "id": "8a9d6398",
   "metadata": {},
   "source": [
    "**Modelo elegido: Gradient Boosting**\n",
    "\n",
    "**Precision: 85%**"
   ]
  },
  {
   "cell_type": "markdown",
   "id": "f41e9b96",
   "metadata": {},
   "source": [
    "### Conclusión final"
   ]
  },
  {
   "cell_type": "markdown",
   "id": "16422177",
   "metadata": {},
   "source": [
    "Observando los resultados de las métricas para los modelos Regresion Logística, KNN y Arboles de decision, obtenemos que el mejor resultado para Precision es Arboles de Decisión ya que arroja un 84%. \n",
    "\n",
    "Por otro lado, comparando los resultados de todos los modelos, concluimos que **Arboles de decision, Random Forest y Gradient Boosting poseen resultados muy cercanos**, el mejor valor de precisión es el que devuelve **Gradient Boosting con 85%** por lo que es el modelo elegido. \n",
    "Por lo cual el modelo Gradient Boosting va a acertar un 85 % de las veces cuando prediga que una cuenta es falsa.\n"
   ]
  }
 ],
 "metadata": {
  "kernelspec": {
   "display_name": "Python 3",
   "language": "python",
   "name": "python3"
  },
  "language_info": {
   "codemirror_mode": {
    "name": "ipython",
    "version": 3
   },
   "file_extension": ".py",
   "mimetype": "text/x-python",
   "name": "python",
   "nbconvert_exporter": "python",
   "pygments_lexer": "ipython3",
   "version": "3.8.6"
  }
 },
 "nbformat": 4,
 "nbformat_minor": 5
}
